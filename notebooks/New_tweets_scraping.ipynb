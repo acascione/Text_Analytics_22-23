{
 "cells": [
  {
   "cell_type": "code",
   "execution_count": 5,
   "id": "1921e2a3",
   "metadata": {},
   "outputs": [],
   "source": [
    "%matplotlib inline\n",
    "\n",
    "import pandas as pd\n",
    "import snscrape.modules.twitter as sntwitter"
   ]
  },
  {
   "cell_type": "code",
   "execution_count": 6,
   "id": "6cca1e5c",
   "metadata": {},
   "outputs": [],
   "source": [
    "!pip install -q snscrape==0.5.0.20230113"
   ]
  },
  {
   "cell_type": "code",
   "execution_count": 7,
   "id": "e26463e5",
   "metadata": {},
   "outputs": [],
   "source": [
    "pd.set_option(\"display.max_rows\", None)\n",
    "pd.set_option(\"display.max_columns\", None)"
   ]
  },
  {
   "cell_type": "markdown",
   "id": "ba3bb166",
   "metadata": {},
   "source": [
    "## Extraction of the words to be used for the scraping"
   ]
  },
  {
   "cell_type": "markdown",
   "id": "46fff65f",
   "metadata": {},
   "source": [
    "### Most frequent words per category of misogyny"
   ]
  },
  {
   "cell_type": "code",
   "execution_count": 8,
   "id": "6a4ceff1",
   "metadata": {},
   "outputs": [],
   "source": [
    "# most common in dominance\n",
    "common_words_dominance = [('bitch', 39), ('women', 38), ('shut', 30), ('fuck', 28), ('get', 20), ('men', 18),\n",
    "                          ('like', 16), ('womensuck', 16), ('fucking', 15), ('skank', 13), ('cunt', 11),\n",
    "                          ('hoe', 11), ('woman', 11), ('rape', 11), ('whore', 10), ('man', 9), ('dick', 8), \n",
    "                          ('girl', 8), ('know', 8), ('ass', 8)]\n",
    "\n",
    "# most common in derailing\n",
    "common_words_derailing= [('rape', 57), ('women', 43), ('men', 24), ('bitch', 17), ('woman', 16), ('like', 12), ('whore', 12),\n",
    "                         ('want', 10), ('culture', 7), ('sexual', 6), ('get', 6), ('people', 6), ('fuck', 5), ('assault', 5),\n",
    "                         ('victim', 4), ('see', 4), ('man', 4), ('girl', 4), ('goes', 4), ('yesallmen', 4)]\n",
    "\n",
    "# most common in sexual harassment\n",
    "common_words_sexual_harassment = [('bitch', 156), ('dick', 71), ('ass', 56), ('cunt', 55), ('fuck', 49), ('like', 48), \n",
    "                                  ('rape', 42), ('whore', 42), ('women', 36), ('pussy', 30), ('cock', 29), ('suck', 28), \n",
    "                                  ('hoe', 27), ('woman', 24), ('get', 24), ('shit', 24), ('fucking', 23), ('girl', 22),\n",
    "                                  ('got', 21), ('make', 17)]\n",
    "\n",
    "# most common in discredit\n",
    "\n",
    "common_words_discredit = [('bitch', 534), ('whore', 185), ('women', 157), ('cunt', 148), ('hoe', 132), ('ass', 113), \n",
    "                          ('stupid', 106), ('like', 103), ('fuck', 90), ('fucking', 80), ('womensuck', 77), ('girl', 70), \n",
    "                          ('bitches', 67), ('slut', 66), ('get', 63), ('woman', 63), ('shit', 62), ('skank', 60),\n",
    "                          ('know', 57), ('one', 46)]\n",
    "\n",
    "# most common in stereotype\n",
    "common_words_stereotype=[('women', 59), ('woman', 34), ('hysterical', 33), ('bitch', 25), ('like', 20), ('womensuck', 18),\n",
    "                         ('hoe', 17), ('get', 15), ('good', 13), ('cunt', 13), ('girls', 13), ('men', 12), ('man', 11),\n",
    "                         ('always', 9), ('fat', 9), ('ugly', 8), ('know', 8), ('every', 8), ('girl', 8), ('much', 8)]"
   ]
  },
  {
   "cell_type": "markdown",
   "id": "85128d45",
   "metadata": {},
   "source": [
    "### Selection of the most significat words among the previous ones"
   ]
  },
  {
   "cell_type": "code",
   "execution_count": 9,
   "id": "aee4607f",
   "metadata": {},
   "outputs": [],
   "source": [
    "# most common in dominance\n",
    "common_words_dominance = [('bitch', 39), ('women', 38), ('shut', 30), ('fuck', 28), ('men', 18), ('womensuck', 16),\n",
    "                          ('fucking', 15), ('skank', 13), ('cunt', 11), ('hoe', 11), ('rape', 11), ('whore', 10), \n",
    "                          ('dick', 8), ('ass', 8)]\n",
    "\n",
    "# most common in derailing\n",
    "common_words_derailing= [('rape', 57), ('women', 43), ('men', 24), ('bitch', 17), ('whore', 12), ('sexual', 6), ('fuck', 5),\n",
    "                         ('assault', 5), ('victim', 4), ('yesallmen', 4)]\n",
    "\n",
    "# most common in sexual harassment\n",
    "common_words_sexual_harassment = [('bitch', 156), ('dick', 71), ('ass', 56), ('cunt', 55), ('fuck', 49), ('rape', 42), \n",
    "                                  ('whore', 42), ('women', 36), ('pussy', 30), ('cock', 29), ('suck', 28), ('hoe', 27), \n",
    "                                  ('shit', 24), ('fucking', 23)]\n",
    "\n",
    "# most common in discredit\n",
    "common_words_discredit = [('bitch', 534), ('whore', 185), ('women', 157), ('cunt', 148), ('hoe', 132), ('ass', 113), \n",
    "                          ('stupid', 106), ('fuck', 90), ('fucking', 80), ('womensuck', 77), ('bitches', 67), ('slut', 66), \n",
    "                          ('shit', 62), ('skank', 60)]\n",
    "\n",
    "# most common in stereotype\n",
    "common_words_stereotype=[('women', 59), ('hysterical', 33), ('bitch', 25), ('womensuck', 18), ('hoe', 17), ('cunt', 13),\n",
    "                         ('men', 12), ('fat', 9), ('ugly', 8)]"
   ]
  },
  {
   "cell_type": "markdown",
   "id": "c20225e7",
   "metadata": {},
   "source": [
    "### Creation of a general list comprising all the selected words\n"
   ]
  },
  {
   "cell_type": "code",
   "execution_count": 10,
   "id": "75108e91",
   "metadata": {},
   "outputs": [],
   "source": [
    "gen_list = [('bitch', 39), ('women', 38), ('shut', 30), ('fuck', 28), ('men', 18), ('womensuck', 16), ('fucking', 15), \n",
    "            ('skank', 13), ('cunt', 11), ('hoe', 11), ('rape', 11), ('whore', 10), ('dick', 8), ('ass', 8), ('sexual', 6),\n",
    "            ('assault', 5), ('victim', 4), ('yesallmen', 4), ('pussy', 30), ('cock', 29), ('suck', 28), ('shit', 24), \n",
    "            ('stupid', 106), ('bitches', 67), ('slut', 66), ('hysterical', 33), ('fat', 9), ('ugly', 8)]"
   ]
  },
  {
   "cell_type": "markdown",
   "id": "37fb89b9",
   "metadata": {},
   "source": [
    "## Definition of the scraping function"
   ]
  },
  {
   "cell_type": "code",
   "execution_count": 11,
   "id": "d5fceeaa",
   "metadata": {},
   "outputs": [],
   "source": [
    "def tweet_scraper(query, n_tweet):\n",
    "    \n",
    "    attributes_container = []\n",
    "    max_tweet = n_tweet\n",
    "    \n",
    "    # we scraping and enumerate to count tweets\n",
    "    for i,tweet in enumerate(sntwitter.TwitterSearchScraper(query).get_items()):\n",
    "\n",
    "        if i>max_tweet:\n",
    "            break\n",
    "            \n",
    "        attributes_container.append([tweet.user.username,\n",
    "                                     tweet.user.verified,\n",
    "                                     tweet.user.created,\n",
    "                                     tweet.user.followersCount, #persone che seguono l'utente\n",
    "                                     tweet.user.friendsCount, #persone seguite dall'utente\n",
    "                                     tweet.retweetCount,\n",
    "                                     tweet.lang,\n",
    "                                     tweet.date,\n",
    "                                     tweet.likeCount,\n",
    "                                     tweet.sourceLabel,\n",
    "                                     tweet.id,\n",
    "                                     tweet.rawContent,\n",
    "                                     tweet.hashtags,\n",
    "                                     tweet.conversationId,\n",
    "                                     tweet.inReplyToUser,\n",
    "                                     tweet.coordinates,\n",
    "                                     tweet.place])\n",
    "        \n",
    "    # we create the datafrate to be returned as output\n",
    "    return pd.DataFrame(attributes_container, columns=[\"User\",\n",
    "                                                       \"verified\",\n",
    "                                                       \"Date_Created\",\n",
    "                                                       \"Follows_Count\",\n",
    "                                                       \"Friends_Count\",\n",
    "                                                       \"Retweet_Count\",\n",
    "                                                       \"Language\",\n",
    "                                                       \"Date_Tweet\",\n",
    "                                                       \"Number_of_Likes\",\n",
    "                                                       \"Source_of_Tweet\",\n",
    "                                                       \"Tweet_Id\",\n",
    "                                                       \"Tweet\",\n",
    "                                                       \"Hashtags\",\n",
    "                                                       \"Conversation_Id\",\n",
    "                                                       \"In_reply_To\",\n",
    "                                                       \"Coordinates\",\n",
    "                                                       \"Place\"])"
   ]
  },
  {
   "cell_type": "code",
   "execution_count": 12,
   "id": "669a471c",
   "metadata": {},
   "outputs": [],
   "source": [
    "# for each word in the gen_list, the function extracts the tweets responding to the specified query and saves them in a\n",
    "# dataframe\n",
    "\n",
    "def tweets_df(common_words, kind_of_work, query, num_tweets=1):\n",
    "    [kind_of_work]\n",
    "    data_frames = []\n",
    "    for word in common_words:\n",
    "        #print(word[0])  \n",
    "        df = tweet_scraper('{}, {}'.format(word[0], query), num_tweets)\n",
    "        df.insert(loc= 0, column = 'key_word', value = word[0])\n",
    "        df.insert(loc= 0, column = 'kind_of_work', value = kind_of_work)\n",
    "        #df.insert(loc= 0, column = 'Hashtag', value = hashtags)\n",
    "       \n",
    "        data_frames.append(df)\n",
    "        \n",
    "        \n",
    "    for df in data_frames[1:]:\n",
    "        data_frames[0] = data_frames[0].append(df, ignore_index = True)\n",
    "    \n",
    "    #display(data_frames[0])\n",
    "    return data_frames[0]"
   ]
  },
  {
   "cell_type": "markdown",
   "id": "a423b38c",
   "metadata": {},
   "source": [
    "## An example of scraping"
   ]
  },
  {
   "cell_type": "markdown",
   "id": "26c6c8fc",
   "metadata": {},
   "source": [
    "In what follows, we report the pipeline that has been followed to download the tweets referring to the occupation \"arts\". Its aim is to show an example of a workflow that the four of us developed and followed also for the scraping of tweets related to the other four professions. We avoid reporting them because it would be unuseful and too redundat."
   ]
  },
  {
   "cell_type": "code",
   "execution_count": 17,
   "id": "ed3d3023",
   "metadata": {},
   "outputs": [
    {
     "name": "stderr",
     "output_type": "stream",
     "text": [
      "C:\\Users\\aldoc\\AppData\\Local\\Temp\\ipykernel_12696\\3821845485.py:18: FutureWarning: The frame.append method is deprecated and will be removed from pandas in a future version. Use pandas.concat instead.\n",
      "  data_frames[0] = data_frames[0].append(df, ignore_index = True)\n"
     ]
    }
   ],
   "source": [
    "# the function requires as parameters the list of selected words, a query containing a string (an hashtag, a mention and/or the \n",
    "# sequence of \"Name Surname\" of the victim. The result is saved in a dataframe.\n",
    "# As regards \"arts\", we extracted tweets addressed to 16 women (artists, photographers, fashion designers and film directors\n",
    "# and architects)\n",
    "\n",
    "df_MA = tweets_df(gen_list, query='(#marinaabramovic OR @ArtistisPresent) until:2023-02-02', kind_of_work='arts', num_tweets=40)"
   ]
  },
  {
   "cell_type": "code",
   "execution_count": 24,
   "id": "9a983172",
   "metadata": {},
   "outputs": [
    {
     "name": "stderr",
     "output_type": "stream",
     "text": [
      "C:\\Users\\aldoc\\AppData\\Local\\Temp\\ipykernel_10596\\4032399273.py:21: FutureWarning: The frame.append method is deprecated and will be removed from pandas in a future version. Use pandas.concat instead.\n",
      "  data_frames[0] = data_frames[0].append(df, ignore_index = True)\n"
     ]
    }
   ],
   "source": [
    "df_MA2 = tweets_df(gen_list, query='(\"Marina Abramovic\" OR \"Marina Abramović\") until:2023-06-02', kind_of_work='arts', num_tweets=40)"
   ]
  },
  {
   "cell_type": "code",
   "execution_count": 119,
   "id": "1e22228b",
   "metadata": {},
   "outputs": [
    {
     "name": "stderr",
     "output_type": "stream",
     "text": [
      "C:\\Users\\aldoc\\AppData\\Local\\Temp\\ipykernel_10596\\4032399273.py:21: FutureWarning: The frame.append method is deprecated and will be removed from pandas in a future version. Use pandas.concat instead.\n",
      "  data_frames[0] = data_frames[0].append(df, ignore_index = True)\n"
     ]
    }
   ],
   "source": [
    "df_NO = tweets_df(gen_list, query='(#nerioxman OR @NeriOxman)', kind_of_work='arts', num_tweets=40)"
   ]
  },
  {
   "cell_type": "code",
   "execution_count": 28,
   "id": "94156cc1",
   "metadata": {},
   "outputs": [
    {
     "name": "stderr",
     "output_type": "stream",
     "text": [
      "C:\\Users\\aldoc\\AppData\\Local\\Temp\\ipykernel_10596\\4032399273.py:21: FutureWarning: The frame.append method is deprecated and will be removed from pandas in a future version. Use pandas.concat instead.\n",
      "  data_frames[0] = data_frames[0].append(df, ignore_index = True)\n"
     ]
    }
   ],
   "source": [
    "df_NO2 = tweets_df(gen_list, query='(\"Neri Oxman\") until:2023-06-02', kind_of_work='arts', num_tweets=40)"
   ]
  },
  {
   "cell_type": "code",
   "execution_count": 149,
   "id": "db0cb84c",
   "metadata": {},
   "outputs": [
    {
     "name": "stderr",
     "output_type": "stream",
     "text": [
      "C:\\Users\\aldoc\\AppData\\Local\\Temp\\ipykernel_10596\\4032399273.py:21: FutureWarning: The frame.append method is deprecated and will be removed from pandas in a future version. Use pandas.concat instead.\n",
      "  data_frames[0] = data_frames[0].append(df, ignore_index = True)\n"
     ]
    }
   ],
   "source": [
    "df_TR = tweets_df(gen_list, query='(#tracyreese OR @Tracy_Reese)', kind_of_work='arts', num_tweets=40) "
   ]
  },
  {
   "cell_type": "code",
   "execution_count": 30,
   "id": "652fd593",
   "metadata": {},
   "outputs": [
    {
     "name": "stderr",
     "output_type": "stream",
     "text": [
      "C:\\Users\\aldoc\\AppData\\Local\\Temp\\ipykernel_10596\\4032399273.py:21: FutureWarning: The frame.append method is deprecated and will be removed from pandas in a future version. Use pandas.concat instead.\n",
      "  data_frames[0] = data_frames[0].append(df, ignore_index = True)\n"
     ]
    }
   ],
   "source": [
    "df_TR2 = tweets_df(gen_list, query='(\"Tracy Reese\") until:2023-06-02', kind_of_work='arts', num_tweets=40)"
   ]
  },
  {
   "cell_type": "code",
   "execution_count": 158,
   "id": "e85f527e",
   "metadata": {},
   "outputs": [
    {
     "name": "stderr",
     "output_type": "stream",
     "text": [
      "C:\\Users\\aldoc\\AppData\\Local\\Temp\\ipykernel_10596\\4032399273.py:21: FutureWarning: The frame.append method is deprecated and will be removed from pandas in a future version. Use pandas.concat instead.\n",
      "  data_frames[0] = data_frames[0].append(df, ignore_index = True)\n"
     ]
    }
   ],
   "source": [
    "df_AR = tweets_df(gen_list, query='(#arianarichards OR @GalleryAriana)', kind_of_work='arts', num_tweets=40) "
   ]
  },
  {
   "cell_type": "code",
   "execution_count": 32,
   "id": "3d683e0f",
   "metadata": {},
   "outputs": [
    {
     "name": "stderr",
     "output_type": "stream",
     "text": [
      "C:\\Users\\aldoc\\AppData\\Local\\Temp\\ipykernel_10596\\4032399273.py:21: FutureWarning: The frame.append method is deprecated and will be removed from pandas in a future version. Use pandas.concat instead.\n",
      "  data_frames[0] = data_frames[0].append(df, ignore_index = True)\n"
     ]
    }
   ],
   "source": [
    "df_AR2 = tweets_df(gen_list, query='(\"Ariana Richards\") until:2023-06-02', kind_of_work='arts', num_tweets=40)"
   ]
  },
  {
   "cell_type": "code",
   "execution_count": 168,
   "id": "c9c0415e",
   "metadata": {},
   "outputs": [
    {
     "name": "stderr",
     "output_type": "stream",
     "text": [
      "C:\\Users\\aldoc\\AppData\\Local\\Temp\\ipykernel_10596\\4032399273.py:21: FutureWarning: The frame.append method is deprecated and will be removed from pandas in a future version. Use pandas.concat instead.\n",
      "  data_frames[0] = data_frames[0].append(df, ignore_index = True)\n"
     ]
    }
   ],
   "source": [
    "df_SMC = tweets_df(gen_list, query='(#stellamccartney OR @StellaMcCartney) until:2023-02-02', kind_of_work='arts', num_tweets=40) "
   ]
  },
  {
   "cell_type": "code",
   "execution_count": 34,
   "id": "88b523f4",
   "metadata": {},
   "outputs": [
    {
     "name": "stderr",
     "output_type": "stream",
     "text": [
      "C:\\Users\\aldoc\\AppData\\Local\\Temp\\ipykernel_10596\\4032399273.py:21: FutureWarning: The frame.append method is deprecated and will be removed from pandas in a future version. Use pandas.concat instead.\n",
      "  data_frames[0] = data_frames[0].append(df, ignore_index = True)\n"
     ]
    }
   ],
   "source": [
    "df_SMC2 = tweets_df(gen_list, query='(\"Stella McCartney\") until:2023-06-02', kind_of_work='arts', num_tweets=40)"
   ]
  },
  {
   "cell_type": "code",
   "execution_count": 193,
   "id": "f5b5487b",
   "metadata": {},
   "outputs": [
    {
     "name": "stderr",
     "output_type": "stream",
     "text": [
      "C:\\Users\\aldoc\\AppData\\Local\\Temp\\ipykernel_10596\\4032399273.py:21: FutureWarning: The frame.append method is deprecated and will be removed from pandas in a future version. Use pandas.concat instead.\n",
      "  data_frames[0] = data_frames[0].append(df, ignore_index = True)\n"
     ]
    }
   ],
   "source": [
    "df_AL = tweets_df(gen_list, query='(#annieleibovitz OR @annieleibovitz) until:2023-02-02', kind_of_work='arts', num_tweets=40) "
   ]
  },
  {
   "cell_type": "code",
   "execution_count": 212,
   "id": "0b0c1fcd",
   "metadata": {},
   "outputs": [
    {
     "name": "stderr",
     "output_type": "stream",
     "text": [
      "C:\\Users\\aldoc\\AppData\\Local\\Temp\\ipykernel_10596\\4032399273.py:21: FutureWarning: The frame.append method is deprecated and will be removed from pandas in a future version. Use pandas.concat instead.\n",
      "  data_frames[0] = data_frames[0].append(df, ignore_index = True)\n"
     ]
    }
   ],
   "source": [
    "df_AL2 = tweets_df(gen_list, query='(\"Annie Leibovitz\") until:2023-06-02', kind_of_work='arts', num_tweets=40)"
   ]
  },
  {
   "cell_type": "code",
   "execution_count": 236,
   "id": "739a6303",
   "metadata": {},
   "outputs": [
    {
     "name": "stderr",
     "output_type": "stream",
     "text": [
      "C:\\Users\\aldoc\\AppData\\Local\\Temp\\ipykernel_10596\\4032399273.py:21: FutureWarning: The frame.append method is deprecated and will be removed from pandas in a future version. Use pandas.concat instead.\n",
      "  data_frames[0] = data_frames[0].append(df, ignore_index = True)\n"
     ]
    }
   ],
   "source": [
    "df_KB = tweets_df(gen_list, query='(#kathrynbigelow OR @KatBigelow)', kind_of_work='arts', num_tweets=40)  "
   ]
  },
  {
   "cell_type": "code",
   "execution_count": 40,
   "id": "ef98027a",
   "metadata": {},
   "outputs": [
    {
     "name": "stderr",
     "output_type": "stream",
     "text": [
      "C:\\Users\\aldoc\\AppData\\Local\\Temp\\ipykernel_10596\\4032399273.py:21: FutureWarning: The frame.append method is deprecated and will be removed from pandas in a future version. Use pandas.concat instead.\n",
      "  data_frames[0] = data_frames[0].append(df, ignore_index = True)\n"
     ]
    }
   ],
   "source": [
    "df_KB2 = tweets_df(gen_list, query='(\"Kathryn Bigelow\") until:2023-06-02', kind_of_work='arts', num_tweets=20)"
   ]
  },
  {
   "cell_type": "code",
   "execution_count": 25,
   "id": "8813147a",
   "metadata": {},
   "outputs": [
    {
     "name": "stderr",
     "output_type": "stream",
     "text": [
      "C:\\Users\\aldoc\\AppData\\Local\\Temp\\ipykernel_14500\\4032399273.py:21: FutureWarning: The frame.append method is deprecated and will be removed from pandas in a future version. Use pandas.concat instead.\n",
      "  data_frames[0] = data_frames[0].append(df, ignore_index = True)\n"
     ]
    }
   ],
   "source": [
    "df_CS = tweets_df(gen_list, query='(#cindysherman OR @cindyshermanart)', kind_of_work='arts', num_tweets=40)   "
   ]
  },
  {
   "cell_type": "code",
   "execution_count": 42,
   "id": "f50cccd4",
   "metadata": {},
   "outputs": [
    {
     "name": "stderr",
     "output_type": "stream",
     "text": [
      "C:\\Users\\aldoc\\AppData\\Local\\Temp\\ipykernel_10596\\4032399273.py:21: FutureWarning: The frame.append method is deprecated and will be removed from pandas in a future version. Use pandas.concat instead.\n",
      "  data_frames[0] = data_frames[0].append(df, ignore_index = True)\n"
     ]
    }
   ],
   "source": [
    "df_CS2 = tweets_df(gen_list, query='(\"Cindy Sherman\") until:2023-06-02', kind_of_work='arts', num_tweets=20)"
   ]
  },
  {
   "cell_type": "code",
   "execution_count": 255,
   "id": "2ed2a9a6",
   "metadata": {},
   "outputs": [
    {
     "name": "stderr",
     "output_type": "stream",
     "text": [
      "C:\\Users\\aldoc\\AppData\\Local\\Temp\\ipykernel_10596\\4032399273.py:21: FutureWarning: The frame.append method is deprecated and will be removed from pandas in a future version. Use pandas.concat instead.\n",
      "  data_frames[0] = data_frames[0].append(df, ignore_index = True)\n"
     ]
    }
   ],
   "source": [
    "df_BK = tweets_df(gen_list, query='(#barbarakruger OR @barbarakruger)', kind_of_work='arts', num_tweets=40)    "
   ]
  },
  {
   "cell_type": "code",
   "execution_count": 46,
   "id": "cf38f3ce",
   "metadata": {},
   "outputs": [
    {
     "name": "stderr",
     "output_type": "stream",
     "text": [
      "C:\\Users\\aldoc\\AppData\\Local\\Temp\\ipykernel_10596\\4032399273.py:21: FutureWarning: The frame.append method is deprecated and will be removed from pandas in a future version. Use pandas.concat instead.\n",
      "  data_frames[0] = data_frames[0].append(df, ignore_index = True)\n"
     ]
    }
   ],
   "source": [
    "df_BK2 = tweets_df(gen_list, query='(\"Barbara Kruger\") until:2023-06-02', kind_of_work='arts', num_tweets=20)"
   ]
  },
  {
   "cell_type": "code",
   "execution_count": 31,
   "id": "adaa6a81",
   "metadata": {},
   "outputs": [
    {
     "name": "stderr",
     "output_type": "stream",
     "text": [
      "C:\\Users\\aldoc\\AppData\\Local\\Temp\\ipykernel_14500\\4032399273.py:21: FutureWarning: The frame.append method is deprecated and will be removed from pandas in a future version. Use pandas.concat instead.\n",
      "  data_frames[0] = data_frames[0].append(df, ignore_index = True)\n"
     ]
    }
   ],
   "source": [
    "df_JS = tweets_df(gen_list, query='(#jennysaville OR @jennysavilleart)', kind_of_work='arts', num_tweets=40)    "
   ]
  },
  {
   "cell_type": "code",
   "execution_count": 263,
   "id": "ea60a453",
   "metadata": {},
   "outputs": [
    {
     "name": "stderr",
     "output_type": "stream",
     "text": [
      "C:\\Users\\aldoc\\AppData\\Local\\Temp\\ipykernel_10596\\4032399273.py:21: FutureWarning: The frame.append method is deprecated and will be removed from pandas in a future version. Use pandas.concat instead.\n",
      "  data_frames[0] = data_frames[0].append(df, ignore_index = True)\n"
     ]
    }
   ],
   "source": [
    "df_JS2 = tweets_df(gen_list, query='(\"Jenny Saville\") until:2023-06-02', kind_of_work='arts', num_tweets=20)"
   ]
  },
  {
   "cell_type": "code",
   "execution_count": 35,
   "id": "7f787c2f",
   "metadata": {},
   "outputs": [
    {
     "name": "stderr",
     "output_type": "stream",
     "text": [
      "C:\\Users\\aldoc\\AppData\\Local\\Temp\\ipykernel_14500\\4032399273.py:21: FutureWarning: The frame.append method is deprecated and will be removed from pandas in a future version. Use pandas.concat instead.\n",
      "  data_frames[0] = data_frames[0].append(df, ignore_index = True)\n"
     ]
    }
   ],
   "source": [
    "df_SN = tweets_df(gen_list, query='(#shirinneshat OR @IranianNeshat)', kind_of_work='arts', num_tweets=40)    "
   ]
  },
  {
   "cell_type": "code",
   "execution_count": 52,
   "id": "5e3c079b",
   "metadata": {},
   "outputs": [
    {
     "name": "stderr",
     "output_type": "stream",
     "text": [
      "C:\\Users\\aldoc\\AppData\\Local\\Temp\\ipykernel_10596\\4032399273.py:21: FutureWarning: The frame.append method is deprecated and will be removed from pandas in a future version. Use pandas.concat instead.\n",
      "  data_frames[0] = data_frames[0].append(df, ignore_index = True)\n"
     ]
    }
   ],
   "source": [
    "df_SN2 = tweets_df(gen_list, query='(\"Shirin Neshat\") until:2023-06-02', kind_of_work='arts', num_tweets=20)"
   ]
  },
  {
   "cell_type": "code",
   "execution_count": 38,
   "id": "162fcd84",
   "metadata": {},
   "outputs": [
    {
     "name": "stderr",
     "output_type": "stream",
     "text": [
      "C:\\Users\\aldoc\\AppData\\Local\\Temp\\ipykernel_14500\\4032399273.py:21: FutureWarning: The frame.append method is deprecated and will be removed from pandas in a future version. Use pandas.concat instead.\n",
      "  data_frames[0] = data_frames[0].append(df, ignore_index = True)\n"
     ]
    }
   ],
   "source": [
    "df_JiS = tweets_df(gen_list, query='(#jilsander OR @jilsander)', kind_of_work='arts', num_tweets=40)    "
   ]
  },
  {
   "cell_type": "code",
   "execution_count": 285,
   "id": "e014df9e",
   "metadata": {},
   "outputs": [
    {
     "name": "stderr",
     "output_type": "stream",
     "text": [
      "C:\\Users\\aldoc\\AppData\\Local\\Temp\\ipykernel_10596\\4032399273.py:21: FutureWarning: The frame.append method is deprecated and will be removed from pandas in a future version. Use pandas.concat instead.\n",
      "  data_frames[0] = data_frames[0].append(df, ignore_index = True)\n"
     ]
    }
   ],
   "source": [
    "df_JiS2 = tweets_df(gen_list, query='(\"Jil Sander\") until:2023-06-02', kind_of_work='arts', num_tweets=20)"
   ]
  },
  {
   "cell_type": "code",
   "execution_count": 297,
   "id": "e3ca4df5",
   "metadata": {},
   "outputs": [
    {
     "name": "stderr",
     "output_type": "stream",
     "text": [
      "C:\\Users\\aldoc\\AppData\\Local\\Temp\\ipykernel_10596\\4032399273.py:21: FutureWarning: The frame.append method is deprecated and will be removed from pandas in a future version. Use pandas.concat instead.\n",
      "  data_frames[0] = data_frames[0].append(df, ignore_index = True)\n"
     ]
    }
   ],
   "source": [
    "df_JM = tweets_df(gen_list, query='(#juliemehretu OR @JulieMehretu)', kind_of_work='arts', num_tweets=40)    "
   ]
  },
  {
   "cell_type": "code",
   "execution_count": 60,
   "id": "cee00aa9",
   "metadata": {},
   "outputs": [
    {
     "name": "stderr",
     "output_type": "stream",
     "text": [
      "C:\\Users\\aldoc\\AppData\\Local\\Temp\\ipykernel_10596\\4032399273.py:21: FutureWarning: The frame.append method is deprecated and will be removed from pandas in a future version. Use pandas.concat instead.\n",
      "  data_frames[0] = data_frames[0].append(df, ignore_index = True)\n"
     ]
    }
   ],
   "source": [
    "df_JM2 = tweets_df(gen_list, query='(\"Julie Mehretu\") until:2023-06-02', kind_of_work='arts', num_tweets=40)"
   ]
  },
  {
   "cell_type": "code",
   "execution_count": 304,
   "id": "ccca0c61",
   "metadata": {},
   "outputs": [
    {
     "name": "stderr",
     "output_type": "stream",
     "text": [
      "C:\\Users\\aldoc\\AppData\\Local\\Temp\\ipykernel_10596\\4032399273.py:21: FutureWarning: The frame.append method is deprecated and will be removed from pandas in a future version. Use pandas.concat instead.\n",
      "  data_frames[0] = data_frames[0].append(df, ignore_index = True)\n"
     ]
    }
   ],
   "source": [
    "df_YK = tweets_df(gen_list, query='(#yayoikusama OR @KUSAMA_YAYOI OR #kusamayayoi)', kind_of_work='arts', num_tweets=40)"
   ]
  },
  {
   "cell_type": "code",
   "execution_count": 62,
   "id": "54b9e547",
   "metadata": {},
   "outputs": [
    {
     "name": "stderr",
     "output_type": "stream",
     "text": [
      "C:\\Users\\aldoc\\AppData\\Local\\Temp\\ipykernel_10596\\4032399273.py:21: FutureWarning: The frame.append method is deprecated and will be removed from pandas in a future version. Use pandas.concat instead.\n",
      "  data_frames[0] = data_frames[0].append(df, ignore_index = True)\n"
     ]
    }
   ],
   "source": [
    "df_YK2 = tweets_df(gen_list, query='(\"Yayoi Kusama\") until:2023-06-02', kind_of_work='arts', num_tweets=40)"
   ]
  },
  {
   "cell_type": "code",
   "execution_count": 319,
   "id": "a420442e",
   "metadata": {},
   "outputs": [
    {
     "name": "stderr",
     "output_type": "stream",
     "text": [
      "C:\\Users\\aldoc\\AppData\\Local\\Temp\\ipykernel_10596\\4032399273.py:21: FutureWarning: The frame.append method is deprecated and will be removed from pandas in a future version. Use pandas.concat instead.\n",
      "  data_frames[0] = data_frames[0].append(df, ignore_index = True)\n"
     ]
    }
   ],
   "source": [
    "df_AJ = tweets_df(gen_list, query='(#aurorajames OR @AuroraJames OR \"Aurora James\"', kind_of_work='arts', num_tweets=40)"
   ]
  },
  {
   "cell_type": "code",
   "execution_count": 66,
   "id": "bed30417",
   "metadata": {},
   "outputs": [
    {
     "name": "stderr",
     "output_type": "stream",
     "text": [
      "C:\\Users\\aldoc\\AppData\\Local\\Temp\\ipykernel_10596\\4032399273.py:21: FutureWarning: The frame.append method is deprecated and will be removed from pandas in a future version. Use pandas.concat instead.\n",
      "  data_frames[0] = data_frames[0].append(df, ignore_index = True)\n"
     ]
    }
   ],
   "source": [
    "df_AJ2 = tweets_df(gen_list, query='(\"Aurora James\") until:2023-06-02', kind_of_work='arts', num_tweets=40)"
   ]
  },
  {
   "cell_type": "code",
   "execution_count": 50,
   "id": "30676df9",
   "metadata": {},
   "outputs": [
    {
     "name": "stderr",
     "output_type": "stream",
     "text": [
      "C:\\Users\\aldoc\\AppData\\Local\\Temp\\ipykernel_10596\\4032399273.py:21: FutureWarning: The frame.append method is deprecated and will be removed from pandas in a future version. Use pandas.concat instead.\n",
      "  data_frames[0] = data_frames[0].append(df, ignore_index = True)\n"
     ]
    }
   ],
   "source": [
    "df_WM2 = tweets_df(gen_list, query='(\"Wangechi Mutu\") until:2023-06-02', kind_of_work='arts', num_tweets=20)"
   ]
  },
  {
   "cell_type": "markdown",
   "id": "41776e00",
   "metadata": {},
   "source": [
    "### Composition of the dataset"
   ]
  },
  {
   "cell_type": "code",
   "execution_count": 19,
   "id": "365d88a3",
   "metadata": {},
   "outputs": [],
   "source": [
    "# for each category, we created two dataframes: one comprising misogynous tweets, the other non-misogynous ones\n",
    "\n",
    "# tweet selection has been carried out manually, scrolling and judging each one of them. During the scraping, the selected \n",
    "# tweets (both misogynous and non-mysoginous) were noted down to be added to the dataframe alltogether at the end of the \n",
    "# selection operations, as shown in the next cells"
   ]
  },
  {
   "cell_type": "code",
   "execution_count": 366,
   "id": "893bb98c",
   "metadata": {},
   "outputs": [],
   "source": [
    "selected_1 = df_MA.loc[[0, 14, 16, 80, 94, 324, 335, 418]]"
   ]
  },
  {
   "cell_type": "code",
   "execution_count": 367,
   "id": "efda2237",
   "metadata": {},
   "outputs": [],
   "source": [
    "selected_1 = pd.concat([selected_1, \n",
    "                        df_MA2.loc[[5, 9, 34, 44, 100, 103, 188, 208, 210, 303, 306, 307, 311, 313, 320, 351, 356, 378, \n",
    "                                    387, 552, 573, 582, 605, 637, 640, 650, 690, 724, 780, 785]],\n",
    "                        df_NO.loc[[122, 140, 141]],\n",
    "                        df_NO2.loc[[0, 27, 37]],\n",
    "                        df_TR2.loc[[45, 62, 113, 167]],\n",
    "                        df_SMC.loc[[103, 110, 112, 115, 298, 300, 568, 569, 570]],\n",
    "                        df_SMC2.loc[[8, 62, 79, 81, 101, 105, 205, 215, 221, 222, 325, 373, 380, 445, 517, 537, 538, 561, 740]],\n",
    "                        df_AL.loc[[229, 230, 362, 367, 368, 372]],\n",
    "                        df_AL2.loc[[0, 2, 15, 17, 18, 59, 88, 152, 153, 170, 174, 263, 267, 270, 291, 292, 294, 376, 383, 385,\n",
    "                                    389, 396, 418, 419, 485, 500, 584]],\n",
    "                        df_KB.loc[[97, 144, 145]],\n",
    "                        df_KB2.loc[[19, 150]],\n",
    "                        df_CS2.loc[[15, 108, 119, 183]],\n",
    "                        df_BK2.loc[[34, 150, 246]],\n",
    "                        df_JS2.loc[[0, 3, 6]],\n",
    "                        df_SN2.loc[[29, 43]],\n",
    "                        df_JiS2.loc[[12, 149, 203, 211, 315]],\n",
    "                        df_JM.loc[[14, 32]],\n",
    "                        df_YK.loc[[18, 73]],\n",
    "                        df_YK2.loc[[34, 62, 78, 89, 113, 180, 199, 254, 268, 363, 494]],\n",
    "                        df_AJ.loc[[1, 45, 50, 129, 165]]\n",
    "                       ])"
   ]
  },
  {
   "cell_type": "code",
   "execution_count": 368,
   "id": "d7e628d6",
   "metadata": {},
   "outputs": [],
   "source": [
    "selected_0 = df_MA.loc[[168, 188, 213, 314, 320]]"
   ]
  },
  {
   "cell_type": "code",
   "execution_count": 369,
   "id": "4a5d0c37",
   "metadata": {},
   "outputs": [],
   "source": [
    "selected_0 = pd.concat([selected_0, \n",
    "                        df_MA2.loc[[644, 651, 662, 786]],\n",
    "                        df_NO.loc[[0, 139, 153]],\n",
    "                        df_NO2.loc[[21, 22]],\n",
    "                        df_TR.loc[[0, 48]],\n",
    "                        df_TR2.loc[[169]],\n",
    "                        df_AR.loc[[0, 1]],\n",
    "                        df_SMC2.loc[[19, 335, 568, 580, 592, 597, 611, 677, 681, 688]],\n",
    "                        df_AL.loc[[594]],\n",
    "                        df_AL2.loc[[9, 24, 28, 37, 52, 140, 157, 216, 317, 406, 433, 457]],\n",
    "                        df_KB.loc[[121, 152, 158]],\n",
    "                        df_KB2.loc[[190]],\n",
    "                        df_CS2.loc[[17, 37, 72, 149, 220, 238, 254]],\n",
    "                        df_BK2.loc[[4, 19, 87]],\n",
    "                        df_JS2.loc[[5, 32, 61, 93]],\n",
    "                        df_WM2.loc[[21, 22]],\n",
    "                        df_SN2.loc[[36, 38, 39, 45, 62]],\n",
    "                        df_JM.loc[[4, 5]],\n",
    "                        df_YK.loc[[0, 1, 68]],\n",
    "                        df_YK2.loc[[9, 19, 274, 472]]\n",
    "                       ])"
   ]
  },
  {
   "cell_type": "code",
   "execution_count": 372,
   "id": "acbf519f",
   "metadata": {},
   "outputs": [],
   "source": [
    "selected_1 = selected_1[['kind_of_work', 'key_word', 'Tweet']]   # selection of the interesting columns\n",
    "selected_0 = selected_0[['kind_of_work', 'key_word', 'Tweet']]"
   ]
  },
  {
   "cell_type": "code",
   "execution_count": 373,
   "id": "2bff5b68",
   "metadata": {},
   "outputs": [],
   "source": [
    "selected_1['misogynous'] = 1                                     # annotation of the information about 'misogyny'\n",
    "selected_0['misogynous'] = 0"
   ]
  },
  {
   "cell_type": "code",
   "execution_count": 374,
   "id": "1c0d2b34",
   "metadata": {},
   "outputs": [],
   "source": [
    "arts = pd.concat([selected_1, selected_0], axis=0)               # concatenation of misogynous and non-misogynous tweets"
   ]
  },
  {
   "cell_type": "code",
   "execution_count": 375,
   "id": "be26e135",
   "metadata": {},
   "outputs": [],
   "source": [
    "arts.reset_index(drop=True, inplace=True)"
   ]
  },
  {
   "cell_type": "code",
   "execution_count": 376,
   "id": "2142e146",
   "metadata": {},
   "outputs": [],
   "source": [
    "# to be sure that all the tweets were different (when their number is high, it can happen that you select twite the same content\n",
    "# therefore it is necessary to remove duplicates\n",
    "\n",
    "arts = arts.drop_duplicates(subset='Tweet', keep=\"first\") "
   ]
  },
  {
   "cell_type": "code",
   "execution_count": 20,
   "id": "85b42d58",
   "metadata": {
    "scrolled": false
   },
   "outputs": [],
   "source": [
    "# the dataframe is ready to be exported. The partial datasets (i.e., containing the extracted tweets for singe categories)\n",
    "# are available in the folder 'data_sets'. Their name are: 'arts.csv', 'sport.csv', 'politics.csv', 'sci_cul.csv', 'show.csv'\n",
    "\n",
    "# arts.to_csv(\"arts.csv\", sep=\",\", index=False)"
   ]
  }
 ],
 "metadata": {
  "kernelspec": {
   "display_name": "Python 3 (ipykernel)",
   "language": "python",
   "name": "python3"
  },
  "language_info": {
   "codemirror_mode": {
    "name": "ipython",
    "version": 3
   },
   "file_extension": ".py",
   "mimetype": "text/x-python",
   "name": "python",
   "nbconvert_exporter": "python",
   "pygments_lexer": "ipython3",
   "version": "3.9.12"
  }
 },
 "nbformat": 4,
 "nbformat_minor": 5
}
