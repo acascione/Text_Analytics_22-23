{
 "cells": [
  {
   "cell_type": "code",
   "execution_count": 1,
   "id": "e93b48f2",
   "metadata": {},
   "outputs": [],
   "source": [
    "%matplotlib inline\n",
    "\n",
    "import pandas as pd"
   ]
  },
  {
   "cell_type": "code",
   "execution_count": 2,
   "id": "61d14292",
   "metadata": {},
   "outputs": [],
   "source": [
    "pd.set_option(\"display.max_rows\", None)\n",
    "pd.set_option(\"display.max_columns\", None)"
   ]
  },
  {
   "cell_type": "markdown",
   "id": "7d6ac2ca",
   "metadata": {},
   "source": [
    "## Assembly of the newly extracted tweets in an unique dataset"
   ]
  },
  {
   "cell_type": "code",
   "execution_count": 3,
   "id": "cf91eb0a",
   "metadata": {},
   "outputs": [],
   "source": [
    "nt_arts = pd.read_csv('../data_sets/arts.csv') \n",
    "nt_sport = pd.read_csv('../data_sets/sport.csv', sep = ';')\n",
    "nt_pol = pd.read_csv('../data_sets/politics.csv')\n",
    "nt_sci_cul = pd.read_csv('../data_sets/sci_cul.csv')\n",
    "nt_show = pd.read_csv('../data_sets/show.csv')"
   ]
  },
  {
   "cell_type": "code",
   "execution_count": 4,
   "id": "e63e121b",
   "metadata": {},
   "outputs": [],
   "source": [
    "# we gather the partial datasets (i.e., related to single occupation) into a single dataset and analyse some distributions\n",
    "\n",
    "new_tweets = pd.concat([nt_arts, nt_pol, nt_sci_cul, nt_show, nt_sport], axis=0)"
   ]
  },
  {
   "cell_type": "code",
   "execution_count": 5,
   "id": "b8f387ad",
   "metadata": {},
   "outputs": [
    {
     "data": {
      "text/plain": [
       "1014"
      ]
     },
     "execution_count": 5,
     "metadata": {},
     "output_type": "execute_result"
    }
   ],
   "source": [
    "len(new_tweets)"
   ]
  },
  {
   "cell_type": "code",
   "execution_count": 6,
   "id": "bbf796a8",
   "metadata": {},
   "outputs": [
    {
     "data": {
      "text/plain": [
       "1    781\n",
       "0    233\n",
       "Name: misogynous, dtype: int64"
      ]
     },
     "execution_count": 6,
     "metadata": {},
     "output_type": "execute_result"
    }
   ],
   "source": [
    "new_tweets['misogynous'].value_counts()"
   ]
  },
  {
   "cell_type": "code",
   "execution_count": 7,
   "id": "f688ed7f",
   "metadata": {},
   "outputs": [
    {
     "data": {
      "text/plain": [
       "sport      267\n",
       "pol_act    256\n",
       "arts       221\n",
       "sci_cul    189\n",
       "show        81\n",
       "Name: kind_of_work, dtype: int64"
      ]
     },
     "execution_count": 7,
     "metadata": {},
     "output_type": "execute_result"
    }
   ],
   "source": [
    "new_tweets['kind_of_work'].value_counts()"
   ]
  },
  {
   "cell_type": "code",
   "execution_count": 8,
   "id": "e8e4bcce",
   "metadata": {},
   "outputs": [],
   "source": [
    "new_tweets = new_tweets.drop_duplicates(subset='Tweet', keep=\"first\")     # removal of duplicates "
   ]
  },
  {
   "cell_type": "code",
   "execution_count": 9,
   "id": "0b358d34",
   "metadata": {},
   "outputs": [
    {
     "data": {
      "text/plain": [
       "990"
      ]
     },
     "execution_count": 9,
     "metadata": {},
     "output_type": "execute_result"
    }
   ],
   "source": [
    "len(new_tweets)      # actually there were 24 duplicates. Distraction is always just around the corner "
   ]
  },
  {
   "cell_type": "code",
   "execution_count": 10,
   "id": "ad299101",
   "metadata": {},
   "outputs": [],
   "source": [
    "# analysis of distributions after the removal of duplicates"
   ]
  },
  {
   "cell_type": "code",
   "execution_count": 11,
   "id": "a1c33e06",
   "metadata": {},
   "outputs": [
    {
     "data": {
      "text/plain": [
       "1    760\n",
       "0    230\n",
       "Name: misogynous, dtype: int64"
      ]
     },
     "execution_count": 11,
     "metadata": {},
     "output_type": "execute_result"
    }
   ],
   "source": [
    "new_tweets['misogynous'].value_counts()"
   ]
  },
  {
   "cell_type": "code",
   "execution_count": 12,
   "id": "c1ab8fbb",
   "metadata": {},
   "outputs": [
    {
     "data": {
      "text/plain": [
       "sport      262\n",
       "pol_act    242\n",
       "arts       221\n",
       "sci_cul    186\n",
       "show        79\n",
       "Name: kind_of_work, dtype: int64"
      ]
     },
     "execution_count": 12,
     "metadata": {},
     "output_type": "execute_result"
    }
   ],
   "source": [
    "new_tweets['kind_of_work'].value_counts()"
   ]
  },
  {
   "cell_type": "code",
   "execution_count": 14,
   "id": "c39069d3",
   "metadata": {},
   "outputs": [],
   "source": [
    "# exportation of the resulting dataframe, containin all the new tweets. It is available in the folder 'data_sets'\n",
    "\n",
    "# new_tweets.to_csv(\"new_tweets_df.csv\", sep=\",\", index=False)"
   ]
  },
  {
   "cell_type": "markdown",
   "id": "c91e11f9",
   "metadata": {},
   "source": [
    "## Creation of a dataset made up of only misogynous tweets"
   ]
  },
  {
   "cell_type": "markdown",
   "id": "2db19cfa",
   "metadata": {},
   "source": [
    "Now we create the dataset tha combines (1) the misogynous tweets of the original dataset w.r.t. which it was possible to identify the profession of the victim and (2) the misogynous tweets among the newly downloaded ones"
   ]
  },
  {
   "cell_type": "code",
   "execution_count": 15,
   "id": "54048d06",
   "metadata": {},
   "outputs": [],
   "source": [
    "# just as a reminder: 'final_df.csv' is the version of the original training set that has been corrected and annotated with jobs\n",
    "\n",
    "final_df = pd.read_csv('../data_sets/final_df.csv') "
   ]
  },
  {
   "cell_type": "code",
   "execution_count": 16,
   "id": "a138c1a3",
   "metadata": {},
   "outputs": [],
   "source": [
    "#final_df"
   ]
  },
  {
   "cell_type": "code",
   "execution_count": 17,
   "id": "f0fd95e7",
   "metadata": {},
   "outputs": [],
   "source": [
    "# we keep only the tweets that have one of the five occupational field in the column 'occupation'\n",
    "\n",
    "# we also discard tweets reporting the label 'derailing' in the column 'misogyny_category'. For more information about this\n",
    "# choice, see Section 3.2 of the report\n",
    "\n",
    "final_occ_df = final_df[final_df['occupation'] != 'generic_r']\n",
    "final_occ_df = final_occ_df[final_occ_df['occupation'] != 'generic_g']\n",
    "final_occ_df = final_occ_df[final_occ_df['occupation'] != 'other']\n",
    "final_occ_df = final_occ_df[final_occ_df['occupation'] != '0']\n",
    "final_occ_df = final_occ_df[final_occ_df['occupation'] != 'no_woman']\n",
    "final_occ_df = final_occ_df[final_occ_df['misogyny_category'] != 'derailing'] "
   ]
  },
  {
   "cell_type": "code",
   "execution_count": 18,
   "id": "bcea5ddf",
   "metadata": {},
   "outputs": [],
   "source": [
    "final_occ_df.reset_index(drop=True, inplace=True)"
   ]
  },
  {
   "cell_type": "code",
   "execution_count": 19,
   "id": "22cc44ba",
   "metadata": {},
   "outputs": [],
   "source": [
    "# in addition to delete the category 'derailing', we decided to put the categories 'dominance' and 'stereotype' together\n",
    "\n",
    "final_occ_df['misogyny_category'] = final_occ_df['misogyny_category'].replace('dominance', 'stereotype_dominance').replace('stereotype', 'stereotype_dominance')"
   ]
  },
  {
   "cell_type": "code",
   "execution_count": 20,
   "id": "b5287091",
   "metadata": {},
   "outputs": [],
   "source": [
    "# final_occ_df"
   ]
  },
  {
   "cell_type": "markdown",
   "id": "c3ce41fa",
   "metadata": {},
   "source": [
    "The misogynous tweets contained in 'new_tweets_df.csv' (i.e., the misogynous tweets that we extracted) was automatically annotated w.r.t. the 'misogyny_category' by means of the most performative of the trained classifiers. \n",
    "\n",
    "The resulting dataset is 'new_tweets_annot.csv', that is available in the folder 'data_sets'. \n",
    "We upload it in order to create an unique dataset of misogynous tweets."
   ]
  },
  {
   "cell_type": "code",
   "execution_count": 21,
   "id": "a7cdbd32",
   "metadata": {},
   "outputs": [],
   "source": [
    "new_df_annot = pd.read_csv('../data_sets/new_tweets_annot.csv') "
   ]
  },
  {
   "cell_type": "code",
   "execution_count": 22,
   "id": "1be4a644",
   "metadata": {},
   "outputs": [],
   "source": [
    "# we change the form of the 'misogyny_category' values from numerical (as they were assigned by the classifier) to the original\n",
    "# strings used for the annotation of the 'AMI' training set\n",
    "\n",
    "categories = {0: \"discredit\", 1: \"sexual_harassment\", 2: \"stereotype_dominance\"}\n",
    "new_df_annot.replace({\"label\": categories}, inplace=True)"
   ]
  },
  {
   "cell_type": "code",
   "execution_count": 23,
   "id": "62742d9e",
   "metadata": {},
   "outputs": [],
   "source": [
    "new_df_annot.columns = ['text', 'occupation', 'misogyny_category']   # we change the name of colums so as to make \n",
    "                                                                     # the concatenation possible"
   ]
  },
  {
   "cell_type": "code",
   "execution_count": 24,
   "id": "509fd5eb",
   "metadata": {},
   "outputs": [],
   "source": [
    "# creation of the dataset, analysis of distributions and exportation\n",
    "\n",
    "all_annotated_tweets = pd.concat ([final_occ_df[['text', 'occupation', 'misogyny_category']], new_df_annot], axis=0)"
   ]
  },
  {
   "cell_type": "code",
   "execution_count": 25,
   "id": "e0d1f7ac",
   "metadata": {},
   "outputs": [],
   "source": [
    "all_annotated_tweets.reset_index(drop=True, inplace=True)"
   ]
  },
  {
   "cell_type": "code",
   "execution_count": 26,
   "id": "fb3112b1",
   "metadata": {},
   "outputs": [
    {
     "data": {
      "text/plain": [
       "969"
      ]
     },
     "execution_count": 26,
     "metadata": {},
     "output_type": "execute_result"
    }
   ],
   "source": [
    "len(all_annotated_tweets)"
   ]
  },
  {
   "cell_type": "code",
   "execution_count": 27,
   "id": "1434983f",
   "metadata": {},
   "outputs": [
    {
     "data": {
      "text/plain": [
       "discredit               604\n",
       "stereotype_dominance    209\n",
       "sexual_harassment       156\n",
       "Name: misogyny_category, dtype: int64"
      ]
     },
     "execution_count": 27,
     "metadata": {},
     "output_type": "execute_result"
    }
   ],
   "source": [
    "all_annotated_tweets['misogyny_category'].value_counts()"
   ]
  },
  {
   "cell_type": "code",
   "execution_count": 28,
   "id": "25450aeb",
   "metadata": {},
   "outputs": [],
   "source": [
    "# the resulting dataset is available in the folder 'data_sets' under the name 'all_annotated_tweets_update'\n",
    "\n",
    "# all_annotated_tweets.to_csv(\"all_annotated_tweets.csv\", sep=\",\", index=False)"
   ]
  }
 ],
 "metadata": {
  "kernelspec": {
   "display_name": "Python 3 (ipykernel)",
   "language": "python",
   "name": "python3"
  },
  "language_info": {
   "codemirror_mode": {
    "name": "ipython",
    "version": 3
   },
   "file_extension": ".py",
   "mimetype": "text/x-python",
   "name": "python",
   "nbconvert_exporter": "python",
   "pygments_lexer": "ipython3",
   "version": "3.9.12"
  }
 },
 "nbformat": 4,
 "nbformat_minor": 5
}
