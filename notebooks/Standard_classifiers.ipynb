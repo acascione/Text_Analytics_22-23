{
 "cells": [
  {
   "cell_type": "markdown",
   "metadata": {
    "id": "twkdHFF_drmJ"
   },
   "source": [
    "# Training standard classifiers for misogyny identification task"
   ]
  },
  {
   "cell_type": "markdown",
   "metadata": {
    "id": "QJRLz30Iev8q"
   },
   "source": [
    "## Pre-processing steps"
   ]
  },
  {
   "cell_type": "code",
   "execution_count": 1,
   "metadata": {
    "colab": {
     "base_uri": "https://localhost:8080/"
    },
    "id": "jCteg9YZ1xHG",
    "outputId": "a36474d3-6e97-4de8-8e32-19b02e31c037"
   },
   "outputs": [
    {
     "name": "stdout",
     "output_type": "stream",
     "text": [
      "Looking in indexes: https://pypi.org/simple, https://us-python.pkg.dev/colab-wheels/public/simple/\n",
      "Requirement already satisfied: nltk in /usr/local/lib/python3.8/dist-packages (3.7)\n",
      "Collecting emoji==0.6.0\n",
      "  Downloading emoji-0.6.0.tar.gz (51 kB)\n",
      "\u001b[2K     \u001b[90m━━━━━━━━━━━━━━━━━━━━━━━━━━━━━━━━━━━━━━━━\u001b[0m \u001b[32m51.0/51.0 KB\u001b[0m \u001b[31m2.1 MB/s\u001b[0m eta \u001b[36m0:00:00\u001b[0m\n",
      "\u001b[?25h  Preparing metadata (setup.py) ... \u001b[?25l\u001b[?25hdone\n",
      "Requirement already satisfied: regex>=2021.8.3 in /usr/local/lib/python3.8/dist-packages (from nltk) (2022.6.2)\n",
      "Requirement already satisfied: joblib in /usr/local/lib/python3.8/dist-packages (from nltk) (1.2.0)\n",
      "Requirement already satisfied: tqdm in /usr/local/lib/python3.8/dist-packages (from nltk) (4.64.1)\n",
      "Requirement already satisfied: click in /usr/local/lib/python3.8/dist-packages (from nltk) (7.1.2)\n",
      "Building wheels for collected packages: emoji\n",
      "  Building wheel for emoji (setup.py) ... \u001b[?25l\u001b[?25hdone\n",
      "  Created wheel for emoji: filename=emoji-0.6.0-py3-none-any.whl size=49735 sha256=213ddd3a5e7bf5a842dfc4d361b4bce4e59a78b595373cfdbef607adc1d7ae3d\n",
      "  Stored in directory: /root/.cache/pip/wheels/43/3d/82/e7baffa5e86346c6178d7750dba6e8ef063282a37fc563f8f8\n",
      "Successfully built emoji\n",
      "Installing collected packages: emoji\n",
      "Successfully installed emoji-0.6.0\n",
      "Looking in indexes: https://pypi.org/simple, https://us-python.pkg.dev/colab-wheels/public/simple/\n",
      "Collecting sentence-transformers\n",
      "  Downloading sentence-transformers-2.2.2.tar.gz (85 kB)\n",
      "\u001b[2K     \u001b[90m━━━━━━━━━━━━━━━━━━━━━━━━━━━━━━━━━━━━━━━━\u001b[0m \u001b[32m86.0/86.0 KB\u001b[0m \u001b[31m2.5 MB/s\u001b[0m eta \u001b[36m0:00:00\u001b[0m\n",
      "\u001b[?25h  Preparing metadata (setup.py) ... \u001b[?25l\u001b[?25hdone\n",
      "Collecting transformers<5.0.0,>=4.6.0\n",
      "  Downloading transformers-4.26.1-py3-none-any.whl (6.3 MB)\n",
      "\u001b[2K     \u001b[90m━━━━━━━━━━━━━━━━━━━━━━━━━━━━━━━━━━━━━━━━\u001b[0m \u001b[32m6.3/6.3 MB\u001b[0m \u001b[31m46.7 MB/s\u001b[0m eta \u001b[36m0:00:00\u001b[0m\n",
      "\u001b[?25hRequirement already satisfied: tqdm in /usr/local/lib/python3.8/dist-packages (from sentence-transformers) (4.64.1)\n",
      "Requirement already satisfied: torch>=1.6.0 in /usr/local/lib/python3.8/dist-packages (from sentence-transformers) (1.13.1+cu116)\n",
      "Requirement already satisfied: torchvision in /usr/local/lib/python3.8/dist-packages (from sentence-transformers) (0.14.1+cu116)\n",
      "Requirement already satisfied: numpy in /usr/local/lib/python3.8/dist-packages (from sentence-transformers) (1.21.6)\n",
      "Requirement already satisfied: scikit-learn in /usr/local/lib/python3.8/dist-packages (from sentence-transformers) (1.0.2)\n",
      "Requirement already satisfied: scipy in /usr/local/lib/python3.8/dist-packages (from sentence-transformers) (1.7.3)\n",
      "Requirement already satisfied: nltk in /usr/local/lib/python3.8/dist-packages (from sentence-transformers) (3.7)\n",
      "Collecting sentencepiece\n",
      "  Downloading sentencepiece-0.1.97-cp38-cp38-manylinux_2_17_x86_64.manylinux2014_x86_64.whl (1.3 MB)\n",
      "\u001b[2K     \u001b[90m━━━━━━━━━━━━━━━━━━━━━━━━━━━━━━━━━━━━━━━━\u001b[0m \u001b[32m1.3/1.3 MB\u001b[0m \u001b[31m18.3 MB/s\u001b[0m eta \u001b[36m0:00:00\u001b[0m\n",
      "\u001b[?25hCollecting huggingface-hub>=0.4.0\n",
      "  Downloading huggingface_hub-0.12.0-py3-none-any.whl (190 kB)\n",
      "\u001b[2K     \u001b[90m━━━━━━━━━━━━━━━━━━━━━━━━━━━━━━━━━━━━━━\u001b[0m \u001b[32m190.3/190.3 KB\u001b[0m \u001b[31m16.4 MB/s\u001b[0m eta \u001b[36m0:00:00\u001b[0m\n",
      "\u001b[?25hRequirement already satisfied: packaging>=20.9 in /usr/local/lib/python3.8/dist-packages (from huggingface-hub>=0.4.0->sentence-transformers) (23.0)\n",
      "Requirement already satisfied: requests in /usr/local/lib/python3.8/dist-packages (from huggingface-hub>=0.4.0->sentence-transformers) (2.25.1)\n",
      "Requirement already satisfied: typing-extensions>=3.7.4.3 in /usr/local/lib/python3.8/dist-packages (from huggingface-hub>=0.4.0->sentence-transformers) (4.4.0)\n",
      "Requirement already satisfied: filelock in /usr/local/lib/python3.8/dist-packages (from huggingface-hub>=0.4.0->sentence-transformers) (3.9.0)\n",
      "Requirement already satisfied: pyyaml>=5.1 in /usr/local/lib/python3.8/dist-packages (from huggingface-hub>=0.4.0->sentence-transformers) (6.0)\n",
      "Requirement already satisfied: regex!=2019.12.17 in /usr/local/lib/python3.8/dist-packages (from transformers<5.0.0,>=4.6.0->sentence-transformers) (2022.6.2)\n",
      "Collecting tokenizers!=0.11.3,<0.14,>=0.11.1\n",
      "  Downloading tokenizers-0.13.2-cp38-cp38-manylinux_2_17_x86_64.manylinux2014_x86_64.whl (7.6 MB)\n",
      "\u001b[2K     \u001b[90m━━━━━━━━━━━━━━━━━━━━━━━━━━━━━━━━━━━━━━━━\u001b[0m \u001b[32m7.6/7.6 MB\u001b[0m \u001b[31m90.8 MB/s\u001b[0m eta \u001b[36m0:00:00\u001b[0m\n",
      "\u001b[?25hRequirement already satisfied: click in /usr/local/lib/python3.8/dist-packages (from nltk->sentence-transformers) (7.1.2)\n",
      "Requirement already satisfied: joblib in /usr/local/lib/python3.8/dist-packages (from nltk->sentence-transformers) (1.2.0)\n",
      "Requirement already satisfied: threadpoolctl>=2.0.0 in /usr/local/lib/python3.8/dist-packages (from scikit-learn->sentence-transformers) (3.1.0)\n",
      "Requirement already satisfied: pillow!=8.3.*,>=5.3.0 in /usr/local/lib/python3.8/dist-packages (from torchvision->sentence-transformers) (7.1.2)\n",
      "Requirement already satisfied: chardet<5,>=3.0.2 in /usr/local/lib/python3.8/dist-packages (from requests->huggingface-hub>=0.4.0->sentence-transformers) (4.0.0)\n",
      "Requirement already satisfied: idna<3,>=2.5 in /usr/local/lib/python3.8/dist-packages (from requests->huggingface-hub>=0.4.0->sentence-transformers) (2.10)\n",
      "Requirement already satisfied: certifi>=2017.4.17 in /usr/local/lib/python3.8/dist-packages (from requests->huggingface-hub>=0.4.0->sentence-transformers) (2022.12.7)\n",
      "Requirement already satisfied: urllib3<1.27,>=1.21.1 in /usr/local/lib/python3.8/dist-packages (from requests->huggingface-hub>=0.4.0->sentence-transformers) (1.24.3)\n",
      "Building wheels for collected packages: sentence-transformers\n",
      "  Building wheel for sentence-transformers (setup.py) ... \u001b[?25l\u001b[?25hdone\n",
      "  Created wheel for sentence-transformers: filename=sentence_transformers-2.2.2-py3-none-any.whl size=125938 sha256=61cdd358c368c4ec82ac51b3283f633f25dca66cd588fecf218d0e5601b1f78a\n",
      "  Stored in directory: /root/.cache/pip/wheels/5e/6f/8c/d88aec621f3f542d26fac0342bef5e693335d125f4e54aeffe\n",
      "Successfully built sentence-transformers\n",
      "Installing collected packages: tokenizers, sentencepiece, huggingface-hub, transformers, sentence-transformers\n",
      "Successfully installed huggingface-hub-0.12.0 sentence-transformers-2.2.2 sentencepiece-0.1.97 tokenizers-0.13.2 transformers-4.26.1\n"
     ]
    }
   ],
   "source": [
    "#install needed libraries\n",
    "!pip install nltk emoji==0.6.0\n",
    "!pip install -U sentence-transformers\n"
   ]
  },
  {
   "cell_type": "code",
   "execution_count": 2,
   "metadata": {
    "id": "T0iuS_VW24xi"
   },
   "outputs": [],
   "source": [
    "#import needed libraries\n",
    "import pandas as pd\n",
    "import numpy as np\n",
    "from TweetNormalize import normalizeTweet\n",
    "\n",
    "import warnings\n",
    "\n",
    "from sklearn.feature_extraction.text import TfidfTransformer, CountVectorizer\n",
    "from sentence_transformers import SentenceTransformer\n"
   ]
  },
  {
   "cell_type": "code",
   "execution_count": 4,
   "metadata": {
    "colab": {
     "base_uri": "https://localhost:8080/"
    },
    "id": "kaGfqTVK1BHd",
    "outputId": "ffda76aa-27cc-4017-d7bd-10788e899b9e"
   },
   "outputs": [
    {
     "name": "stdout",
     "output_type": "stream",
     "text": [
      "0                    2254\n",
      "discredit             982\n",
      "sexual_harassment     334\n",
      "stereotype            176\n",
      "dominance             145\n",
      "derailing              90\n",
      "Name: misogyny_category, dtype: int64\n"
     ]
    }
   ],
   "source": [
    "#import datasets\n",
    "df_en_train = pd.read_csv(\"/content/data_sets/corrected_df.csv\", sep=',', header=0)\n",
    "df_en_test = pd.read_csv(\"/content/data_sets/en_testing_labeled.tsv\", sep='\\t', header=0)\n",
    "\n",
    "df_en_train\n",
    "\n",
    "print(df_en_train.misogyny_category.value_counts())\n"
   ]
  },
  {
   "cell_type": "code",
   "execution_count": 5,
   "metadata": {
    "id": "y4X3zF7Q2bEh"
   },
   "outputs": [],
   "source": [
    "#perform a normalization with TweetNormalize library and isolate in a new dataframe only mysogynous tweets\n",
    "x_train_binary = [normalizeTweet(i) for i in df_en_train['text']]\n",
    "y_train_binary = [i for i in df_en_train['misogynous']]\n",
    "x_test_binary = [normalizeTweet(i) for i in df_en_test['text']]\n",
    "y_test_binary = [i for i in df_en_test['misogynous']]\n",
    "\n",
    "df_en_train.drop(df_en_train[df_en_train['misogyny_category'] == '0'].index, inplace = True)\n",
    "df_en_test.drop(df_en_test[df_en_test['misogyny_category'] == '0'].index, inplace = True)\n",
    "\n",
    "\n",
    "x_train_multi = [normalizeTweet(i) for i in df_en_train['text']]\n",
    "y_train_multi = [i for i in df_en_train['misogyny_category']]\n",
    "x_test_multi = [normalizeTweet(i) for i in df_en_test['text']]\n",
    "y_test_multi = [i for i in df_en_test['misogyny_category']]"
   ]
  },
  {
   "cell_type": "code",
   "execution_count": 7,
   "metadata": {
    "colab": {
     "base_uri": "https://localhost:8080/"
    },
    "id": "V8bC5_-FuSk4",
    "outputId": "ee9bf850-142c-4fce-cc75-39df0178fcb9"
   },
   "outputs": [
    {
     "name": "stderr",
     "output_type": "stream",
     "text": [
      "[nltk_data] Downloading package stopwords to /root/nltk_data...\n",
      "[nltk_data]   Unzipping corpora/stopwords.zip.\n",
      "[nltk_data] Downloading package wordnet to /root/nltk_data...\n",
      "[nltk_data] Downloading package punkt to /root/nltk_data...\n",
      "[nltk_data]   Unzipping tokenizers/punkt.zip.\n",
      "[nltk_data] Downloading package averaged_perceptron_tagger to\n",
      "[nltk_data]     /root/nltk_data...\n",
      "[nltk_data]   Unzipping taggers/averaged_perceptron_tagger.zip.\n",
      "[nltk_data] Downloading package omw-1.4 to /root/nltk_data...\n",
      "/usr/local/lib/python3.8/dist-packages/torch/cuda/__init__.py:497: UserWarning: Can't initialize NVML\n",
      "  warnings.warn(\"Can't initialize NVML\")\n"
     ]
    }
   ],
   "source": [
    "#import nltk and needed libraries for lemmatizzation, bigrams extraction and so on\n",
    "\n",
    "import nltk\n",
    "nltk.download('stopwords')\n",
    "nltk.download('wordnet')\n",
    "nltk.download('punkt')\n",
    "nltk.download('averaged_perceptron_tagger')\n",
    "nltk.download('omw-1.4')\n",
    "\n",
    "from nltk.corpus import stopwords, wordnet\n",
    "from nltk import word_tokenize, pos_tag\n",
    "from nltk.stem.wordnet import WordNetLemmatizer\n",
    "\n",
    "import spacy\n",
    "import re\n",
    "nlp = spacy.load('en_core_web_sm')\n",
    "\n",
    "stopword_list = stopwords.words('english')\n",
    "\n",
    "doc_counter = 0\n",
    "def reset_counter():\n",
    "  global doc_counter\n",
    "  doc_counter = 0\n",
    "\n",
    "def increase_counter():\n",
    "  global doc_counter\n",
    "  doc_counter += 1\n",
    "  if doc_counter % 100 == 0:\n",
    "    print(doc_counter)\n",
    "\n",
    "def spacy_nlp_tokenizer(text):\n",
    "    increase_counter()\n",
    "\n",
    "    # substituting all space characters with a single space\n",
    "    text = re.sub('\\s+', ' ', text)\n",
    "\n",
    "    # we use spacy for main nlp tasks\n",
    "    doc = nlp(text)\n",
    "    # lemmatized tokens, skipping stopwords\n",
    "    lemmas = ['LEMMA_'+token.lemma_ for token in doc if not token.is_stop]\n",
    "    # entity_types\n",
    "    entity_types = ['NER_'+token.ent_type_ for token in doc if token.ent_type_]\n",
    "\n",
    "    # in case an entity linker is available, we can use it do put actual entities as\n",
    "    # features, e.g. Queen Elizabeth, Elizabeth II, Her Majesty -> KB2912\n",
    "    # see https://spacy.io/usage/training#entity-linker\n",
    "    # entities = ['ENT_'+token.ent_kb_id_ for token in doc if token.ent_kb_id_]\n",
    "\n",
    "    # we use a simple nltk function to create ngrams\n",
    "    lemma_bigrams = ['BI_'+p1+'_'+p2 for p1,p2 in nltk.ngrams(lemmas,2)]\n",
    "    lemma_trigrams = ['TRI_'+p1+'_'+p2+'_'+p3 for p1,p2,p3 in nltk.ngrams(lemmas,3)]\n",
    "\n",
    "    all_tokens = list()\n",
    "    all_tokens.extend(lemmas)\n",
    "    all_tokens.extend(lemma_bigrams)\n",
    "    all_tokens.extend(lemma_trigrams)\n",
    "    all_tokens.extend(entity_types)\n",
    "    return all_tokens"
   ]
  },
  {
   "cell_type": "markdown",
   "metadata": {
    "id": "_O6EAc3PEU2W"
   },
   "source": [
    "# Standard binary classification (set-up)"
   ]
  },
  {
   "cell_type": "code",
   "execution_count": 8,
   "metadata": {
    "colab": {
     "base_uri": "https://localhost:8080/",
     "height": 465,
     "referenced_widgets": [
      "851c0de35ef54d6595c7eb1d7f8e841a",
      "304bef30433f4cf1a1ead190d214871d",
      "4a904f91f2924a21b9e6d8e80fb9dff0",
      "6f69d126a45941e9a18437a482fe41bd",
      "de326806730f4db39136747c775d5053",
      "8018bdf2a540453b8506c82197dab42e",
      "2fe7a4406d7a4312bd620e59d599939d",
      "ab63e62b5dfa49a190f49779d94fce0f",
      "a3d189a86c8f4af38b2ce4fd83ccca58",
      "9427ef5d2acb4d2a8fe5c8466a97fb52",
      "37707316c45c44f68c73fdc65be83305",
      "7855e447e5da4cc08b2659f1d202b8a3",
      "fa5f9a7282d84de69573bdab66559e90",
      "65284c5b1943423dae4dcc5c8ebb14f5",
      "d650e22ec4c546b9a91dc9ae4ca608de",
      "979aa225a16c457eb2876047bd4ec2cb",
      "705a80fbcf354266a458fd73981d3a2f",
      "18d544cc27a64125aaba90011fd7b16c",
      "29f374ee0c7e43e6aedbabdfbe0910b1",
      "3d9c5a30cadb4419ab64ec7aa778e080",
      "8dcb88015c4341809989b8fd50ab40b4",
      "91973ee528ba440caa343d48526bece6",
      "3418a3a97f624f7b9cffab38c562f1eb",
      "30b0206301c141ad9dad8d6907e0e4be",
      "aa6ec19780e84c6baf21d36e6f1382ff",
      "94e46ec3cc4147deb04dff637f682800",
      "d3d0f61214cb4b26994516a741ecff67",
      "68a65871c63744e7bbdbd936eb0367a6",
      "37f1c1c5c99a4e8a8921947aa4aefc1e",
      "1f4f25d8ef4c4f81b4c31e201f523afe",
      "d40007307ef74d4cbb20a610669d7b14",
      "0c25923f79094db690a305dfe6392135",
      "5d017527f720461ebd585c42bc1b9fa2",
      "1f0a857362c647ac89c5b7766a532325",
      "2aa729eb5f6d4c348ba62713e197c9f1",
      "aeff3083356f4c76b12525fd80ae23b0",
      "5adffb4964254eae8571f4deaa09b0db",
      "24ef1272c7f746b4a59c8d9960cbcec8",
      "1e820761a17342fdb73a0bc50fe4650e",
      "524ca1f2dd8c4f8288d570b3d36d911a",
      "0eb8e05344f94e198aea607d34afdd4c",
      "77fd6af80b694caab1661cadf616370e",
      "94ba7bb1e8df4a0d9d8d8cc096889b3c",
      "5ccdfed92b414a87a1bb7444f55047a9",
      "824b5785d971430fba235fb68d5c65e6",
      "cb399c2da6d647daa0b61c66b7bb62e1",
      "fdd3a2837b6f4d7484ca07e704344b51",
      "0eff406b4e4f472b8a8503104cef0398",
      "3accacd5b01a4500bb42bfe128169c87",
      "068fa52688e14ccb9b9ef7d563e6554b",
      "f68139de3bce4edd9e8a4ef20f4336b8",
      "6ca689bbfa3b48459440a72fd156ff8a",
      "2b0b9be6b19b4b0887e90abe105bb2bc",
      "0cb4c6bfb2cc4fa5831bbb9f7e6ea4d4",
      "a65b3f78878540bdbf92bf413cae0bd0",
      "9c35302f8b144f9f895af4a08ba34d64",
      "cf396aed843245bebef9d87d04b23e74",
      "90dd762d49584f7b9f67724ae59919e0",
      "8b293dff7a7d4effb0f41be4f01050e6",
      "4de053c5bce94092b749298e69ae4bf7",
      "17edf15276544ca4b6b7d4f0c0ce7a7f",
      "04bfdb51f1ef4eb6887d3c7098779d7b",
      "23f39db8f180450aa02587a2694de531",
      "b0f5f886a542474dad175213d05a30fb",
      "3cdf054240594cf58da007844cb95b01",
      "d48bd17ea26c4ceea4ab75094e4a1d7c",
      "641a55eabe134abca7814fa671a6dbb6",
      "1604f079bebc41aaa4b5ba80252a3f1e",
      "8ced0cf847904b2ea408a243d889cd5f",
      "8cfb614dc69f40b2a18ed612a3ad4274",
      "0dfe0fcb4e024766b6ed346eb4d51d6c",
      "3b6d6e08e78c4a8aafe23f9ff194c0e6",
      "8d826506e3774696937d5a2e783167ba",
      "06e904f9bcc34eaba65e1ad4fde2b513",
      "6cda3de9d06e430a903445d0d56e7da6",
      "7d9d99046deb44bab969c30597d2d6ba",
      "f2e9d7c8560240c5a306444b50b0b223",
      "28b721a89d9f4cb8b0c43dc0c6b3bcae",
      "e9250b02100440539c5e6fdac93cd766",
      "ef706872818743d78b92de645d47705b",
      "bff5f50a10b44526ac1a70b9e26309bd",
      "8b84e1ef3f4e4baf8893ad81170d34f2",
      "1881a3e932b44eb2b9c528e1d8ccdad3",
      "6e1be64341b14192b2d31c5f31f50661",
      "0ae517dcf96e49a7bd107f6878cb45f5",
      "1c70354d02254fcbb3c6c544420cd8bf",
      "d2240d8222f04c3fb3026f76b6f64fde",
      "5ba6fc55a8784b8cbf462ef6c1752f2d",
      "e14ca8d259b24fab84dfba1aa2218d59",
      "6b1f601db2fc4a2ca8044af807bf3317",
      "58497dd85a8449fc8fa86b8a7cef517e",
      "3acdc1ab7998441086ca25e9d0eeceb5",
      "a4549857801144aeac5afecdbb3855e3",
      "7cabf1df77b54feca1144b66dc01eb1a",
      "dc6b2347d5aa41a5b145cf3a7397bd22",
      "a1ddc0ad055a4cc0bee45a5f6dbb853d",
      "e2cb2a278d174765ba068e594bacf506",
      "01d38de7dbfb4d399275f0f0e1c27c59",
      "d46a05df23084489a84fc58a22e77ee1",
      "0aca60ba2d394c51be48c4db8b70e706",
      "b596091494ca4502b098ea8361d1fde7",
      "df2162163cfb4f1789dc587136d74893",
      "533813a44ba3420c911b5e9f08323815",
      "73734b892e6e494a9671ee0acbcf5974",
      "34c81671d08a49d08da63545fb26c763",
      "559386561c6a4b59a664914106da8b26",
      "13feae4fece446c48bf8487c66b42b99",
      "6fec436902374c22a195381eca12ca3c",
      "ef82036e7d7041d6807983f7627293f8",
      "f3660c0a70bf460ba81ecf8b84ab13e3",
      "8009e695c295425a876fca6ac1c87b34",
      "5f23220ac9044aaf91535527d669b272",
      "60f40827b4be4dca9d2d53ba70df87e6",
      "16f12bf65cbf46678ad8119b9b0418a1",
      "2f6484e667d24601963b7451c8bb6bf5",
      "87cc7d98467341e19feaaae07d21dca8",
      "1fca1a5931bd4e28bad914c063adbb42",
      "1f74d9e6a7224d879146e428c2c507ab",
      "e0f2b561735144fc86e560324acdf343",
      "68a7e757c3d04add92d86c99c68195f8",
      "e2174647d84f456894c301d076daccc6",
      "edea84b8970b4fcbae739b671b348eb9",
      "d3bef7628483433392a4a0f601949245",
      "76627019753945b797d61991479590ff",
      "c32c96eedf8c40979499538fc77e5157",
      "b61d719737ad4b0cb910bc00bae128c6",
      "0ec21f386eb84d49b5e707fc0d2c9fd9",
      "e67ccad5790a4b28b4fb8f4cbea11793",
      "ae97c6eab0b44243a1de0654506642a8",
      "7787500c468944769a2b7f51f3e1e729",
      "40d82ac523b744308afaab433c9cfc04",
      "3ed4b17fb6be439fb98b52711ca26926",
      "e44c3390c36f4984890794347ec8b3f4",
      "7ef89419529c4539b344279bf6007469",
      "acec5e6ac2ef4ce6b28f02494b9a86a7",
      "8417d72b57c541dbb4b0bacdac024c2d",
      "d96e2996d6e5471ca6d3a58543962c7f",
      "978bec63a7a44cb798a2c0bc8b22b16e",
      "851ae943949e4f0d83cfcf0150d035ae",
      "5938d8855c4e465491f8a7142b6f06d4",
      "b90ef48f173d42f0b12c0067976185dd",
      "2a5dffd9224c4db0a8959b581712ef1e",
      "31bb3dc84f2043cb9241443e952a2a7a",
      "a02b313086b24d329713ec63fa178c1c",
      "9597398e6e0b42818cc0bf20d606e136",
      "e437cd00a9394d9cbab85804a48d0776",
      "d5fd8eb2ce134c51884c1e77bc74d0c2",
      "c2fc6b4b069c4fd0874b32a1a9fc4eab",
      "db116e0dc337464fbc2f6e448d38a91c",
      "a59bed3b73c4429bae92a6a263203608",
      "f220a257ddae4074a9f0578d19d83898",
      "9e3315b1d6fa4af5a79c7f2a5d8b72e1",
      "1a6316494eea4f288c7223fe0e2d7af6",
      "1eb1cd2884f042a8b671665625ecd20e"
     ]
    },
    "id": "qb58xcwGETRd",
    "outputId": "3d81d45a-a5a4-4ac9-e38c-b6363a7499bd"
   },
   "outputs": [
    {
     "data": {
      "application/vnd.jupyter.widget-view+json": {
       "model_id": "851c0de35ef54d6595c7eb1d7f8e841a",
       "version_major": 2,
       "version_minor": 0
      },
      "text/plain": [
       "Downloading (…)e9125/.gitattributes:   0%|          | 0.00/1.18k [00:00<?, ?B/s]"
      ]
     },
     "metadata": {},
     "output_type": "display_data"
    },
    {
     "data": {
      "application/vnd.jupyter.widget-view+json": {
       "model_id": "7855e447e5da4cc08b2659f1d202b8a3",
       "version_major": 2,
       "version_minor": 0
      },
      "text/plain": [
       "Downloading (…)_Pooling/config.json:   0%|          | 0.00/190 [00:00<?, ?B/s]"
      ]
     },
     "metadata": {},
     "output_type": "display_data"
    },
    {
     "data": {
      "application/vnd.jupyter.widget-view+json": {
       "model_id": "3418a3a97f624f7b9cffab38c562f1eb",
       "version_major": 2,
       "version_minor": 0
      },
      "text/plain": [
       "Downloading (…)7e55de9125/README.md:   0%|          | 0.00/10.6k [00:00<?, ?B/s]"
      ]
     },
     "metadata": {},
     "output_type": "display_data"
    },
    {
     "data": {
      "application/vnd.jupyter.widget-view+json": {
       "model_id": "1f0a857362c647ac89c5b7766a532325",
       "version_major": 2,
       "version_minor": 0
      },
      "text/plain": [
       "Downloading (…)55de9125/config.json:   0%|          | 0.00/612 [00:00<?, ?B/s]"
      ]
     },
     "metadata": {},
     "output_type": "display_data"
    },
    {
     "data": {
      "application/vnd.jupyter.widget-view+json": {
       "model_id": "824b5785d971430fba235fb68d5c65e6",
       "version_major": 2,
       "version_minor": 0
      },
      "text/plain": [
       "Downloading (…)ce_transformers.json:   0%|          | 0.00/116 [00:00<?, ?B/s]"
      ]
     },
     "metadata": {},
     "output_type": "display_data"
    },
    {
     "data": {
      "application/vnd.jupyter.widget-view+json": {
       "model_id": "9c35302f8b144f9f895af4a08ba34d64",
       "version_major": 2,
       "version_minor": 0
      },
      "text/plain": [
       "Downloading (…)125/data_config.json:   0%|          | 0.00/39.3k [00:00<?, ?B/s]"
      ]
     },
     "metadata": {},
     "output_type": "display_data"
    },
    {
     "data": {
      "application/vnd.jupyter.widget-view+json": {
       "model_id": "641a55eabe134abca7814fa671a6dbb6",
       "version_major": 2,
       "version_minor": 0
      },
      "text/plain": [
       "Downloading (…)\"pytorch_model.bin\";:   0%|          | 0.00/90.9M [00:00<?, ?B/s]"
      ]
     },
     "metadata": {},
     "output_type": "display_data"
    },
    {
     "data": {
      "application/vnd.jupyter.widget-view+json": {
       "model_id": "28b721a89d9f4cb8b0c43dc0c6b3bcae",
       "version_major": 2,
       "version_minor": 0
      },
      "text/plain": [
       "Downloading (…)nce_bert_config.json:   0%|          | 0.00/53.0 [00:00<?, ?B/s]"
      ]
     },
     "metadata": {},
     "output_type": "display_data"
    },
    {
     "data": {
      "application/vnd.jupyter.widget-view+json": {
       "model_id": "e14ca8d259b24fab84dfba1aa2218d59",
       "version_major": 2,
       "version_minor": 0
      },
      "text/plain": [
       "Downloading (…)cial_tokens_map.json:   0%|          | 0.00/112 [00:00<?, ?B/s]"
      ]
     },
     "metadata": {},
     "output_type": "display_data"
    },
    {
     "data": {
      "application/vnd.jupyter.widget-view+json": {
       "model_id": "0aca60ba2d394c51be48c4db8b70e706",
       "version_major": 2,
       "version_minor": 0
      },
      "text/plain": [
       "Downloading (…)e9125/tokenizer.json:   0%|          | 0.00/466k [00:00<?, ?B/s]"
      ]
     },
     "metadata": {},
     "output_type": "display_data"
    },
    {
     "data": {
      "application/vnd.jupyter.widget-view+json": {
       "model_id": "8009e695c295425a876fca6ac1c87b34",
       "version_major": 2,
       "version_minor": 0
      },
      "text/plain": [
       "Downloading (…)okenizer_config.json:   0%|          | 0.00/350 [00:00<?, ?B/s]"
      ]
     },
     "metadata": {},
     "output_type": "display_data"
    },
    {
     "data": {
      "application/vnd.jupyter.widget-view+json": {
       "model_id": "edea84b8970b4fcbae739b671b348eb9",
       "version_major": 2,
       "version_minor": 0
      },
      "text/plain": [
       "Downloading (…)9125/train_script.py:   0%|          | 0.00/13.2k [00:00<?, ?B/s]"
      ]
     },
     "metadata": {},
     "output_type": "display_data"
    },
    {
     "data": {
      "application/vnd.jupyter.widget-view+json": {
       "model_id": "e44c3390c36f4984890794347ec8b3f4",
       "version_major": 2,
       "version_minor": 0
      },
      "text/plain": [
       "Downloading (…)7e55de9125/vocab.txt:   0%|          | 0.00/232k [00:00<?, ?B/s]"
      ]
     },
     "metadata": {},
     "output_type": "display_data"
    },
    {
     "data": {
      "application/vnd.jupyter.widget-view+json": {
       "model_id": "a02b313086b24d329713ec63fa178c1c",
       "version_major": 2,
       "version_minor": 0
      },
      "text/plain": [
       "Downloading (…)5de9125/modules.json:   0%|          | 0.00/349 [00:00<?, ?B/s]"
      ]
     },
     "metadata": {},
     "output_type": "display_data"
    }
   ],
   "source": [
    "#find sentence embeddings with sentence_transformers for classification\n",
    "\n",
    "from sentence_transformers import SentenceTransformer\n",
    "model = SentenceTransformer('all-MiniLM-L6-v2')\n",
    "\n",
    "embeddings_train = model.encode(x_train_binary)\n",
    "embeddings_test = model.encode(x_test_binary)\n",
    "\n"
   ]
  },
  {
   "cell_type": "code",
   "execution_count": 9,
   "metadata": {
    "colab": {
     "base_uri": "https://localhost:8080/"
    },
    "id": "bRsIyeyX5tLp",
    "outputId": "9f964da4-9780-4973-e104-b6d35a0a02f1"
   },
   "outputs": [
    {
     "data": {
      "text/plain": [
       "array([[ 0.07823314,  0.00166578, -0.02215503, ..., -0.00751157,\n",
       "         0.03990845, -0.04104037],\n",
       "       [ 0.00813215, -0.00782378,  0.02371388, ..., -0.0024921 ,\n",
       "        -0.00565706, -0.00044518],\n",
       "       [ 0.05174644,  0.03939102,  0.01488177, ...,  0.05016293,\n",
       "         0.01630843, -0.00589664],\n",
       "       ...,\n",
       "       [ 0.02854619,  0.01384385, -0.01831001, ...,  0.02950617,\n",
       "         0.08947185, -0.01513391],\n",
       "       [-0.01538778,  0.0250418 , -0.0024812 , ...,  0.06980995,\n",
       "        -0.01515081,  0.03236844],\n",
       "       [ 0.00791458,  0.04946415,  0.02696154, ...,  0.0313763 ,\n",
       "         0.06957997,  0.07036553]], dtype=float32)"
      ]
     },
     "execution_count": 9,
     "metadata": {},
     "output_type": "execute_result"
    }
   ],
   "source": [
    "embeddings_train"
   ]
  },
  {
   "cell_type": "code",
   "execution_count": 10,
   "metadata": {
    "id": "iaoRARkptCXF"
   },
   "outputs": [],
   "source": [
    "#find lingustic features relevant for classification\n",
    "\n",
    "#given a list of tokens, find how many occurences of \"reference\" are present in such list\n",
    "def find_how_many(string_list,reference):\n",
    "  count = 0\n",
    "  for x in string_list:\n",
    "    if x == reference:\n",
    "      count += 1\n",
    "\n",
    "  return count\n",
    "\n",
    "#extract adjectives from a string\n",
    "def extract_adjs(string):\n",
    "  tweet_adjs= []\n",
    "  doc = nlp(string)\n",
    "  adjs = 0\n",
    "  for token in doc:\n",
    "    if token.pos_ == 'ADJ':\n",
    "     adjs += 1\n",
    "  return adjs\n",
    "\n",
    "#extractl linguistic features such as the number of HTTPURL and @USER and adjectives in a reference string\n",
    "def linguistic_extraction(dataset):\n",
    "  linguistic_features = []\n",
    "  for x in dataset:\n",
    "    lenght = len(x)\n",
    "    urls = find_how_many(x.split(),'HTTPURL')\n",
    "    users = find_how_many(x.split(),'@USER')\n",
    "    adjs =  extract_adjs(x)\n",
    "    linguistic_features.append([lenght] + [urls] + [users] + [adjs])\n",
    "  return linguistic_features\n"
   ]
  },
  {
   "cell_type": "code",
   "execution_count": 11,
   "metadata": {
    "id": "866dPyzMuE5a"
   },
   "outputs": [],
   "source": [
    "linguistic_features_train = linguistic_extraction(x_train_binary)\n",
    "linguistic_features_test = linguistic_extraction(x_test_binary)"
   ]
  },
  {
   "cell_type": "code",
   "execution_count": 12,
   "metadata": {
    "colab": {
     "base_uri": "https://localhost:8080/"
    },
    "id": "mK9mqOBWJj9C",
    "outputId": "216a8afb-a9d7-4b0a-eed0-ce079d24921d"
   },
   "outputs": [
    {
     "name": "stdout",
     "output_type": "stream",
     "text": [
      "100\n",
      "200\n",
      "300\n",
      "400\n",
      "500\n",
      "600\n",
      "700\n",
      "800\n",
      "900\n",
      "1000\n",
      "1100\n",
      "1200\n",
      "1300\n",
      "1400\n",
      "1500\n",
      "1600\n",
      "1700\n",
      "1800\n",
      "1900\n",
      "2000\n",
      "2100\n",
      "2200\n",
      "2300\n",
      "2400\n",
      "2500\n",
      "2600\n",
      "2700\n",
      "2800\n",
      "2900\n",
      "3000\n",
      "3100\n",
      "3200\n",
      "3300\n",
      "3400\n",
      "3500\n",
      "3600\n",
      "3700\n",
      "3800\n",
      "3900\n",
      "100\n",
      "200\n",
      "300\n",
      "400\n",
      "500\n",
      "600\n",
      "700\n",
      "800\n",
      "900\n",
      "1000\n"
     ]
    }
   ],
   "source": [
    "vect = CountVectorizer(analyzer=spacy_nlp_tokenizer, min_df=5)  \n",
    "\n",
    "reset_counter()\n",
    "\n",
    "X_train_tok = vect.fit_transform(x_train_binary)\n",
    "\n",
    "reset_counter()\n",
    "\n",
    "X_test_tok = vect.transform(x_test_binary)"
   ]
  },
  {
   "cell_type": "code",
   "execution_count": 13,
   "metadata": {
    "colab": {
     "base_uri": "https://localhost:8080/"
    },
    "id": "BnUTYyfIKaFu",
    "outputId": "e2050991-9c45-4a0e-c1ec-01f566c8d02c"
   },
   "outputs": [
    {
     "data": {
      "text/plain": [
       "<3981x1845 sparse matrix of type '<class 'numpy.int64'>'\n",
       "\twith 46142 stored elements in Compressed Sparse Row format>"
      ]
     },
     "execution_count": 13,
     "metadata": {},
     "output_type": "execute_result"
    }
   ],
   "source": [
    "X_train_tok"
   ]
  },
  {
   "cell_type": "code",
   "execution_count": 14,
   "metadata": {
    "id": "gxYNjGhLserK"
   },
   "outputs": [],
   "source": [
    "tfidf = TfidfTransformer()  # weighting\n",
    "tfidf.fit(X_train_tok)\n",
    "X_train_vec_bin = tfidf.transform(X_train_tok)\n",
    "X_test_vec_bin =tfidf.transform(X_test_tok)"
   ]
  },
  {
   "cell_type": "code",
   "execution_count": 15,
   "metadata": {
    "colab": {
     "base_uri": "https://localhost:8080/"
    },
    "id": "1HoaofynhBNY",
    "outputId": "c63013b1-5279-4e22-d149-693d0a5ae37c"
   },
   "outputs": [
    {
     "name": "stdout",
     "output_type": "stream",
     "text": [
      "  (0, 1577)\t0.2669786247139648\n",
      "  (0, 1464)\t0.3188958591027836\n",
      "  (0, 1240)\t0.418877067378498\n",
      "  (0, 1109)\t0.21147753205359276\n",
      "  (0, 885)\t0.15274627264994894\n",
      "  (0, 786)\t0.44950173260906195\n",
      "  (0, 748)\t0.38039708619421275\n",
      "  (0, 707)\t0.2570178618378364\n",
      "  (0, 587)\t0.41316309726076283\n"
     ]
    }
   ],
   "source": [
    "print(X_train_vec_bin[0])"
   ]
  },
  {
   "cell_type": "code",
   "execution_count": 16,
   "metadata": {
    "id": "VOWoto3_0d2I"
   },
   "outputs": [],
   "source": [
    "#transfomr the extracted features matrix in an array and enrich it with linguistic features extracted before along with\n",
    "#embeddings (in a sense, extend the number of features associated to each tweet/vector for classification purposes)\n",
    "\n",
    "X_train_vec_bin_arr = X_train_vec_bin.toarray()\n",
    "X_test_vec_bin_arr = X_test_vec_bin.toarray()\n",
    "\n",
    "X_train_full = []\n",
    "X_test_full = []\n",
    "\n",
    "for i in range(len(X_train_vec_bin_arr)):\n",
    "  arr1 = X_train_vec_bin_arr[i]\n",
    "  arr2 = embeddings_train[i]\n",
    "  arr3 = linguistic_features_train[i]\n",
    "  X_train_full.append(np.concatenate((arr1,arr2,arr3), axis =0))\n",
    "\n",
    "for i in range(len(X_test_vec_bin_arr)):\n",
    "  arr1 = X_test_vec_bin_arr[i]\n",
    "  arr2 = embeddings_test[i]\n",
    "  arr3 = linguistic_features_test[i]\n",
    "  X_test_full.append(np.concatenate((arr1,arr2,arr3), axis =0))\n"
   ]
  },
  {
   "cell_type": "code",
   "execution_count": 17,
   "metadata": {
    "id": "tDa0Gh54zwGu"
   },
   "outputs": [],
   "source": [
    "from scipy import sparse"
   ]
  },
  {
   "cell_type": "code",
   "execution_count": 18,
   "metadata": {
    "id": "xJq0ErHY20d-"
   },
   "outputs": [],
   "source": [
    "X_train_full = sparse.csr_matrix(X_train_full)\n",
    "X_test_full = sparse.csr_matrix(X_test_full)"
   ]
  },
  {
   "cell_type": "code",
   "execution_count": 19,
   "metadata": {
    "id": "m6E5Z1uOm8yc"
   },
   "outputs": [],
   "source": [
    "#import needed libraries and define functions for gridsearch\n",
    "\n",
    "from sklearn.ensemble import RandomForestClassifier\n",
    "from sklearn.neural_network import MLPClassifier\n",
    "from sklearn.linear_model import LogisticRegression\n",
    "\n",
    "from sklearn.metrics import confusion_matrix, classification_report\n",
    "from sklearn.model_selection import GridSearchCV, StratifiedKFold"
   ]
  },
  {
   "cell_type": "code",
   "execution_count": 20,
   "metadata": {
    "id": "kH08hA65sMgY"
   },
   "outputs": [],
   "source": [
    "skf = StratifiedKFold(shuffle=True, random_state = 42)"
   ]
  },
  {
   "cell_type": "code",
   "execution_count": 21,
   "metadata": {
    "id": "165pVFw3S3e8"
   },
   "outputs": [],
   "source": [
    "#the following function performs a gridsearch considering a refernece classifier, a set of parameters, a cv-object from sklearn\n",
    "#library, a training and final test set and a reference scoring function.\n",
    "\n",
    "#it then outputs the best model coming from the model selection, after having printed results on the test set\n",
    "\n",
    "def perform_gridsearch(classifier, param_grid, cv, X_train, y_train, X_test, y_test, scoring = None):\n",
    "\n",
    "  clf = GridSearchCV(estimator = classifier, param_grid = param_grid, n_jobs = -1, cv = cv, scoring = scoring)\n",
    "  clf.fit(X_train, y_train)\n",
    "\n",
    "  best_model = clf.best_estimator_\n",
    "\n",
    "  predictions = best_model.predict(X_test)\n",
    "\n",
    "\n",
    "\n",
    "\n",
    "  print('Best configuration', clf.best_params_)\n",
    "  print('Best mean score for the validation', clf.best_score_)\n",
    "  print('Std for the best mean score across folds',clf.cv_results_['std_test_score'][clf.best_index_])\n",
    "\n",
    "  print('******************')\n",
    "\n",
    "  print('Classification report:')\n",
    "  print(classification_report(y_test, predictions, digits = 7))\n",
    "  print('Confusion matrix:')\n",
    "  cm = confusion_matrix(y_test, predictions)\n",
    "  print(cm)\n",
    "\n",
    "  print('******************')\n",
    "\n",
    "\n",
    "  print(clf.cv_results_['mean_test_score'])\n",
    "\n",
    "\n",
    "\n",
    "\n",
    "  return best_model\n",
    "\n",
    "\n",
    "\n",
    "\n"
   ]
  },
  {
   "cell_type": "markdown",
   "metadata": {
    "id": "a6Who0U7m9VM"
   },
   "source": [
    "# Stratified cross-validation with Logistic Regression"
   ]
  },
  {
   "cell_type": "code",
   "execution_count": 22,
   "metadata": {
    "id": "7LbqCe5Ho_U_"
   },
   "outputs": [],
   "source": [
    "parameters_logistic = {'penalty': ('none', 'l2', 'l1'), 'C':[1.0,0.1,0.001], \n",
    "                       'solver' : [ 'lbfgs','newton-cg','liblinear']}"
   ]
  },
  {
   "cell_type": "code",
   "execution_count": 23,
   "metadata": {
    "colab": {
     "base_uri": "https://localhost:8080/"
    },
    "id": "NWPP5rdbo_Wy",
    "outputId": "ac564a7f-1482-4fcc-e1e1-660681a90a5f"
   },
   "outputs": [
    {
     "name": "stdout",
     "output_type": "stream",
     "text": [
      "Best configuration {'C': 1.0, 'penalty': 'l2', 'solver': 'lbfgs'}\n",
      "Best mean score for the validation 0.7701581937289962\n",
      "Std for the best mean score across folds 0.007985883122220741\n",
      "******************\n",
      "Classification report:\n",
      "              precision    recall  f1-score   support\n",
      "\n",
      "           0  0.6436782 0.7259259 0.6823325       540\n",
      "           1  0.6214834 0.5282609 0.5710928       460\n",
      "\n",
      "    accuracy                      0.6350000      1000\n",
      "   macro avg  0.6325808 0.6270934 0.6267126      1000\n",
      "weighted avg  0.6334686 0.6350000 0.6311622      1000\n",
      "\n",
      "Confusion matrix:\n",
      "[[392 148]\n",
      " [217 243]]\n",
      "******************\n",
      "[0.71162778 0.70383915        nan 0.77015819 0.77015819 0.77015819\n",
      "        nan        nan 0.76814751 0.71162778 0.70383915        nan\n",
      " 0.71941483 0.71941483 0.72041922        nan        nan 0.69253955\n",
      " 0.71162778 0.70383915        nan 0.56618948 0.56618948 0.56618948\n",
      "        nan        nan 0.56618948]\n"
     ]
    }
   ],
   "source": [
    "#RESULTS WITH ORIGINAL SPARSE MATRIX\n",
    "\n",
    "with warnings.catch_warnings():\n",
    "    warnings.simplefilter(\"ignore\")\n",
    "    perform_gridsearch(LogisticRegression(), parameters_logistic, skf, X_train_vec_bin, y_train_binary, X_test_vec_bin, y_test_binary)\n"
   ]
  },
  {
   "cell_type": "code",
   "execution_count": null,
   "metadata": {
    "colab": {
     "base_uri": "https://localhost:8080/"
    },
    "id": "-Yamy9jcwYDQ",
    "outputId": "da37cef6-79ee-49a0-9668-fbfee6c017d2"
   },
   "outputs": [
    {
     "name": "stdout",
     "output_type": "stream",
     "text": [
      "Best configuration {'C': 1.0, 'penalty': 'l2', 'solver': 'liblinear'}\n",
      "Best mean score for the validation 0.7779405181490893\n",
      "Std for the best mean score across folds 0.018893149332023202\n",
      "******************\n",
      "Classification report:\n",
      "              precision    recall  f1-score   support\n",
      "\n",
      "           0  0.7374749 0.6814815 0.7083734       540\n",
      "           1  0.6566866 0.7152174 0.6847034       460\n",
      "\n",
      "    accuracy                      0.6970000      1000\n",
      "   macro avg  0.6970808 0.6983494 0.6965384      1000\n",
      "weighted avg  0.7003123 0.6970000 0.6974852      1000\n",
      "\n",
      "Confusion matrix:\n",
      "[[368 172]\n",
      " [131 329]]\n",
      "******************\n",
      "[0.76111612 0.76212115        nan 0.77743864 0.77743864 0.77794052\n",
      "        nan        nan 0.77718612 0.76111612 0.76212115        nan\n",
      " 0.76387363 0.76387363 0.76538023        nan        nan 0.71464474\n",
      " 0.76111612 0.76212115        nan 0.56618948 0.56618948 0.56618948\n",
      "        nan        nan 0.56618948]\n"
     ]
    }
   ],
   "source": [
    "#RESULTS WITH Embedding \n",
    "with warnings.catch_warnings():\n",
    "    warnings.simplefilter(\"ignore\")\n",
    "    perform_gridsearch(LogisticRegression(), parameters_logistic, skf, embeddings_train, y_train_binary, embeddings_test, y_test_binary)\n",
    "\n",
    "\n",
    "\n"
   ]
  },
  {
   "cell_type": "code",
   "execution_count": null,
   "metadata": {
    "colab": {
     "base_uri": "https://localhost:8080/"
    },
    "id": "urQ_0STUzYuP",
    "outputId": "f7e9dfed-c8fd-47ee-d59a-5aba939d9d0d"
   },
   "outputs": [
    {
     "name": "stdout",
     "output_type": "stream",
     "text": [
      "Best configuration {'C': 1.0, 'penalty': 'l1', 'solver': 'liblinear'}\n",
      "Best mean score for the validation 0.5895474864914283\n",
      "Std for the best mean score across folds 0.010143252056425118\n",
      "******************\n",
      "Classification report:\n",
      "              precision    recall  f1-score   support\n",
      "\n",
      "           0  0.6069869 0.5148148 0.5571142       540\n",
      "           1  0.5166052 0.6086957 0.5588822       460\n",
      "\n",
      "    accuracy                      0.5580000      1000\n",
      "   macro avg  0.5617960 0.5617552 0.5579982      1000\n",
      "weighted avg  0.5654113 0.5580000 0.5579275      1000\n",
      "\n",
      "Confusion matrix:\n",
      "[[278 262]\n",
      " [180 280]]\n",
      "******************\n",
      "[0.58854341 0.58854341        nan 0.58854309 0.58879435 0.58854309\n",
      "        nan        nan 0.58954749 0.58854341 0.58854341        nan\n",
      " 0.58678619 0.58628368 0.58728776        nan        nan 0.58477803\n",
      " 0.58854341 0.58854341        nan 0.56342629 0.56367755 0.56392849\n",
      "        nan        nan 0.56618948]\n"
     ]
    }
   ],
   "source": [
    "#RESULTS WITH linguistic features \n",
    "\n",
    "with warnings.catch_warnings():\n",
    "    warnings.simplefilter(\"ignore\")\n",
    "    perform_gridsearch(LogisticRegression(), parameters_logistic, skf, linguistic_features_train, y_train_binary, linguistic_features_test, y_test_binary)\n",
    "\n"
   ]
  },
  {
   "cell_type": "code",
   "execution_count": null,
   "metadata": {
    "colab": {
     "base_uri": "https://localhost:8080/"
    },
    "id": "SNRgQNATzYyd",
    "outputId": "69fd42de-4039-41c9-d671-a79ed1ceea26"
   },
   "outputs": [
    {
     "name": "stdout",
     "output_type": "stream",
     "text": [
      "Best configuration {'C': 1.0, 'penalty': 'l2', 'solver': 'newton-cg'}\n",
      "Best mean score for the validation 0.8025585896861976\n",
      "Std for the best mean score across folds 0.01654222808419015\n",
      "******************\n",
      "Classification report:\n",
      "              precision    recall  f1-score   support\n",
      "\n",
      "           0  0.7316602 0.7018519 0.7164461       540\n",
      "           1  0.6659751 0.6978261 0.6815287       460\n",
      "\n",
      "    accuracy                      0.7000000      1000\n",
      "   macro avg  0.6988177 0.6998390 0.6989874      1000\n",
      "weighted avg  0.7014451 0.7000000 0.7003841      1000\n",
      "\n",
      "Confusion matrix:\n",
      "[[379 161]\n",
      " [139 321]]\n",
      "******************\n",
      "[0.78246092 0.74377723        nan 0.79502279 0.80255859 0.80205576\n",
      "        nan        nan 0.7940184  0.78246092 0.74377723        nan\n",
      " 0.7807056  0.78296407 0.7812059         nan        nan 0.72092142\n",
      " 0.78246092 0.74377723        nan 0.56694199 0.56694199 0.57121366\n",
      "        nan        nan 0.56618948]\n"
     ]
    }
   ],
   "source": [
    "#RESULTS WITH sparse matrix + embedding + linguistic features\n",
    "with warnings.catch_warnings():\n",
    "    warnings.simplefilter(\"ignore\")\n",
    "    perform_gridsearch(LogisticRegression(), parameters_logistic, skf, X_train_full, y_train_binary, X_test_full, y_test_binary)\n",
    "\n"
   ]
  },
  {
   "cell_type": "markdown",
   "metadata": {
    "id": "URwx3T1p1fZl"
   },
   "source": [
    "# Stratified cross-validation with RandomForestClassifier"
   ]
  },
  {
   "cell_type": "code",
   "execution_count": null,
   "metadata": {
    "id": "vSGo5eWX1z8u"
   },
   "outputs": [],
   "source": [
    "#perform a grid search of the model with stratified cross validation with k=5 and select the best model\n",
    "#then, report the test score for that particular model"
   ]
  },
  {
   "cell_type": "code",
   "execution_count": null,
   "metadata": {
    "id": "mLTce8sQ1z8v"
   },
   "outputs": [],
   "source": [
    "parameters_rf = {'min_samples_split': [2,4,6,8,10], 'min_samples_leaf':[1,2,3,5,8,10], \n",
    "                               'criterion': ['gini','entropy']}"
   ]
  },
  {
   "cell_type": "code",
   "execution_count": null,
   "metadata": {
    "colab": {
     "base_uri": "https://localhost:8080/"
    },
    "id": "hazNDtxm1z8x",
    "outputId": "edbcd150-e6e7-48b3-b39e-5d979cf07adf"
   },
   "outputs": [
    {
     "name": "stdout",
     "output_type": "stream",
     "text": [
      "Best configuration {'criterion': 'gini', 'min_samples_leaf': 1, 'min_samples_split': 8}\n",
      "Best mean score for the validation 0.7814599976040807\n",
      "Std for the best mean score across folds 0.013301938373852235\n",
      "******************\n",
      "Classification report:\n",
      "              precision    recall  f1-score   support\n",
      "\n",
      "           0  0.6435644 0.7222222 0.6806283       540\n",
      "           1  0.6192893 0.5304348 0.5714286       460\n",
      "\n",
      "    accuracy                      0.6340000      1000\n",
      "   macro avg  0.6314268 0.6263285 0.6260284      1000\n",
      "weighted avg  0.6323978 0.6340000 0.6303964      1000\n",
      "\n",
      "Confusion matrix:\n",
      "[[390 150]\n",
      " [216 244]]\n",
      "******************\n",
      "[0.77442482 0.77969963 0.77894712 0.78146    0.78145968 0.77668676\n",
      " 0.77643582 0.77618551 0.78070717 0.7769377  0.76663903 0.77141321\n",
      " 0.77116038 0.77266855 0.77116101 0.76588652 0.76463024 0.767645\n",
      " 0.76186705 0.76262019 0.75458125 0.75207184 0.75332718 0.75508313\n",
      " 0.75960795 0.74830426 0.74328165 0.74704734 0.75282718 0.75207058\n",
      " 0.77718833 0.77769178 0.77769241 0.779449   0.77794304 0.77693896\n",
      " 0.77467955 0.77920027 0.77719022 0.77769178 0.77417483 0.77593646\n",
      " 0.7792009  0.77116196 0.77694054 0.76639093 0.77040945 0.76362679\n",
      " 0.76613904 0.76789657 0.75408347 0.75383    0.75358064 0.75533975\n",
      " 0.75558848 0.74981116 0.74780048 0.74754923 0.74780017 0.74880645]\n"
     ]
    },
    {
     "data": {
      "text/plain": [
       "RandomForestClassifier(min_samples_split=8)"
      ]
     },
     "execution_count": 55,
     "metadata": {},
     "output_type": "execute_result"
    }
   ],
   "source": [
    "#RESULTS WITH ORIGINAL SPARSE MATRIX\n",
    "\n",
    "perform_gridsearch(RandomForestClassifier(), parameters_rf, skf, X_train_vec_bin, y_train_binary, X_test_vec_bin, y_test_binary)\n",
    "\n"
   ]
  },
  {
   "cell_type": "code",
   "execution_count": null,
   "metadata": {
    "colab": {
     "base_uri": "https://localhost:8080/"
    },
    "id": "yA_REuW81z8y",
    "outputId": "9bbfe8a1-6eea-4671-fd8e-7df7c7a0ba70"
   },
   "outputs": [
    {
     "name": "stdout",
     "output_type": "stream",
     "text": [
      "Best configuration {'criterion': 'entropy', 'min_samples_leaf': 10, 'min_samples_split': 10}\n",
      "Best mean score for the validation 0.7636223778869252\n",
      "Std for the best mean score across folds 0.01914695223140225\n",
      "******************\n",
      "Classification report:\n",
      "              precision    recall  f1-score   support\n",
      "\n",
      "           0  0.6898955 0.7333333 0.7109515       540\n",
      "           1  0.6619718 0.6130435 0.6365688       460\n",
      "\n",
      "    accuracy                      0.6780000      1000\n",
      "   macro avg  0.6759337 0.6731884 0.6737602      1000\n",
      "weighted avg  0.6770506 0.6780000 0.6767355      1000\n",
      "\n",
      "Confusion matrix:\n",
      "[[396 144]\n",
      " [178 282]]\n",
      "******************\n",
      "[0.74754954 0.75282277 0.75055926 0.74729671 0.75206837 0.75458251\n",
      " 0.75709129 0.74755049 0.75508093 0.74905613 0.76161485 0.75432716\n",
      " 0.74830268 0.75382969 0.74553823 0.7608595  0.75482998 0.75282088\n",
      " 0.75860009 0.76035762 0.75005801 0.75005927 0.74880488 0.75784853\n",
      " 0.7518168  0.75307403 0.7558369  0.7538278  0.75734475 0.75081335\n",
      " 0.75458409 0.75332654 0.76262177 0.75860167 0.76061014 0.75659382\n",
      " 0.76261956 0.75910103 0.75558407 0.76035983 0.74880173 0.76086077\n",
      " 0.75357717 0.75357591 0.75759475 0.75734192 0.75659414 0.75357496\n",
      " 0.75960511 0.75131366 0.75006084 0.7570935  0.7495577  0.75357686\n",
      " 0.75860261 0.75583753 0.7593548  0.75608564 0.75181838 0.76362238]\n"
     ]
    },
    {
     "data": {
      "text/plain": [
       "RandomForestClassifier(criterion='entropy', min_samples_leaf=10,\n",
       "                       min_samples_split=10)"
      ]
     },
     "execution_count": 56,
     "metadata": {},
     "output_type": "execute_result"
    }
   ],
   "source": [
    "#RESULTS WITH Embedding \n",
    "\n",
    "perform_gridsearch(RandomForestClassifier(), parameters_rf, skf, embeddings_train, y_train_binary, embeddings_test, y_test_binary)\n"
   ]
  },
  {
   "cell_type": "code",
   "execution_count": null,
   "metadata": {
    "colab": {
     "base_uri": "https://localhost:8080/"
    },
    "id": "dTnlMjXc1z8z",
    "outputId": "4ecddc5b-13ff-4a1e-f0ef-41a014adb2e7"
   },
   "outputs": [
    {
     "name": "stdout",
     "output_type": "stream",
     "text": [
      "Best configuration {'criterion': 'gini', 'min_samples_leaf': 10, 'min_samples_split': 6}\n",
      "Best mean score for the validation 0.6071325889169814\n",
      "Std for the best mean score across folds 0.007942775010731843\n",
      "******************\n",
      "Classification report:\n",
      "              precision    recall  f1-score   support\n",
      "\n",
      "           0  0.5875706 0.5777778 0.5826331       540\n",
      "           1  0.5138593 0.5239130 0.5188375       460\n",
      "\n",
      "    accuracy                      0.5530000      1000\n",
      "   macro avg  0.5507149 0.5508454 0.5507353      1000\n",
      "weighted avg  0.5536634 0.5530000 0.5532871      1000\n",
      "\n",
      "Confusion matrix:\n",
      "[[312 228]\n",
      " [219 241]]\n",
      "******************\n",
      "[0.56116845 0.56392943 0.5717168  0.56870173 0.5737237  0.5699599\n",
      " 0.57472904 0.56995801 0.57322434 0.57573564 0.57598847 0.57121334\n",
      " 0.57347749 0.57523376 0.57975574 0.58955095 0.58804625 0.58452677\n",
      " 0.58779121 0.58603463 0.59683423 0.59960121 0.60135748 0.59909554\n",
      " 0.59934648 0.60311659 0.60311501 0.60713259 0.60487254 0.60336595\n",
      " 0.56242127 0.56568665 0.5679489  0.57096493 0.57146492 0.57146492\n",
      " 0.57121334 0.57221837 0.56995706 0.57196554 0.57498093 0.57397716\n",
      " 0.57824568 0.57799884 0.57950323 0.58628651 0.5852818  0.58352427\n",
      " 0.58452772 0.58276893 0.60085528 0.60160873 0.60135811 0.60160999\n",
      " 0.60010246 0.60361626 0.60185747 0.60236124 0.60688165 0.60160653]\n"
     ]
    },
    {
     "data": {
      "text/plain": [
       "RandomForestClassifier(min_samples_leaf=10, min_samples_split=6)"
      ]
     },
     "execution_count": 57,
     "metadata": {},
     "output_type": "execute_result"
    }
   ],
   "source": [
    "#RESULTS WITH linguistic features \n",
    "perform_gridsearch(RandomForestClassifier(), parameters_rf, skf, linguistic_features_train, y_train_binary, linguistic_features_test, y_test_binary)"
   ]
  },
  {
   "cell_type": "code",
   "execution_count": null,
   "metadata": {
    "colab": {
     "base_uri": "https://localhost:8080/"
    },
    "id": "NIT3nrVmm82p",
    "outputId": "ed0488b8-d7e8-4252-de49-6d9cf73a6959"
   },
   "outputs": [
    {
     "name": "stdout",
     "output_type": "stream",
     "text": [
      "Best configuration {'criterion': 'entropy', 'min_samples_leaf': 1, 'min_samples_split': 6}\n",
      "Best mean score for the validation 0.7701559869611546\n",
      "Std for the best mean score across folds 0.01464126433308675\n",
      "******************\n",
      "Classification report:\n",
      "              precision    recall  f1-score   support\n",
      "\n",
      "           0  0.7025090 0.7259259 0.7140255       540\n",
      "           1  0.6651584 0.6391304 0.6518847       460\n",
      "\n",
      "    accuracy                      0.6860000      1000\n",
      "   macro avg  0.6838337 0.6825282 0.6829551      1000\n",
      "weighted avg  0.6853277 0.6860000 0.6854407      1000\n",
      "\n",
      "Confusion matrix:\n",
      "[[392 148]\n",
      " [166 294]]\n",
      "******************\n",
      "[0.76161422 0.76538149 0.76312428 0.76488055 0.76036014 0.7681472\n",
      " 0.76789657 0.76036172 0.76462772 0.77015536 0.7648774  0.76362522\n",
      " 0.76889813 0.76262114 0.75910891 0.75809821 0.76463024 0.76387553\n",
      " 0.75985543 0.76060793 0.76061014 0.76186295 0.75809978 0.75960543\n",
      " 0.76136612 0.75910544 0.75910197 0.75860009 0.75885229 0.75608784\n",
      " 0.76086455 0.75860167 0.77015599 0.76488307 0.76111391 0.76739532\n",
      " 0.76512865 0.76437772 0.76839751 0.76487961 0.76010889 0.76186705\n",
      " 0.7653859  0.76462835 0.76463245 0.76487961 0.76261893 0.76739343\n",
      " 0.76412458 0.76437835 0.76186358 0.76236799 0.76136706 0.76161611\n",
      " 0.76438025 0.76362742 0.76639124 0.76061172 0.76262271 0.76588463]\n"
     ]
    },
    {
     "data": {
      "text/plain": [
       "RandomForestClassifier(criterion='entropy', min_samples_split=6)"
      ]
     },
     "execution_count": 58,
     "metadata": {},
     "output_type": "execute_result"
    }
   ],
   "source": [
    "#RESULTS WITH sparse matrix + embedding + linguistic features\n",
    "perform_gridsearch(RandomForestClassifier(), parameters_rf, skf, X_train_full, y_train_binary, X_test_full, y_test_binary)"
   ]
  },
  {
   "cell_type": "markdown",
   "metadata": {
    "id": "avHDR3hl5Pqh"
   },
   "source": [
    "# Stratified cross-validation with MLP"
   ]
  },
  {
   "cell_type": "code",
   "execution_count": null,
   "metadata": {
    "id": "E1kxr4F_5SDj"
   },
   "outputs": [],
   "source": [
    "#perform a grid search of the model with stratified cross validation with k=5 and select the best model\n",
    "#then, report the test score for that particular model"
   ]
  },
  {
   "cell_type": "code",
   "execution_count": null,
   "metadata": {
    "id": "pN6-cBca5SDk"
   },
   "outputs": [],
   "source": [
    "parameters_mlp = {'hidden_layer_sizes': [(8,16,32),(16,32,64,128),(64,128,256),], \n",
    "                 'activation':['relu','logistic','tanh'], \n",
    "                 'solver': ['lbfgs','sgd','adam'],\n",
    "                 'max_iter' : [9000],\n",
    "                  'early_stopping' : [True]}\n"
   ]
  },
  {
   "cell_type": "code",
   "execution_count": null,
   "metadata": {
    "colab": {
     "base_uri": "https://localhost:8080/"
    },
    "id": "FPQZVHl_5SDl",
    "outputId": "ce85e115-884a-4cff-8020-9c9047ec168f"
   },
   "outputs": [
    {
     "name": "stdout",
     "output_type": "stream",
     "text": [
      "Best configuration {'activation': 'relu', 'early_stopping': True, 'hidden_layer_sizes': (8, 16, 32), 'max_iter': 9000, 'solver': 'adam'}\n",
      "Best mean score for the validation 0.7445350970662598\n",
      "Std for the best mean score across folds 0.015194744280056016\n",
      "******************\n",
      "Classification report:\n",
      "              precision    recall  f1-score   support\n",
      "\n",
      "           0  0.6484517 0.6592593 0.6538108       540\n",
      "           1  0.5920177 0.5804348 0.5861690       460\n",
      "\n",
      "    accuracy                      0.6230000      1000\n",
      "   macro avg  0.6202347 0.6198470 0.6199899      1000\n",
      "weighted avg  0.6224921 0.6230000 0.6226956      1000\n",
      "\n",
      "Confusion matrix:\n",
      "[[356 184]\n",
      " [193 267]]\n",
      "******************\n",
      "[0.72594308 0.56618948 0.7445351  0.73197386 0.56618948 0.74202443\n",
      " 0.72769967 0.56618948 0.73473642 0.56618948 0.56618948 0.56618948\n",
      " 0.56618948 0.56618948 0.56618948 0.56618948 0.56618948 0.70563672\n",
      " 0.73397887 0.56644042 0.74001343 0.72644559 0.56618948 0.72946193\n",
      " 0.72870816 0.5649332  0.7367471 ]\n"
     ]
    },
    {
     "data": {
      "text/plain": [
       "MLPClassifier(early_stopping=True, hidden_layer_sizes=(8, 16, 32),\n",
       "              max_iter=9000)"
      ]
     },
     "execution_count": 63,
     "metadata": {},
     "output_type": "execute_result"
    }
   ],
   "source": [
    "#RESULTS WITH ORIGINAL SPARSE MATRIX\n",
    "perform_gridsearch(MLPClassifier(), parameters_mlp, skf, X_train_vec_bin, y_train_binary, X_test_vec_bin, y_test_binary)\n",
    "\n"
   ]
  },
  {
   "cell_type": "code",
   "execution_count": null,
   "metadata": {
    "colab": {
     "base_uri": "https://localhost:8080/"
    },
    "id": "MTjoZJG85SDm",
    "outputId": "dd3b89ce-ecea-495b-bbb8-a10050952799"
   },
   "outputs": [
    {
     "name": "stdout",
     "output_type": "stream",
     "text": [
      "Best configuration {'activation': 'logistic', 'early_stopping': True, 'hidden_layer_sizes': (64, 128, 256), 'max_iter': 9000, 'solver': 'adam'}\n",
      "Best mean score for the validation 0.7809527562530343\n",
      "Std for the best mean score across folds 0.023552819256212623\n",
      "******************\n",
      "Classification report:\n",
      "              precision    recall  f1-score   support\n",
      "\n",
      "           0  0.7547170 0.5925926 0.6639004       540\n",
      "           1  0.6180556 0.7739130 0.6872587       460\n",
      "\n",
      "    accuracy                      0.6760000      1000\n",
      "   macro avg  0.6863863 0.6832528 0.6755796      1000\n",
      "weighted avg  0.6918527 0.6760000 0.6746452      1000\n",
      "\n",
      "Confusion matrix:\n",
      "[[320 220]\n",
      " [104 356]]\n",
      "******************\n",
      "[0.72644275 0.56618948 0.77768958 0.73021443 0.56618948 0.77115723\n",
      " 0.7493055  0.56669199 0.77467324 0.56618948 0.56618948 0.56618948\n",
      " 0.56618948 0.56618948 0.56618948 0.56618948 0.56618948 0.78095276\n",
      " 0.73799928 0.56443069 0.77517733 0.73850242 0.56568697 0.76889876\n",
      " 0.74001532 0.5649332  0.77316886]\n"
     ]
    },
    {
     "data": {
      "text/plain": [
       "MLPClassifier(activation='logistic', early_stopping=True,\n",
       "              hidden_layer_sizes=(64, 128, 256), max_iter=9000)"
      ]
     },
     "execution_count": 64,
     "metadata": {},
     "output_type": "execute_result"
    }
   ],
   "source": [
    "#RESULTS WITH Embedding \n",
    "perform_gridsearch(MLPClassifier(), parameters_mlp , skf, embeddings_train, y_train_binary, embeddings_test, y_test_binary)\n",
    "\n"
   ]
  },
  {
   "cell_type": "code",
   "execution_count": null,
   "metadata": {
    "colab": {
     "background_save": true
    },
    "id": "VhB93rq05SDm",
    "outputId": "90cd0122-42b0-430e-e496-d3516635864f"
   },
   "outputs": [
    {
     "name": "stdout",
     "output_type": "stream",
     "text": [
      "Best configuration {'activation': 'logistic', 'early_stopping': True, 'hidden_layer_sizes': (64, 128, 256), 'max_iter': 9000, 'solver': 'lbfgs'}\n",
      "Best mean score for the validation 0.6131608481554573\n",
      "Std for the best mean score across folds 0.009729773923887236\n",
      "******************\n",
      "Classification report:\n",
      "              precision    recall  f1-score   support\n",
      "\n",
      "           0  0.6123188 0.6259259 0.6190476       540\n",
      "           1  0.5491071 0.5347826 0.5418502       460\n",
      "\n",
      "    accuracy                      0.5840000      1000\n",
      "   macro avg  0.5807130 0.5803543 0.5804489      1000\n",
      "weighted avg  0.5832415 0.5840000 0.5835368      1000\n",
      "\n",
      "Confusion matrix:\n",
      "[[338 202]\n",
      " [214 246]]\n",
      "******************\n",
      "[0.58327144 0.5385516  0.56769607 0.59633235 0.56669042 0.56794827\n",
      " 0.59432041 0.56593854 0.55915336 0.58326356 0.56618948 0.56618948\n",
      " 0.56618948 0.56618948 0.56618948 0.61316085 0.56618948 0.56618948\n",
      " 0.58528086 0.56593822 0.56393006 0.60110149 0.56618948 0.56895298\n",
      " 0.61240929 0.56618948 0.58000794]\n"
     ]
    },
    {
     "data": {
      "text/plain": [
       "MLPClassifier(activation='logistic', early_stopping=True,\n",
       "              hidden_layer_sizes=(64, 128, 256), max_iter=9000, solver='lbfgs')"
      ]
     },
     "execution_count": 65,
     "metadata": {},
     "output_type": "execute_result"
    }
   ],
   "source": [
    "#RESULTS WITH linguistic features \n",
    "perform_gridsearch(MLPClassifier(), parameters_mlp, skf, linguistic_features_train, y_train_binary, linguistic_features_test, y_test_binary)\n",
    "\n"
   ]
  },
  {
   "cell_type": "code",
   "execution_count": null,
   "metadata": {
    "colab": {
     "base_uri": "https://localhost:8080/"
    },
    "id": "3bpHzIYI5SDn",
    "outputId": "79288465-80a3-4b71-b515-5ec464ed0567"
   },
   "outputs": [
    {
     "name": "stdout",
     "output_type": "stream",
     "text": [
      "Best configuration {'activation': 'logistic', 'early_stopping': True, 'hidden_layer_sizes': (64, 128, 256), 'max_iter': 9000, 'solver': 'adam'}\n",
      "Best mean score for the validation 0.7962774979035705\n",
      "Std for the best mean score across folds 0.022532199359913515\n",
      "******************\n",
      "Classification report:\n",
      "              precision    recall  f1-score   support\n",
      "\n",
      "           0  0.7975000 0.5907407 0.6787234       540\n",
      "           1  0.6316667 0.8239130 0.7150943       460\n",
      "\n",
      "    accuracy                      0.6980000      1000\n",
      "   macro avg  0.7145833 0.7073269 0.6969089      1000\n",
      "weighted avg  0.7212167 0.6980000 0.6954540      1000\n",
      "\n",
      "Confusion matrix:\n",
      "[[319 221]\n",
      " [ 81 379]]\n",
      "******************\n",
      "[0.65613923 0.54558678 0.79100017 0.76864372 0.56292378 0.7862263\n",
      " 0.76889624 0.56468289 0.78573167 0.72643834 0.56568697 0.56618948\n",
      " 0.56618948 0.56618948 0.70859189 0.76085351 0.56618948 0.7962775\n",
      " 0.75206963 0.56618948 0.78171315 0.75383032 0.56618948 0.7922574\n",
      " 0.76864467 0.56618948 0.7952731 ]\n"
     ]
    },
    {
     "data": {
      "text/plain": [
       "MLPClassifier(activation='logistic', early_stopping=True,\n",
       "              hidden_layer_sizes=(64, 128, 256), max_iter=9000)"
      ]
     },
     "execution_count": 25,
     "metadata": {},
     "output_type": "execute_result"
    }
   ],
   "source": [
    "#RESULTS WITH SPARSE MATRIX + embeddings + linguistic features \n",
    "perform_gridsearch(MLPClassifier(), parameters_mlp, skf, X_train_full, y_train_binary, X_test_full, y_test_binary)\n",
    "\n",
    "\n",
    "\n",
    "\n",
    "\n"
   ]
  },
  {
   "cell_type": "markdown",
   "metadata": {
    "id": "aPNkccG5dHPP"
   },
   "source": [
    "# Standard multi-label classification (set-up)"
   ]
  },
  {
   "cell_type": "markdown",
   "metadata": {
    "id": "iETy0gkLdADG"
   },
   "source": []
  },
  {
   "cell_type": "code",
   "execution_count": null,
   "metadata": {
    "colab": {
     "base_uri": "https://localhost:8080/"
    },
    "id": "w_fhAQSC8M5G",
    "outputId": "dfe66e6a-d1e6-44b0-d099-8c8da4540f57"
   },
   "outputs": [
    {
     "name": "stdout",
     "output_type": "stream",
     "text": [
      "100\n",
      "200\n",
      "300\n",
      "400\n",
      "500\n",
      "600\n",
      "700\n",
      "800\n",
      "900\n",
      "1000\n",
      "1100\n",
      "1200\n",
      "1300\n",
      "1400\n",
      "1500\n",
      "1600\n",
      "1700\n",
      "100\n",
      "200\n",
      "300\n",
      "400\n"
     ]
    }
   ],
   "source": [
    "#repeat the same set-up pipeline for the binary classification task, using a different training set, this time with 5 labels\n",
    "\n",
    "\n",
    "embeddings_train_multi = model.encode(x_train_multi)\n",
    "embeddings_test_multi = model.encode(x_test_multi)\n",
    "\n",
    "linguistic_features_train_multi = linguistic_extraction(x_train_multi)\n",
    "linguistic_features_test_multi = linguistic_extraction(x_test_multi)\n",
    "\n",
    "vect = CountVectorizer(analyzer=spacy_nlp_tokenizer, min_df=5)  \n",
    "reset_counter()\n",
    "\n",
    "X_train_tok_multi = vect.fit_transform(x_train_multi)\n",
    "reset_counter()\n",
    "\n",
    "X_test_tok_multi = vect.transform(x_test_multi)\n",
    "\n",
    "\n",
    "tfidf = TfidfTransformer()  # weighting\n",
    "tfidf.fit(X_train_tok_multi)\n",
    "X_train_vec_multi = tfidf.transform(X_train_tok_multi)\n",
    "X_test_vec_multi = tfidf.transform(X_test_tok_multi)\n",
    "\n",
    "\n",
    "X_train_vec_multi_arr = X_train_vec_multi.toarray()\n",
    "X_test_vec_multi_arr = X_test_vec_multi.toarray()\n",
    "\n",
    "X_train_full_multi = []\n",
    "X_test_full_multi = []\n",
    "\n",
    "for i in range(len(X_train_vec_multi_arr)):\n",
    "  arr1 = X_train_vec_multi_arr[i]\n",
    "  arr2 = embeddings_train_multi[i]\n",
    "  arr3 = linguistic_features_train_multi[i]\n",
    "  X_train_full_multi.append(np.concatenate((arr1,arr2,arr3), axis =0))\n",
    "\n",
    "for i in range(len(X_test_vec_multi_arr)):\n",
    "  arr1 = X_test_vec_multi_arr[i]\n",
    "  arr2 = embeddings_test_multi[i]\n",
    "  arr3 = linguistic_features_test_multi[i]\n",
    "  X_test_full_multi.append(np.concatenate((arr1,arr2,arr3), axis =0))\n",
    "\n"
   ]
  },
  {
   "cell_type": "code",
   "execution_count": null,
   "metadata": {
    "id": "c5SWR6gLi4nS"
   },
   "outputs": [],
   "source": [
    "from scipy import sparse\n",
    "X_train_full_multi = sparse.csr_matrix(X_train_full_multi)\n",
    "X_test_full_multi = sparse.csr_matrix(X_test_full_multi)\n"
   ]
  },
  {
   "cell_type": "markdown",
   "metadata": {
    "id": "8-j5EabfgpKK"
   },
   "source": [
    "# Multiclass - Logistic regression"
   ]
  },
  {
   "cell_type": "code",
   "execution_count": null,
   "metadata": {
    "colab": {
     "base_uri": "https://localhost:8080/"
    },
    "id": "smd12fOn8M73",
    "outputId": "429f17b2-624e-44b7-ba92-d94db6f7a07c"
   },
   "outputs": [
    {
     "name": "stdout",
     "output_type": "stream",
     "text": [
      "Best configuration {'C': 1.0, 'penalty': 'none', 'solver': 'lbfgs'}\n",
      "Best mean score for the validation 0.38485441941792464\n",
      "Std for the best mean score across folds 0.02847112727060643\n",
      "******************\n",
      "Classification report:\n",
      "                   precision    recall  f1-score   support\n",
      "\n",
      "        derailing  0.1818182 0.1818182 0.1818182        11\n",
      "        discredit  0.5056818 0.6312057 0.5615142       141\n",
      "        dominance  0.5000000 0.4435484 0.4700855       124\n",
      "sexual_harassment  0.3269231 0.3863636 0.3541667        44\n",
      "       stereotype  0.8198198 0.6500000 0.7250996       140\n",
      "\n",
      "         accuracy                      0.5521739       460\n",
      "        macro avg  0.4668486 0.4585872 0.4585368       460\n",
      "     weighted avg  0.5749142 0.5521739 0.5577421       460\n",
      "\n",
      "Confusion matrix:\n",
      "[[ 2  3  3  1  2]\n",
      " [ 1 89 29 13  9]\n",
      " [ 4 41 55 16  8]\n",
      " [ 0 18  8 17  1]\n",
      " [ 4 25 15  5 91]]\n",
      "******************\n",
      "[0.38485442 0.36810478        nan 0.32509107 0.32509107 0.27660041\n",
      "        nan        nan 0.36010066 0.38485442 0.36810478        nan\n",
      " 0.14499805 0.14499805 0.14499805        nan        nan 0.14499805\n",
      " 0.38485442 0.36810478        nan 0.14499805 0.14499805 0.14499805\n",
      "        nan        nan 0.01981291]\n"
     ]
    }
   ],
   "source": [
    "#RESULTS WITH ORIGINAL SPARSE MATRIX\n",
    "\n",
    "with warnings.catch_warnings():\n",
    "    warnings.simplefilter(\"ignore\")\n",
    "    perform_gridsearch(LogisticRegression(), parameters_logistic, skf, X_train_vec_multi, y_train_multi, X_test_vec_multi, y_test_multi, scoring = 'f1_macro')\n"
   ]
  },
  {
   "cell_type": "code",
   "execution_count": null,
   "metadata": {
    "colab": {
     "base_uri": "https://localhost:8080/"
    },
    "id": "7Byjcdz75j-W",
    "outputId": "fbea8c6a-95f5-4d92-da77-11c06bbfebe3"
   },
   "outputs": [
    {
     "name": "stdout",
     "output_type": "stream",
     "text": [
      "Best configuration {'C': 1.0, 'penalty': 'none', 'solver': 'lbfgs'}\n",
      "Best mean score for the validation 0.38485441941792464\n",
      "Std for the best mean score across folds 0.02847112727060643\n",
      "******************\n",
      "Classification report:\n",
      "                   precision    recall  f1-score   support\n",
      "\n",
      "        derailing  0.1818182 0.1818182 0.1818182        11\n",
      "        discredit  0.5056818 0.6312057 0.5615142       141\n",
      "        dominance  0.5000000 0.4435484 0.4700855       124\n",
      "sexual_harassment  0.3269231 0.3863636 0.3541667        44\n",
      "       stereotype  0.8198198 0.6500000 0.7250996       140\n",
      "\n",
      "         accuracy                      0.5521739       460\n",
      "        macro avg  0.4668486 0.4585872 0.4585368       460\n",
      "     weighted avg  0.5749142 0.5521739 0.5577421       460\n",
      "\n",
      "Confusion matrix:\n",
      "[[ 2  3  3  1  2]\n",
      " [ 1 89 29 13  9]\n",
      " [ 4 41 55 16  8]\n",
      " [ 0 18  8 17  1]\n",
      " [ 4 25 15  5 91]]\n",
      "******************\n",
      "[0.38485442 0.36810478        nan 0.32509107 0.32509107 0.27660041\n",
      "        nan        nan 0.36010066 0.38485442 0.36810478        nan\n",
      " 0.14499805 0.14499805 0.14499805        nan        nan 0.14499805\n",
      " 0.38485442 0.36810478        nan 0.14499805 0.14499805 0.14499805\n",
      "        nan        nan 0.01981291]\n"
     ]
    }
   ],
   "source": [
    "#RESULTS WITH ORIGINAL SPARSE MATRIX\n",
    "\n",
    "with warnings.catch_warnings():\n",
    "    warnings.simplefilter(\"ignore\")\n",
    "    perform_gridsearch(LogisticRegression(), parameters_logistic, skf, X_train_vec_multi, y_train_multi, X_test_vec_multi, y_test_multi, scoring = 'f1_macro')\n"
   ]
  },
  {
   "cell_type": "code",
   "execution_count": null,
   "metadata": {
    "colab": {
     "base_uri": "https://localhost:8080/"
    },
    "id": "EUrWkVhj8ZoI",
    "outputId": "4eb4e1ca-559c-4d87-8a5b-3dfab200d2ff"
   },
   "outputs": [
    {
     "name": "stdout",
     "output_type": "stream",
     "text": [
      "Best configuration {'C': 1.0, 'penalty': 'l2', 'solver': 'lbfgs'}\n",
      "Best mean score for the validation 0.43073886495279046\n",
      "Std for the best mean score across folds 0.049850567472351885\n",
      "******************\n",
      "Classification report:\n",
      "                   precision    recall  f1-score   support\n",
      "\n",
      "        derailing  0.3333333 0.0909091 0.1428571        11\n",
      "        discredit  0.3771429 0.9361702 0.5376782       141\n",
      "        dominance  0.8750000 0.0564516 0.1060606       124\n",
      "sexual_harassment  0.4705882 0.5454545 0.5052632        44\n",
      "       stereotype  0.8958333 0.3071429 0.4574468       140\n",
      "\n",
      "         accuracy                      0.4500000       460\n",
      "        macro avg  0.5903796 0.3872257 0.3498612       460\n",
      "     weighted avg  0.6771008 0.4500000 0.3843689       460\n",
      "\n",
      "Confusion matrix:\n",
      "[[  1   9   0   0   1]\n",
      " [  0 132   0   8   1]\n",
      " [  1  99   7  14   3]\n",
      " [  0  20   0  24   0]\n",
      " [  1  90   1   5  43]]\n",
      "******************\n",
      "[0.41546438 0.39044476        nan 0.43073886 0.43073886 0.40056319\n",
      "        nan        nan 0.36158503 0.41546438 0.39044476        nan\n",
      " 0.19065244 0.19065244 0.15826204        nan        nan 0.14499805\n",
      " 0.41546438 0.39044476        nan 0.14499805 0.14499805 0.14499805\n",
      "        nan        nan 0.01981291]\n"
     ]
    }
   ],
   "source": [
    "#RESULTS WITH Embedding \n",
    "with warnings.catch_warnings():\n",
    "    warnings.simplefilter(\"ignore\")\n",
    "    perform_gridsearch(LogisticRegression(), parameters_logistic, skf, embeddings_train_multi, y_train_multi, embeddings_test_multi, y_test_multi, scoring = 'f1_macro')\n",
    "\n",
    "\n",
    "\n"
   ]
  },
  {
   "cell_type": "code",
   "execution_count": null,
   "metadata": {
    "colab": {
     "base_uri": "https://localhost:8080/"
    },
    "id": "lVVQZb7d8M_K",
    "outputId": "00e122c8-89da-420a-def4-f2c3471f3ca8"
   },
   "outputs": [
    {
     "name": "stdout",
     "output_type": "stream",
     "text": [
      "Best configuration {'C': 1.0, 'penalty': 'none', 'solver': 'lbfgs'}\n",
      "Best mean score for the validation 0.14499804942290187\n",
      "Std for the best mean score across folds 0.0002454205374749338\n",
      "******************\n",
      "Classification report:\n",
      "                   precision    recall  f1-score   support\n",
      "\n",
      "        derailing  0.5000000 0.0909091 0.1538462        11\n",
      "        discredit  0.3078603 1.0000000 0.4707846       141\n",
      "        dominance  0.0000000 0.0000000 0.0000000       124\n",
      "sexual_harassment  0.0000000 0.0000000 0.0000000        44\n",
      "       stereotype  0.0000000 0.0000000 0.0000000       140\n",
      "\n",
      "         accuracy                      0.3086957       460\n",
      "        macro avg  0.1615721 0.2181818 0.1249262       460\n",
      "     weighted avg  0.1063224 0.3086957 0.1479847       460\n",
      "\n",
      "Confusion matrix:\n",
      "[[  1  10   0   0   0]\n",
      " [  0 141   0   0   0]\n",
      " [  0 124   0   0   0]\n",
      " [  1  43   0   0   0]\n",
      " [  0 140   0   0   0]]\n",
      "******************\n",
      "[0.14499805 0.14490392        nan 0.14499805 0.14490392 0.14499805\n",
      "        nan        nan 0.14499805 0.14499805 0.14490392        nan\n",
      " 0.14490365 0.14490392 0.14499805        nan        nan 0.14499805\n",
      " 0.14499805 0.14490392        nan 0.14499805 0.14490392 0.14499805\n",
      "        nan        nan 0.14499805]\n"
     ]
    }
   ],
   "source": [
    "#RESULTS WITH linguistic features \n",
    "\n",
    "with warnings.catch_warnings():\n",
    "    warnings.simplefilter(\"ignore\")\n",
    "    perform_gridsearch(LogisticRegression(), parameters_logistic, skf, linguistic_features_train_multi, y_train_multi, linguistic_features_test_multi, y_test_multi, scoring = 'f1_macro')\n",
    "\n"
   ]
  },
  {
   "cell_type": "code",
   "execution_count": null,
   "metadata": {
    "colab": {
     "base_uri": "https://localhost:8080/"
    },
    "id": "Au-CcLPA8NBM",
    "outputId": "05312bfc-e44a-4a26-e7da-ac3a52a1a8e0"
   },
   "outputs": [
    {
     "name": "stdout",
     "output_type": "stream",
     "text": [
      "Best configuration {'C': 1.0, 'penalty': 'l2', 'solver': 'newton-cg'}\n",
      "Best mean score for the validation 0.4690082926715121\n",
      "Std for the best mean score across folds 0.03563613166077696\n",
      "******************\n",
      "Classification report:\n",
      "                   precision    recall  f1-score   support\n",
      "\n",
      "        derailing  0.3000000 0.2727273 0.2857143        11\n",
      "        discredit  0.4730769 0.8723404 0.6134663       141\n",
      "        dominance  0.7916667 0.1532258 0.2567568       124\n",
      "sexual_harassment  0.3809524 0.5454545 0.4485981        44\n",
      "       stereotype  0.9320388 0.6857143 0.7901235       140\n",
      "\n",
      "         accuracy                      0.5760870       460\n",
      "        macro avg  0.5755470 0.5058925 0.4789318       460\n",
      "     weighted avg  0.6856910 0.5760870 0.5474675       460\n",
      "\n",
      "Confusion matrix:\n",
      "[[  3   6   0   1   1]\n",
      " [  2 123   3  10   3]\n",
      " [  3  76  19  23   3]\n",
      " [  1  18   1  24   0]\n",
      " [  1  37   1   5  96]]\n",
      "******************\n",
      "[0.3822685  0.4475279         nan 0.35178417 0.46900829 0.43593736\n",
      "        nan        nan 0.41394224 0.3822685  0.4475279         nan\n",
      " 0.21539053 0.23419488 0.18518807        nan        nan 0.14499805\n",
      " 0.3822685  0.4475279         nan 0.14499805 0.14490392 0.14499805\n",
      "        nan        nan 0.14499805]\n"
     ]
    }
   ],
   "source": [
    "#RESULTS WITH sparse matrix + embedding + linguistic features\n",
    "with warnings.catch_warnings():\n",
    "    warnings.simplefilter(\"ignore\")\n",
    "    perform_gridsearch(LogisticRegression(), parameters_logistic, skf, X_train_full_multi, y_train_multi, X_test_full_multi, y_test_multi, scoring = 'f1_macro')\n",
    "\n"
   ]
  },
  {
   "cell_type": "markdown",
   "metadata": {
    "id": "x88PlbTBha0p"
   },
   "source": [
    "# Multiclassification with RF"
   ]
  },
  {
   "cell_type": "code",
   "execution_count": null,
   "metadata": {
    "id": "8oN7OGRhq3SW"
   },
   "outputs": [],
   "source": [
    "parameters_rf = {'min_samples_split': [2,4,6,8,10], 'min_samples_leaf':[1,2,3,5,8,10], \n",
    "                               'criterion': ['gini','entropy']}"
   ]
  },
  {
   "cell_type": "code",
   "execution_count": null,
   "metadata": {
    "colab": {
     "base_uri": "https://localhost:8080/"
    },
    "id": "5bQDyfQirYzE",
    "outputId": "5a02841f-ddef-4851-b790-02e796605309"
   },
   "outputs": [
    {
     "name": "stdout",
     "output_type": "stream",
     "text": [
      "Best configuration {'criterion': 'gini', 'min_samples_leaf': 1, 'min_samples_split': 8}\n",
      "Best mean score for the validation 0.3772585966702452\n",
      "Std for the best mean score across folds 0.03162785855369108\n",
      "******************\n",
      "Classification report:\n",
      "                   precision    recall  f1-score   support\n",
      "\n",
      "        derailing  0.4285714 0.2727273 0.3333333        11\n",
      "        discredit  0.4408946 0.9787234 0.6079295       141\n",
      "        dominance  0.8518519 0.1854839 0.3046358       124\n",
      "sexual_harassment  0.5454545 0.2727273 0.3636364        44\n",
      "       stereotype  0.9450549 0.6142857 0.7445887       140\n",
      "\n",
      "         accuracy                      0.5695652       460\n",
      "        macro avg  0.6423655 0.4647895 0.4708247       460\n",
      "     weighted avg  0.7148212 0.5695652 0.5378304       460\n",
      "\n",
      "Confusion matrix:\n",
      "[[  3   6   1   0   1]\n",
      " [  0 138   1   0   2]\n",
      " [  3  87  23   9   2]\n",
      " [  1  29   2  12   0]\n",
      " [  0  53   0   1  86]]\n",
      "******************\n",
      "[0.36214019 0.37289016 0.35605673 0.3772586  0.35542503 0.33808209\n",
      " 0.34882886 0.33210736 0.32769783 0.33779102 0.3026712  0.29452977\n",
      " 0.2802795  0.30454758 0.29990255 0.2396102  0.23737006 0.24892299\n",
      " 0.23577133 0.24213816 0.17111701 0.16719652 0.17567193 0.16769485\n",
      " 0.17130114 0.15537425 0.15345106 0.15487951 0.15227033 0.15123916\n",
      " 0.33037039 0.34412204 0.33877506 0.32749605 0.32175779 0.30228116\n",
      " 0.30125862 0.30253252 0.29065951 0.29674879 0.26557386 0.25726633\n",
      " 0.26021279 0.26298589 0.2728217  0.20559696 0.22641335 0.20532901\n",
      " 0.21780556 0.20465545 0.16377914 0.16656758 0.1614989  0.15929389\n",
      " 0.1655154  0.14997245 0.14745834 0.14745869 0.15386933 0.15332213]\n"
     ]
    },
    {
     "data": {
      "text/plain": [
       "RandomForestClassifier(min_samples_split=8)"
      ]
     },
     "execution_count": 34,
     "metadata": {},
     "output_type": "execute_result"
    }
   ],
   "source": [
    "#RESULTS WITH SPARSE MATRIX\n",
    "\n",
    "perform_gridsearch(RandomForestClassifier(), parameters_rf, skf, X_train_vec_multi, y_train_multi, X_test_vec_multi, y_test_multi, scoring = 'f1_macro')\n",
    "\n",
    "\n"
   ]
  },
  {
   "cell_type": "code",
   "execution_count": null,
   "metadata": {
    "colab": {
     "base_uri": "https://localhost:8080/"
    },
    "id": "5oK6GENgrxNM",
    "outputId": "14193a2e-2f92-47cb-fe34-2c6565537724"
   },
   "outputs": [
    {
     "name": "stdout",
     "output_type": "stream",
     "text": [
      "Best configuration {'criterion': 'entropy', 'min_samples_leaf': 1, 'min_samples_split': 4}\n",
      "Best mean score for the validation 0.24601030563177234\n",
      "Std for the best mean score across folds 0.03322429675689442\n",
      "******************\n",
      "Classification report:\n",
      "                   precision    recall  f1-score   support\n",
      "\n",
      "        derailing  0.5000000 0.0909091 0.1538462        11\n",
      "        discredit  0.3146067 0.9929078 0.4778157       141\n",
      "        dominance  0.0000000 0.0000000 0.0000000       124\n",
      "sexual_harassment  0.7272727 0.1818182 0.2909091        44\n",
      "       stereotype  1.0000000 0.0142857 0.0281690       140\n",
      "\n",
      "         accuracy                      0.3282609       460\n",
      "        macro avg  0.5083759 0.2559842 0.1901480       460\n",
      "     weighted avg  0.4823034 0.3282609 0.1865391       460\n",
      "\n",
      "Confusion matrix:\n",
      "[[  1  10   0   0   0]\n",
      " [  0 140   0   1   0]\n",
      " [  1 122   0   1   0]\n",
      " [  0  36   0   8   0]\n",
      " [  0 137   0   1   2]]\n",
      "******************\n",
      "[0.23269852 0.22719987 0.24189684 0.23722379 0.22153176 0.23134208\n",
      " 0.23082743 0.23167337 0.22641206 0.22476356 0.21708098 0.22565203\n",
      " 0.23641364 0.21921579 0.21657975 0.21305234 0.22517293 0.20988759\n",
      " 0.2178692  0.21081656 0.19627072 0.20428778 0.19745226 0.19975301\n",
      " 0.19940494 0.19623759 0.19792111 0.20081233 0.19295598 0.19308468\n",
      " 0.2320468  0.24601031 0.24039495 0.24278884 0.23254843 0.24023499\n",
      " 0.24415055 0.23329919 0.23612581 0.24552467 0.22998128 0.23144275\n",
      " 0.22389403 0.22949184 0.23251075 0.23575272 0.23261614 0.23454543\n",
      " 0.22107889 0.22999984 0.20064674 0.21999123 0.21312444 0.20878736\n",
      " 0.20844356 0.2010312  0.20233476 0.20446289 0.19791624 0.20218681]\n"
     ]
    },
    {
     "name": "stderr",
     "output_type": "stream",
     "text": [
      "/usr/local/lib/python3.8/dist-packages/sklearn/metrics/_classification.py:1318: UndefinedMetricWarning: Precision and F-score are ill-defined and being set to 0.0 in labels with no predicted samples. Use `zero_division` parameter to control this behavior.\n",
      "  _warn_prf(average, modifier, msg_start, len(result))\n",
      "/usr/local/lib/python3.8/dist-packages/sklearn/metrics/_classification.py:1318: UndefinedMetricWarning: Precision and F-score are ill-defined and being set to 0.0 in labels with no predicted samples. Use `zero_division` parameter to control this behavior.\n",
      "  _warn_prf(average, modifier, msg_start, len(result))\n",
      "/usr/local/lib/python3.8/dist-packages/sklearn/metrics/_classification.py:1318: UndefinedMetricWarning: Precision and F-score are ill-defined and being set to 0.0 in labels with no predicted samples. Use `zero_division` parameter to control this behavior.\n",
      "  _warn_prf(average, modifier, msg_start, len(result))\n"
     ]
    },
    {
     "data": {
      "text/plain": [
       "RandomForestClassifier(criterion='entropy', min_samples_split=4)"
      ]
     },
     "execution_count": 35,
     "metadata": {},
     "output_type": "execute_result"
    }
   ],
   "source": [
    "#RESULTS WITH Embedding \n",
    "\n",
    "perform_gridsearch(RandomForestClassifier(), parameters_rf, skf, embeddings_train_multi, y_train_multi, embeddings_test_multi, y_test_multi, scoring = 'f1_macro')\n",
    "\n",
    "\n",
    "\n"
   ]
  },
  {
   "cell_type": "code",
   "execution_count": null,
   "metadata": {
    "colab": {
     "base_uri": "https://localhost:8080/"
    },
    "id": "fA8ZXIxur4_v",
    "outputId": "51b5794f-d5ed-4b9e-b3a6-4e42738db960"
   },
   "outputs": [
    {
     "name": "stdout",
     "output_type": "stream",
     "text": [
      "Best configuration {'criterion': 'gini', 'min_samples_leaf': 1, 'min_samples_split': 4}\n",
      "Best mean score for the validation 0.2159520064908857\n",
      "Std for the best mean score across folds 0.012601757232990769\n",
      "******************\n",
      "Classification report:\n",
      "                   precision    recall  f1-score   support\n",
      "\n",
      "        derailing  0.0000000 0.0000000 0.0000000        11\n",
      "        discredit  0.3259494 0.7304965 0.4507659       141\n",
      "        dominance  0.3913043 0.0725806 0.1224490       124\n",
      "sexual_harassment  0.0508475 0.0681818 0.0582524        44\n",
      "       stereotype  0.3750000 0.0642857 0.1097561       140\n",
      "\n",
      "         accuracy                      0.2695652       460\n",
      "        macro avg  0.2286202 0.1871089 0.1482447       460\n",
      "     weighted avg  0.3243867 0.2695652 0.2101535       460\n",
      "\n",
      "Confusion matrix:\n",
      "[[  0   8   0   2   1]\n",
      " [  7 103   9  17   5]\n",
      " [ 17  81   9  12   5]\n",
      " [  7  28   2   3   4]\n",
      " [  7  96   3  25   9]]\n",
      "******************\n",
      "[0.19677632 0.21595201 0.20300324 0.19229656 0.18532687 0.20226415\n",
      " 0.19966205 0.19909469 0.19031596 0.18186265 0.1878505  0.19280473\n",
      " 0.19172823 0.1867223  0.18156525 0.17715114 0.17231242 0.17253154\n",
      " 0.17494511 0.17397077 0.16588184 0.16300266 0.15986268 0.16292382\n",
      " 0.16333754 0.16079149 0.16138853 0.16119323 0.16112579 0.16055597\n",
      " 0.21156516 0.20986313 0.20810406 0.19844304 0.1812783  0.20411305\n",
      " 0.21050188 0.19869961 0.18107983 0.1835579  0.1914242  0.1846329\n",
      " 0.18448058 0.18243581 0.18498333 0.17486652 0.17361392 0.16915457\n",
      " 0.17060872 0.17243401 0.16197232 0.15862434 0.160941   0.15869492\n",
      " 0.15932251 0.15913493 0.16010441 0.15881975 0.15886004 0.16224035]\n"
     ]
    },
    {
     "data": {
      "text/plain": [
       "RandomForestClassifier(min_samples_split=4)"
      ]
     },
     "execution_count": 36,
     "metadata": {},
     "output_type": "execute_result"
    }
   ],
   "source": [
    "#RESULTS WITH linguistic features \n",
    "\n",
    "perform_gridsearch(RandomForestClassifier(), parameters_rf, skf, linguistic_features_train_multi, y_train_multi, linguistic_features_test_multi, y_test_multi, scoring = 'f1_macro')\n",
    "\n"
   ]
  },
  {
   "cell_type": "code",
   "execution_count": null,
   "metadata": {
    "colab": {
     "base_uri": "https://localhost:8080/"
    },
    "id": "uR7uOuQgq3Sc",
    "outputId": "ab94c94a-80da-428c-969e-96e0e3075c12"
   },
   "outputs": [
    {
     "name": "stdout",
     "output_type": "stream",
     "text": [
      "Best configuration {'criterion': 'gini', 'min_samples_leaf': 1, 'min_samples_split': 2}\n",
      "Best mean score for the validation 0.24586474051121288\n",
      "Std for the best mean score across folds 0.02161563897726648\n",
      "******************\n",
      "Classification report:\n",
      "                   precision    recall  f1-score   support\n",
      "\n",
      "        derailing  1.0000000 0.0909091 0.1666667        11\n",
      "        discredit  0.3175676 1.0000000 0.4820513       141\n",
      "        dominance  0.0000000 0.0000000 0.0000000       124\n",
      "sexual_harassment  0.7272727 0.1818182 0.2909091        44\n",
      "       stereotype  1.0000000 0.0285714 0.0555556       140\n",
      "\n",
      "         accuracy                      0.3347826       460\n",
      "        macro avg  0.6089681 0.2602597 0.1990365       460\n",
      "     weighted avg  0.4951675 0.3347826 0.1964790       460\n",
      "\n",
      "Confusion matrix:\n",
      "[[  1  10   0   0   0]\n",
      " [  0 141   0   0   0]\n",
      " [  0 123   0   1   0]\n",
      " [  0  36   0   8   0]\n",
      " [  0 134   0   2   4]]\n",
      "******************\n",
      "[0.24586474 0.22763264 0.222887   0.22239634 0.23801109 0.21969574\n",
      " 0.23026659 0.22562526 0.24069858 0.21713888 0.23013614 0.21843826\n",
      " 0.21792059 0.20953719 0.2224109  0.21080756 0.21774078 0.20735593\n",
      " 0.20415327 0.21839502 0.1853952  0.20114839 0.19701113 0.19786215\n",
      " 0.20121962 0.17689693 0.18740108 0.18627258 0.18191083 0.17972413\n",
      " 0.2358686  0.23865703 0.22180185 0.22561692 0.21287454 0.23814905\n",
      " 0.23191878 0.22775204 0.23085139 0.23083256 0.23580532 0.23814687\n",
      " 0.21865934 0.23679348 0.2213002  0.22049553 0.20814692 0.21052488\n",
      " 0.20639706 0.20821199 0.19766523 0.19713045 0.20694819 0.19785045\n",
      " 0.20579942 0.18561417 0.18057456 0.19307223 0.17687345 0.17979797]\n"
     ]
    },
    {
     "name": "stderr",
     "output_type": "stream",
     "text": [
      "/usr/local/lib/python3.8/dist-packages/sklearn/metrics/_classification.py:1318: UndefinedMetricWarning: Precision and F-score are ill-defined and being set to 0.0 in labels with no predicted samples. Use `zero_division` parameter to control this behavior.\n",
      "  _warn_prf(average, modifier, msg_start, len(result))\n",
      "/usr/local/lib/python3.8/dist-packages/sklearn/metrics/_classification.py:1318: UndefinedMetricWarning: Precision and F-score are ill-defined and being set to 0.0 in labels with no predicted samples. Use `zero_division` parameter to control this behavior.\n",
      "  _warn_prf(average, modifier, msg_start, len(result))\n",
      "/usr/local/lib/python3.8/dist-packages/sklearn/metrics/_classification.py:1318: UndefinedMetricWarning: Precision and F-score are ill-defined and being set to 0.0 in labels with no predicted samples. Use `zero_division` parameter to control this behavior.\n",
      "  _warn_prf(average, modifier, msg_start, len(result))\n"
     ]
    },
    {
     "data": {
      "text/plain": [
       "RandomForestClassifier()"
      ]
     },
     "execution_count": 37,
     "metadata": {},
     "output_type": "execute_result"
    }
   ],
   "source": [
    "#RESULTS WITH sparse matrix + embedding + linguistic features\n",
    "\n",
    "perform_gridsearch(RandomForestClassifier(), parameters_rf, skf, X_train_full_multi, y_train_multi, X_test_full_multi, y_test_multi, scoring = 'f1_macro')\n"
   ]
  },
  {
   "cell_type": "markdown",
   "metadata": {
    "id": "YElBTdi9ufht"
   },
   "source": [
    "# Multi-label with MLP"
   ]
  },
  {
   "cell_type": "code",
   "execution_count": null,
   "metadata": {
    "id": "9kdS5dbruea_"
   },
   "outputs": [],
   "source": [
    "parameters_mlp = {'hidden_layer_sizes': [(8,16,32),(16,32,64,128),(64,128,256),], \n",
    "                 'activation':['relu','logistic','tanh'], \n",
    "                 'solver': ['lbfgs','sgd','adam'],\n",
    "                 'max_iter' : [9000],\n",
    "                  'early_stopping' : [True]}\n"
   ]
  },
  {
   "cell_type": "code",
   "execution_count": null,
   "metadata": {
    "colab": {
     "base_uri": "https://localhost:8080/"
    },
    "id": "xUg5pAYquea_",
    "outputId": "f35009e5-59df-4392-90f4-8eb4256d097c"
   },
   "outputs": [
    {
     "name": "stdout",
     "output_type": "stream",
     "text": [
      "Best configuration {'activation': 'relu', 'early_stopping': True, 'hidden_layer_sizes': (64, 128, 256), 'max_iter': 9000, 'solver': 'lbfgs'}\n",
      "Best mean score for the validation 0.39134767380652413\n",
      "Std for the best mean score across folds 0.014566092604740776\n",
      "******************\n",
      "Classification report:\n",
      "                   precision    recall  f1-score   support\n",
      "\n",
      "        derailing  0.2500000 0.1818182 0.2105263        11\n",
      "        discredit  0.5027624 0.6453901 0.5652174       141\n",
      "        dominance  0.5145631 0.4274194 0.4669604       124\n",
      "sexual_harassment  0.3396226 0.4090909 0.3711340        44\n",
      "       stereotype  0.8434783 0.6928571 0.7607843       140\n",
      "\n",
      "         accuracy                      0.5673913       460\n",
      "        macro avg  0.4900853 0.4713151 0.4749245       460\n",
      "     weighted avg  0.5879906 0.5673913 0.5712048       460\n",
      "\n",
      "Confusion matrix:\n",
      "[[ 2  5  2  1  1]\n",
      " [ 0 91 27 12 11]\n",
      " [ 6 43 53 17  5]\n",
      " [ 0 18  7 18  1]\n",
      " [ 0 24 14  5 97]]\n",
      "******************\n",
      "[0.34346138 0.14499805 0.14499805 0.38270428 0.14499805 0.14499805\n",
      " 0.39134767 0.14499805 0.23616027 0.14499805 0.14499805 0.14499805\n",
      " 0.14499805 0.14499805 0.14499805 0.14499805 0.14499805 0.14499805\n",
      " 0.38460504 0.14511981 0.16696629 0.38038308 0.14499805 0.25943576\n",
      " 0.37483246 0.14624583 0.33798182]\n"
     ]
    },
    {
     "data": {
      "text/plain": [
       "MLPClassifier(early_stopping=True, hidden_layer_sizes=(64, 128, 256),\n",
       "              max_iter=9000, solver='lbfgs')"
      ]
     },
     "execution_count": 41,
     "metadata": {},
     "output_type": "execute_result"
    }
   ],
   "source": [
    "#RESULTS WITH ORIGINAL SPARSE MATRIX\n",
    "perform_gridsearch(MLPClassifier(), parameters_mlp,  skf, X_train_vec_multi, y_train_multi, X_test_vec_multi, y_test_multi, scoring = 'f1_macro')"
   ]
  },
  {
   "cell_type": "code",
   "execution_count": null,
   "metadata": {
    "colab": {
     "base_uri": "https://localhost:8080/"
    },
    "id": "jG1UQfPCuddd",
    "outputId": "310ce8cb-7f88-4dfd-bf41-ec05202cc4a0"
   },
   "outputs": [
    {
     "name": "stdout",
     "output_type": "stream",
     "text": [
      "Best configuration {'activation': 'tanh', 'early_stopping': True, 'hidden_layer_sizes': (16, 32, 64, 128), 'max_iter': 9000, 'solver': 'adam'}\n",
      "Best mean score for the validation 0.44902571422744025\n",
      "Std for the best mean score across folds 0.0359098573962402\n",
      "******************\n",
      "Classification report:\n",
      "                   precision    recall  f1-score   support\n",
      "\n",
      "        derailing  0.3333333 0.1818182 0.2352941        11\n",
      "        discredit  0.3534247 0.9148936 0.5098814       141\n",
      "        dominance  0.0000000 0.0000000 0.0000000       124\n",
      "sexual_harassment  0.3636364 0.6363636 0.4628099        44\n",
      "       stereotype  0.8888889 0.0571429 0.1073826       140\n",
      "\n",
      "         accuracy                      0.3630435       460\n",
      "        macro avg  0.3878566 0.3580437 0.2630736       460\n",
      "     weighted avg  0.4216174 0.3630435 0.2388668       460\n",
      "\n",
      "Confusion matrix:\n",
      "[[  2   8   0   1   0]\n",
      " [  0 129   1  11   0]\n",
      " [  2  90   0  31   1]\n",
      " [  0  16   0  28   0]\n",
      " [  2 122   2   6   8]]\n",
      "******************\n",
      "[0.37122251 0.14499805 0.18245623 0.41397183 0.14490357 0.20605193\n",
      " 0.43278715 0.14480875 0.44634523 0.14499805 0.14499805 0.14499805\n",
      " 0.14499805 0.14499805 0.14499805 0.14499805 0.14499805 0.14499805\n",
      " 0.38643701 0.14634927 0.29448287 0.42258996 0.14726493 0.44902571\n",
      " 0.41299364 0.14499805 0.41728379]\n"
     ]
    },
    {
     "data": {
      "text/plain": [
       "MLPClassifier(activation='tanh', early_stopping=True,\n",
       "              hidden_layer_sizes=(16, 32, 64, 128), max_iter=9000)"
      ]
     },
     "execution_count": 42,
     "metadata": {},
     "output_type": "execute_result"
    }
   ],
   "source": [
    "#RESULTS WITH EMBEDDINGS\n",
    "perform_gridsearch(MLPClassifier(), parameters_mlp,  skf, embeddings_train_multi, y_train_multi, embeddings_test_multi, y_test_multi, scoring = 'f1_macro')"
   ]
  },
  {
   "cell_type": "code",
   "execution_count": null,
   "metadata": {
    "colab": {
     "base_uri": "https://localhost:8080/"
    },
    "id": "vNaLLxYNudfy",
    "outputId": "78e3bb99-804b-4c83-ad4e-4b75fec56b8c"
   },
   "outputs": [
    {
     "name": "stdout",
     "output_type": "stream",
     "text": [
      "Best configuration {'activation': 'tanh', 'early_stopping': True, 'hidden_layer_sizes': (64, 128, 256), 'max_iter': 9000, 'solver': 'lbfgs'}\n",
      "Best mean score for the validation 0.1792257237315968\n",
      "Std for the best mean score across folds 0.018636303489199944\n",
      "******************\n",
      "Classification report:\n",
      "                   precision    recall  f1-score   support\n",
      "\n",
      "        derailing  0.0000000 0.0000000 0.0000000        11\n",
      "        discredit  0.3028169 0.9148936 0.4550265       141\n",
      "        dominance  0.0000000 0.0000000 0.0000000       124\n",
      "sexual_harassment  0.0625000 0.0227273 0.0333333        44\n",
      "       stereotype  0.2857143 0.0142857 0.0272109       140\n",
      "\n",
      "         accuracy                      0.2869565       460\n",
      "        macro avg  0.1302062 0.1903813 0.1031141       460\n",
      "     weighted avg  0.1857547 0.2869565 0.1509455       460\n",
      "\n",
      "Confusion matrix:\n",
      "[[  0  11   0   0   0]\n",
      " [  1 129   0   8   3]\n",
      " [  3 116   0   5   0]\n",
      " [  5  36   0   1   2]\n",
      " [  2 134   0   2   2]]\n",
      "******************\n",
      "[0.14499805 0.14615633 0.1447138  0.17455362 0.14499805 0.14678331\n",
      " 0.14505172 0.14486227 0.14499805 0.14499805 0.14499805 0.14499805\n",
      " 0.14499805 0.14499805 0.14499805 0.17282981 0.14499805 0.14499805\n",
      " 0.14471462 0.14499805 0.14499805 0.17239617 0.14499805 0.14499805\n",
      " 0.17922572 0.14499805 0.14499805]\n"
     ]
    },
    {
     "name": "stderr",
     "output_type": "stream",
     "text": [
      "/usr/local/lib/python3.8/dist-packages/sklearn/neural_network/_multilayer_perceptron.py:549: ConvergenceWarning: lbfgs failed to converge (status=1):\n",
      "STOP: TOTAL NO. of ITERATIONS REACHED LIMIT.\n",
      "\n",
      "Increase the number of iterations (max_iter) or scale the data as shown in:\n",
      "    https://scikit-learn.org/stable/modules/preprocessing.html\n",
      "  self.n_iter_ = _check_optimize_result(\"lbfgs\", opt_res, self.max_iter)\n",
      "/usr/local/lib/python3.8/dist-packages/sklearn/metrics/_classification.py:1318: UndefinedMetricWarning: Precision and F-score are ill-defined and being set to 0.0 in labels with no predicted samples. Use `zero_division` parameter to control this behavior.\n",
      "  _warn_prf(average, modifier, msg_start, len(result))\n",
      "/usr/local/lib/python3.8/dist-packages/sklearn/metrics/_classification.py:1318: UndefinedMetricWarning: Precision and F-score are ill-defined and being set to 0.0 in labels with no predicted samples. Use `zero_division` parameter to control this behavior.\n",
      "  _warn_prf(average, modifier, msg_start, len(result))\n",
      "/usr/local/lib/python3.8/dist-packages/sklearn/metrics/_classification.py:1318: UndefinedMetricWarning: Precision and F-score are ill-defined and being set to 0.0 in labels with no predicted samples. Use `zero_division` parameter to control this behavior.\n",
      "  _warn_prf(average, modifier, msg_start, len(result))\n"
     ]
    },
    {
     "data": {
      "text/plain": [
       "MLPClassifier(activation='tanh', early_stopping=True,\n",
       "              hidden_layer_sizes=(64, 128, 256), max_iter=9000, solver='lbfgs')"
      ]
     },
     "execution_count": 43,
     "metadata": {},
     "output_type": "execute_result"
    }
   ],
   "source": [
    "#RESULTS WITH LINGUISTIC FEATURES\n",
    "perform_gridsearch(MLPClassifier(), parameters_mlp,  skf, linguistic_features_train_multi, y_train_multi, linguistic_features_test_multi, y_test_multi, scoring = 'f1_macro')"
   ]
  },
  {
   "cell_type": "code",
   "execution_count": null,
   "metadata": {
    "colab": {
     "base_uri": "https://localhost:8080/"
    },
    "id": "eIw3KrBHq3Sc",
    "outputId": "4f6d0ad0-5a68-4e6f-aa72-5cb1c886457a"
   },
   "outputs": [
    {
     "name": "stdout",
     "output_type": "stream",
     "text": [
      "Best configuration {'activation': 'tanh', 'early_stopping': True, 'hidden_layer_sizes': (64, 128, 256), 'max_iter': 9000, 'solver': 'lbfgs'}\n",
      "Best mean score for the validation 0.4305438090984177\n",
      "Std for the best mean score across folds 0.035730381135979546\n",
      "******************\n",
      "Classification report:\n",
      "                   precision    recall  f1-score   support\n",
      "\n",
      "        derailing  0.2000000 0.2727273 0.2307692        11\n",
      "        discredit  0.4371859 0.6170213 0.5117647       141\n",
      "        dominance  0.5102041 0.2016129 0.2890173       124\n",
      "sexual_harassment  0.2692308 0.4772727 0.3442623        44\n",
      "       stereotype  0.7731092 0.6571429 0.7104247       140\n",
      "\n",
      "         accuracy                      0.4956522       460\n",
      "        macro avg  0.4379460 0.4451554 0.4172477       460\n",
      "     weighted avg  0.5373695 0.4956522 0.4894401       460\n",
      "\n",
      "Confusion matrix:\n",
      "[[ 3  4  2  1  1]\n",
      " [ 4 87 12 19 19]\n",
      " [ 6 57 25 32  4]\n",
      " [ 0 17  3 21  3]\n",
      " [ 2 34  7  5 92]]\n",
      "******************\n",
      "[0.28189045 0.14482212 0.14487578 0.35417325 0.1449576  0.18892596\n",
      " 0.42140768 0.14490357 0.39822616 0.28127944 0.14499805 0.14499805\n",
      " 0.14499805 0.14499805 0.14499805 0.27800254 0.14499805 0.14499805\n",
      " 0.28188658 0.14499805 0.14759156 0.33046093 0.14499805 0.23827593\n",
      " 0.43054381 0.14499805 0.40031958]\n"
     ]
    },
    {
     "data": {
      "text/plain": [
       "MLPClassifier(activation='tanh', early_stopping=True,\n",
       "              hidden_layer_sizes=(64, 128, 256), max_iter=9000, solver='lbfgs')"
      ]
     },
     "execution_count": 44,
     "metadata": {},
     "output_type": "execute_result"
    }
   ],
   "source": [
    "#RESULTS WITH sparse matrix + embedding + linguistic features\n",
    "\n",
    "perform_gridsearch(MLPClassifier(), parameters_mlp, skf, X_train_full_multi, y_train_multi, X_test_full_multi, y_test_multi, scoring = 'f1_macro')\n"
   ]
  }
 ],
 "metadata": {
  "colab": {
   "provenance": []
  },
  "gpuClass": "standard",
  "kernelspec": {
   "display_name": "Python 3 (ipykernel)",
   "language": "python",
   "name": "python3"
  },
  "language_info": {
   "codemirror_mode": {
    "name": "ipython",
    "version": 3
   },
   "file_extension": ".py",
   "mimetype": "text/x-python",
   "name": "python",
   "nbconvert_exporter": "python",
   "pygments_lexer": "ipython3",
   "version": "3.9.12"
  },
  "widgets": {
   "application/vnd.jupyter.widget-state+json": {
    "01d38de7dbfb4d399275f0f0e1c27c59": {
     "model_module": "@jupyter-widgets/base",
     "model_module_version": "1.2.0",
     "model_name": "LayoutModel",
     "state": {
      "_model_module": "@jupyter-widgets/base",
      "_model_module_version": "1.2.0",
      "_model_name": "LayoutModel",
      "_view_count": null,
      "_view_module": "@jupyter-widgets/base",
      "_view_module_version": "1.2.0",
      "_view_name": "LayoutView",
      "align_content": null,
      "align_items": null,
      "align_self": null,
      "border": null,
      "bottom": null,
      "display": null,
      "flex": null,
      "flex_flow": null,
      "grid_area": null,
      "grid_auto_columns": null,
      "grid_auto_flow": null,
      "grid_auto_rows": null,
      "grid_column": null,
      "grid_gap": null,
      "grid_row": null,
      "grid_template_areas": null,
      "grid_template_columns": null,
      "grid_template_rows": null,
      "height": null,
      "justify_content": null,
      "justify_items": null,
      "left": null,
      "margin": null,
      "max_height": null,
      "max_width": null,
      "min_height": null,
      "min_width": null,
      "object_fit": null,
      "object_position": null,
      "order": null,
      "overflow": null,
      "overflow_x": null,
      "overflow_y": null,
      "padding": null,
      "right": null,
      "top": null,
      "visibility": null,
      "width": null
     }
    },
    "04bfdb51f1ef4eb6887d3c7098779d7b": {
     "model_module": "@jupyter-widgets/controls",
     "model_module_version": "1.5.0",
     "model_name": "DescriptionStyleModel",
     "state": {
      "_model_module": "@jupyter-widgets/controls",
      "_model_module_version": "1.5.0",
      "_model_name": "DescriptionStyleModel",
      "_view_count": null,
      "_view_module": "@jupyter-widgets/base",
      "_view_module_version": "1.2.0",
      "_view_name": "StyleView",
      "description_width": ""
     }
    },
    "068fa52688e14ccb9b9ef7d563e6554b": {
     "model_module": "@jupyter-widgets/base",
     "model_module_version": "1.2.0",
     "model_name": "LayoutModel",
     "state": {
      "_model_module": "@jupyter-widgets/base",
      "_model_module_version": "1.2.0",
      "_model_name": "LayoutModel",
      "_view_count": null,
      "_view_module": "@jupyter-widgets/base",
      "_view_module_version": "1.2.0",
      "_view_name": "LayoutView",
      "align_content": null,
      "align_items": null,
      "align_self": null,
      "border": null,
      "bottom": null,
      "display": null,
      "flex": null,
      "flex_flow": null,
      "grid_area": null,
      "grid_auto_columns": null,
      "grid_auto_flow": null,
      "grid_auto_rows": null,
      "grid_column": null,
      "grid_gap": null,
      "grid_row": null,
      "grid_template_areas": null,
      "grid_template_columns": null,
      "grid_template_rows": null,
      "height": null,
      "justify_content": null,
      "justify_items": null,
      "left": null,
      "margin": null,
      "max_height": null,
      "max_width": null,
      "min_height": null,
      "min_width": null,
      "object_fit": null,
      "object_position": null,
      "order": null,
      "overflow": null,
      "overflow_x": null,
      "overflow_y": null,
      "padding": null,
      "right": null,
      "top": null,
      "visibility": null,
      "width": null
     }
    },
    "06e904f9bcc34eaba65e1ad4fde2b513": {
     "model_module": "@jupyter-widgets/base",
     "model_module_version": "1.2.0",
     "model_name": "LayoutModel",
     "state": {
      "_model_module": "@jupyter-widgets/base",
      "_model_module_version": "1.2.0",
      "_model_name": "LayoutModel",
      "_view_count": null,
      "_view_module": "@jupyter-widgets/base",
      "_view_module_version": "1.2.0",
      "_view_name": "LayoutView",
      "align_content": null,
      "align_items": null,
      "align_self": null,
      "border": null,
      "bottom": null,
      "display": null,
      "flex": null,
      "flex_flow": null,
      "grid_area": null,
      "grid_auto_columns": null,
      "grid_auto_flow": null,
      "grid_auto_rows": null,
      "grid_column": null,
      "grid_gap": null,
      "grid_row": null,
      "grid_template_areas": null,
      "grid_template_columns": null,
      "grid_template_rows": null,
      "height": null,
      "justify_content": null,
      "justify_items": null,
      "left": null,
      "margin": null,
      "max_height": null,
      "max_width": null,
      "min_height": null,
      "min_width": null,
      "object_fit": null,
      "object_position": null,
      "order": null,
      "overflow": null,
      "overflow_x": null,
      "overflow_y": null,
      "padding": null,
      "right": null,
      "top": null,
      "visibility": null,
      "width": null
     }
    },
    "0aca60ba2d394c51be48c4db8b70e706": {
     "model_module": "@jupyter-widgets/controls",
     "model_module_version": "1.5.0",
     "model_name": "HBoxModel",
     "state": {
      "_dom_classes": [],
      "_model_module": "@jupyter-widgets/controls",
      "_model_module_version": "1.5.0",
      "_model_name": "HBoxModel",
      "_view_count": null,
      "_view_module": "@jupyter-widgets/controls",
      "_view_module_version": "1.5.0",
      "_view_name": "HBoxView",
      "box_style": "",
      "children": [
       "IPY_MODEL_b596091494ca4502b098ea8361d1fde7",
       "IPY_MODEL_df2162163cfb4f1789dc587136d74893",
       "IPY_MODEL_533813a44ba3420c911b5e9f08323815"
      ],
      "layout": "IPY_MODEL_73734b892e6e494a9671ee0acbcf5974"
     }
    },
    "0ae517dcf96e49a7bd107f6878cb45f5": {
     "model_module": "@jupyter-widgets/base",
     "model_module_version": "1.2.0",
     "model_name": "LayoutModel",
     "state": {
      "_model_module": "@jupyter-widgets/base",
      "_model_module_version": "1.2.0",
      "_model_name": "LayoutModel",
      "_view_count": null,
      "_view_module": "@jupyter-widgets/base",
      "_view_module_version": "1.2.0",
      "_view_name": "LayoutView",
      "align_content": null,
      "align_items": null,
      "align_self": null,
      "border": null,
      "bottom": null,
      "display": null,
      "flex": null,
      "flex_flow": null,
      "grid_area": null,
      "grid_auto_columns": null,
      "grid_auto_flow": null,
      "grid_auto_rows": null,
      "grid_column": null,
      "grid_gap": null,
      "grid_row": null,
      "grid_template_areas": null,
      "grid_template_columns": null,
      "grid_template_rows": null,
      "height": null,
      "justify_content": null,
      "justify_items": null,
      "left": null,
      "margin": null,
      "max_height": null,
      "max_width": null,
      "min_height": null,
      "min_width": null,
      "object_fit": null,
      "object_position": null,
      "order": null,
      "overflow": null,
      "overflow_x": null,
      "overflow_y": null,
      "padding": null,
      "right": null,
      "top": null,
      "visibility": null,
      "width": null
     }
    },
    "0c25923f79094db690a305dfe6392135": {
     "model_module": "@jupyter-widgets/base",
     "model_module_version": "1.2.0",
     "model_name": "LayoutModel",
     "state": {
      "_model_module": "@jupyter-widgets/base",
      "_model_module_version": "1.2.0",
      "_model_name": "LayoutModel",
      "_view_count": null,
      "_view_module": "@jupyter-widgets/base",
      "_view_module_version": "1.2.0",
      "_view_name": "LayoutView",
      "align_content": null,
      "align_items": null,
      "align_self": null,
      "border": null,
      "bottom": null,
      "display": null,
      "flex": null,
      "flex_flow": null,
      "grid_area": null,
      "grid_auto_columns": null,
      "grid_auto_flow": null,
      "grid_auto_rows": null,
      "grid_column": null,
      "grid_gap": null,
      "grid_row": null,
      "grid_template_areas": null,
      "grid_template_columns": null,
      "grid_template_rows": null,
      "height": null,
      "justify_content": null,
      "justify_items": null,
      "left": null,
      "margin": null,
      "max_height": null,
      "max_width": null,
      "min_height": null,
      "min_width": null,
      "object_fit": null,
      "object_position": null,
      "order": null,
      "overflow": null,
      "overflow_x": null,
      "overflow_y": null,
      "padding": null,
      "right": null,
      "top": null,
      "visibility": null,
      "width": null
     }
    },
    "0cb4c6bfb2cc4fa5831bbb9f7e6ea4d4": {
     "model_module": "@jupyter-widgets/base",
     "model_module_version": "1.2.0",
     "model_name": "LayoutModel",
     "state": {
      "_model_module": "@jupyter-widgets/base",
      "_model_module_version": "1.2.0",
      "_model_name": "LayoutModel",
      "_view_count": null,
      "_view_module": "@jupyter-widgets/base",
      "_view_module_version": "1.2.0",
      "_view_name": "LayoutView",
      "align_content": null,
      "align_items": null,
      "align_self": null,
      "border": null,
      "bottom": null,
      "display": null,
      "flex": null,
      "flex_flow": null,
      "grid_area": null,
      "grid_auto_columns": null,
      "grid_auto_flow": null,
      "grid_auto_rows": null,
      "grid_column": null,
      "grid_gap": null,
      "grid_row": null,
      "grid_template_areas": null,
      "grid_template_columns": null,
      "grid_template_rows": null,
      "height": null,
      "justify_content": null,
      "justify_items": null,
      "left": null,
      "margin": null,
      "max_height": null,
      "max_width": null,
      "min_height": null,
      "min_width": null,
      "object_fit": null,
      "object_position": null,
      "order": null,
      "overflow": null,
      "overflow_x": null,
      "overflow_y": null,
      "padding": null,
      "right": null,
      "top": null,
      "visibility": null,
      "width": null
     }
    },
    "0dfe0fcb4e024766b6ed346eb4d51d6c": {
     "model_module": "@jupyter-widgets/base",
     "model_module_version": "1.2.0",
     "model_name": "LayoutModel",
     "state": {
      "_model_module": "@jupyter-widgets/base",
      "_model_module_version": "1.2.0",
      "_model_name": "LayoutModel",
      "_view_count": null,
      "_view_module": "@jupyter-widgets/base",
      "_view_module_version": "1.2.0",
      "_view_name": "LayoutView",
      "align_content": null,
      "align_items": null,
      "align_self": null,
      "border": null,
      "bottom": null,
      "display": null,
      "flex": null,
      "flex_flow": null,
      "grid_area": null,
      "grid_auto_columns": null,
      "grid_auto_flow": null,
      "grid_auto_rows": null,
      "grid_column": null,
      "grid_gap": null,
      "grid_row": null,
      "grid_template_areas": null,
      "grid_template_columns": null,
      "grid_template_rows": null,
      "height": null,
      "justify_content": null,
      "justify_items": null,
      "left": null,
      "margin": null,
      "max_height": null,
      "max_width": null,
      "min_height": null,
      "min_width": null,
      "object_fit": null,
      "object_position": null,
      "order": null,
      "overflow": null,
      "overflow_x": null,
      "overflow_y": null,
      "padding": null,
      "right": null,
      "top": null,
      "visibility": null,
      "width": null
     }
    },
    "0eb8e05344f94e198aea607d34afdd4c": {
     "model_module": "@jupyter-widgets/base",
     "model_module_version": "1.2.0",
     "model_name": "LayoutModel",
     "state": {
      "_model_module": "@jupyter-widgets/base",
      "_model_module_version": "1.2.0",
      "_model_name": "LayoutModel",
      "_view_count": null,
      "_view_module": "@jupyter-widgets/base",
      "_view_module_version": "1.2.0",
      "_view_name": "LayoutView",
      "align_content": null,
      "align_items": null,
      "align_self": null,
      "border": null,
      "bottom": null,
      "display": null,
      "flex": null,
      "flex_flow": null,
      "grid_area": null,
      "grid_auto_columns": null,
      "grid_auto_flow": null,
      "grid_auto_rows": null,
      "grid_column": null,
      "grid_gap": null,
      "grid_row": null,
      "grid_template_areas": null,
      "grid_template_columns": null,
      "grid_template_rows": null,
      "height": null,
      "justify_content": null,
      "justify_items": null,
      "left": null,
      "margin": null,
      "max_height": null,
      "max_width": null,
      "min_height": null,
      "min_width": null,
      "object_fit": null,
      "object_position": null,
      "order": null,
      "overflow": null,
      "overflow_x": null,
      "overflow_y": null,
      "padding": null,
      "right": null,
      "top": null,
      "visibility": null,
      "width": null
     }
    },
    "0ec21f386eb84d49b5e707fc0d2c9fd9": {
     "model_module": "@jupyter-widgets/base",
     "model_module_version": "1.2.0",
     "model_name": "LayoutModel",
     "state": {
      "_model_module": "@jupyter-widgets/base",
      "_model_module_version": "1.2.0",
      "_model_name": "LayoutModel",
      "_view_count": null,
      "_view_module": "@jupyter-widgets/base",
      "_view_module_version": "1.2.0",
      "_view_name": "LayoutView",
      "align_content": null,
      "align_items": null,
      "align_self": null,
      "border": null,
      "bottom": null,
      "display": null,
      "flex": null,
      "flex_flow": null,
      "grid_area": null,
      "grid_auto_columns": null,
      "grid_auto_flow": null,
      "grid_auto_rows": null,
      "grid_column": null,
      "grid_gap": null,
      "grid_row": null,
      "grid_template_areas": null,
      "grid_template_columns": null,
      "grid_template_rows": null,
      "height": null,
      "justify_content": null,
      "justify_items": null,
      "left": null,
      "margin": null,
      "max_height": null,
      "max_width": null,
      "min_height": null,
      "min_width": null,
      "object_fit": null,
      "object_position": null,
      "order": null,
      "overflow": null,
      "overflow_x": null,
      "overflow_y": null,
      "padding": null,
      "right": null,
      "top": null,
      "visibility": null,
      "width": null
     }
    },
    "0eff406b4e4f472b8a8503104cef0398": {
     "model_module": "@jupyter-widgets/controls",
     "model_module_version": "1.5.0",
     "model_name": "HTMLModel",
     "state": {
      "_dom_classes": [],
      "_model_module": "@jupyter-widgets/controls",
      "_model_module_version": "1.5.0",
      "_model_name": "HTMLModel",
      "_view_count": null,
      "_view_module": "@jupyter-widgets/controls",
      "_view_module_version": "1.5.0",
      "_view_name": "HTMLView",
      "description": "",
      "description_tooltip": null,
      "layout": "IPY_MODEL_0cb4c6bfb2cc4fa5831bbb9f7e6ea4d4",
      "placeholder": "​",
      "style": "IPY_MODEL_a65b3f78878540bdbf92bf413cae0bd0",
      "value": " 116/116 [00:00&lt;00:00, 5.10kB/s]"
     }
    },
    "13feae4fece446c48bf8487c66b42b99": {
     "model_module": "@jupyter-widgets/base",
     "model_module_version": "1.2.0",
     "model_name": "LayoutModel",
     "state": {
      "_model_module": "@jupyter-widgets/base",
      "_model_module_version": "1.2.0",
      "_model_name": "LayoutModel",
      "_view_count": null,
      "_view_module": "@jupyter-widgets/base",
      "_view_module_version": "1.2.0",
      "_view_name": "LayoutView",
      "align_content": null,
      "align_items": null,
      "align_self": null,
      "border": null,
      "bottom": null,
      "display": null,
      "flex": null,
      "flex_flow": null,
      "grid_area": null,
      "grid_auto_columns": null,
      "grid_auto_flow": null,
      "grid_auto_rows": null,
      "grid_column": null,
      "grid_gap": null,
      "grid_row": null,
      "grid_template_areas": null,
      "grid_template_columns": null,
      "grid_template_rows": null,
      "height": null,
      "justify_content": null,
      "justify_items": null,
      "left": null,
      "margin": null,
      "max_height": null,
      "max_width": null,
      "min_height": null,
      "min_width": null,
      "object_fit": null,
      "object_position": null,
      "order": null,
      "overflow": null,
      "overflow_x": null,
      "overflow_y": null,
      "padding": null,
      "right": null,
      "top": null,
      "visibility": null,
      "width": null
     }
    },
    "1604f079bebc41aaa4b5ba80252a3f1e": {
     "model_module": "@jupyter-widgets/controls",
     "model_module_version": "1.5.0",
     "model_name": "HTMLModel",
     "state": {
      "_dom_classes": [],
      "_model_module": "@jupyter-widgets/controls",
      "_model_module_version": "1.5.0",
      "_model_name": "HTMLModel",
      "_view_count": null,
      "_view_module": "@jupyter-widgets/controls",
      "_view_module_version": "1.5.0",
      "_view_name": "HTMLView",
      "description": "",
      "description_tooltip": null,
      "layout": "IPY_MODEL_3b6d6e08e78c4a8aafe23f9ff194c0e6",
      "placeholder": "​",
      "style": "IPY_MODEL_8d826506e3774696937d5a2e783167ba",
      "value": "Downloading (…)&quot;pytorch_model.bin&quot;;: 100%"
     }
    },
    "16f12bf65cbf46678ad8119b9b0418a1": {
     "model_module": "@jupyter-widgets/controls",
     "model_module_version": "1.5.0",
     "model_name": "HTMLModel",
     "state": {
      "_dom_classes": [],
      "_model_module": "@jupyter-widgets/controls",
      "_model_module_version": "1.5.0",
      "_model_name": "HTMLModel",
      "_view_count": null,
      "_view_module": "@jupyter-widgets/controls",
      "_view_module_version": "1.5.0",
      "_view_name": "HTMLView",
      "description": "",
      "description_tooltip": null,
      "layout": "IPY_MODEL_68a7e757c3d04add92d86c99c68195f8",
      "placeholder": "​",
      "style": "IPY_MODEL_e2174647d84f456894c301d076daccc6",
      "value": " 350/350 [00:00&lt;00:00, 13.2kB/s]"
     }
    },
    "17edf15276544ca4b6b7d4f0c0ce7a7f": {
     "model_module": "@jupyter-widgets/base",
     "model_module_version": "1.2.0",
     "model_name": "LayoutModel",
     "state": {
      "_model_module": "@jupyter-widgets/base",
      "_model_module_version": "1.2.0",
      "_model_name": "LayoutModel",
      "_view_count": null,
      "_view_module": "@jupyter-widgets/base",
      "_view_module_version": "1.2.0",
      "_view_name": "LayoutView",
      "align_content": null,
      "align_items": null,
      "align_self": null,
      "border": null,
      "bottom": null,
      "display": null,
      "flex": null,
      "flex_flow": null,
      "grid_area": null,
      "grid_auto_columns": null,
      "grid_auto_flow": null,
      "grid_auto_rows": null,
      "grid_column": null,
      "grid_gap": null,
      "grid_row": null,
      "grid_template_areas": null,
      "grid_template_columns": null,
      "grid_template_rows": null,
      "height": null,
      "justify_content": null,
      "justify_items": null,
      "left": null,
      "margin": null,
      "max_height": null,
      "max_width": null,
      "min_height": null,
      "min_width": null,
      "object_fit": null,
      "object_position": null,
      "order": null,
      "overflow": null,
      "overflow_x": null,
      "overflow_y": null,
      "padding": null,
      "right": null,
      "top": null,
      "visibility": null,
      "width": null
     }
    },
    "1881a3e932b44eb2b9c528e1d8ccdad3": {
     "model_module": "@jupyter-widgets/base",
     "model_module_version": "1.2.0",
     "model_name": "LayoutModel",
     "state": {
      "_model_module": "@jupyter-widgets/base",
      "_model_module_version": "1.2.0",
      "_model_name": "LayoutModel",
      "_view_count": null,
      "_view_module": "@jupyter-widgets/base",
      "_view_module_version": "1.2.0",
      "_view_name": "LayoutView",
      "align_content": null,
      "align_items": null,
      "align_self": null,
      "border": null,
      "bottom": null,
      "display": null,
      "flex": null,
      "flex_flow": null,
      "grid_area": null,
      "grid_auto_columns": null,
      "grid_auto_flow": null,
      "grid_auto_rows": null,
      "grid_column": null,
      "grid_gap": null,
      "grid_row": null,
      "grid_template_areas": null,
      "grid_template_columns": null,
      "grid_template_rows": null,
      "height": null,
      "justify_content": null,
      "justify_items": null,
      "left": null,
      "margin": null,
      "max_height": null,
      "max_width": null,
      "min_height": null,
      "min_width": null,
      "object_fit": null,
      "object_position": null,
      "order": null,
      "overflow": null,
      "overflow_x": null,
      "overflow_y": null,
      "padding": null,
      "right": null,
      "top": null,
      "visibility": null,
      "width": null
     }
    },
    "18d544cc27a64125aaba90011fd7b16c": {
     "model_module": "@jupyter-widgets/controls",
     "model_module_version": "1.5.0",
     "model_name": "DescriptionStyleModel",
     "state": {
      "_model_module": "@jupyter-widgets/controls",
      "_model_module_version": "1.5.0",
      "_model_name": "DescriptionStyleModel",
      "_view_count": null,
      "_view_module": "@jupyter-widgets/base",
      "_view_module_version": "1.2.0",
      "_view_name": "StyleView",
      "description_width": ""
     }
    },
    "1a6316494eea4f288c7223fe0e2d7af6": {
     "model_module": "@jupyter-widgets/base",
     "model_module_version": "1.2.0",
     "model_name": "LayoutModel",
     "state": {
      "_model_module": "@jupyter-widgets/base",
      "_model_module_version": "1.2.0",
      "_model_name": "LayoutModel",
      "_view_count": null,
      "_view_module": "@jupyter-widgets/base",
      "_view_module_version": "1.2.0",
      "_view_name": "LayoutView",
      "align_content": null,
      "align_items": null,
      "align_self": null,
      "border": null,
      "bottom": null,
      "display": null,
      "flex": null,
      "flex_flow": null,
      "grid_area": null,
      "grid_auto_columns": null,
      "grid_auto_flow": null,
      "grid_auto_rows": null,
      "grid_column": null,
      "grid_gap": null,
      "grid_row": null,
      "grid_template_areas": null,
      "grid_template_columns": null,
      "grid_template_rows": null,
      "height": null,
      "justify_content": null,
      "justify_items": null,
      "left": null,
      "margin": null,
      "max_height": null,
      "max_width": null,
      "min_height": null,
      "min_width": null,
      "object_fit": null,
      "object_position": null,
      "order": null,
      "overflow": null,
      "overflow_x": null,
      "overflow_y": null,
      "padding": null,
      "right": null,
      "top": null,
      "visibility": null,
      "width": null
     }
    },
    "1c70354d02254fcbb3c6c544420cd8bf": {
     "model_module": "@jupyter-widgets/controls",
     "model_module_version": "1.5.0",
     "model_name": "ProgressStyleModel",
     "state": {
      "_model_module": "@jupyter-widgets/controls",
      "_model_module_version": "1.5.0",
      "_model_name": "ProgressStyleModel",
      "_view_count": null,
      "_view_module": "@jupyter-widgets/base",
      "_view_module_version": "1.2.0",
      "_view_name": "StyleView",
      "bar_color": null,
      "description_width": ""
     }
    },
    "1e820761a17342fdb73a0bc50fe4650e": {
     "model_module": "@jupyter-widgets/base",
     "model_module_version": "1.2.0",
     "model_name": "LayoutModel",
     "state": {
      "_model_module": "@jupyter-widgets/base",
      "_model_module_version": "1.2.0",
      "_model_name": "LayoutModel",
      "_view_count": null,
      "_view_module": "@jupyter-widgets/base",
      "_view_module_version": "1.2.0",
      "_view_name": "LayoutView",
      "align_content": null,
      "align_items": null,
      "align_self": null,
      "border": null,
      "bottom": null,
      "display": null,
      "flex": null,
      "flex_flow": null,
      "grid_area": null,
      "grid_auto_columns": null,
      "grid_auto_flow": null,
      "grid_auto_rows": null,
      "grid_column": null,
      "grid_gap": null,
      "grid_row": null,
      "grid_template_areas": null,
      "grid_template_columns": null,
      "grid_template_rows": null,
      "height": null,
      "justify_content": null,
      "justify_items": null,
      "left": null,
      "margin": null,
      "max_height": null,
      "max_width": null,
      "min_height": null,
      "min_width": null,
      "object_fit": null,
      "object_position": null,
      "order": null,
      "overflow": null,
      "overflow_x": null,
      "overflow_y": null,
      "padding": null,
      "right": null,
      "top": null,
      "visibility": null,
      "width": null
     }
    },
    "1eb1cd2884f042a8b671665625ecd20e": {
     "model_module": "@jupyter-widgets/controls",
     "model_module_version": "1.5.0",
     "model_name": "DescriptionStyleModel",
     "state": {
      "_model_module": "@jupyter-widgets/controls",
      "_model_module_version": "1.5.0",
      "_model_name": "DescriptionStyleModel",
      "_view_count": null,
      "_view_module": "@jupyter-widgets/base",
      "_view_module_version": "1.2.0",
      "_view_name": "StyleView",
      "description_width": ""
     }
    },
    "1f0a857362c647ac89c5b7766a532325": {
     "model_module": "@jupyter-widgets/controls",
     "model_module_version": "1.5.0",
     "model_name": "HBoxModel",
     "state": {
      "_dom_classes": [],
      "_model_module": "@jupyter-widgets/controls",
      "_model_module_version": "1.5.0",
      "_model_name": "HBoxModel",
      "_view_count": null,
      "_view_module": "@jupyter-widgets/controls",
      "_view_module_version": "1.5.0",
      "_view_name": "HBoxView",
      "box_style": "",
      "children": [
       "IPY_MODEL_2aa729eb5f6d4c348ba62713e197c9f1",
       "IPY_MODEL_aeff3083356f4c76b12525fd80ae23b0",
       "IPY_MODEL_5adffb4964254eae8571f4deaa09b0db"
      ],
      "layout": "IPY_MODEL_24ef1272c7f746b4a59c8d9960cbcec8"
     }
    },
    "1f4f25d8ef4c4f81b4c31e201f523afe": {
     "model_module": "@jupyter-widgets/base",
     "model_module_version": "1.2.0",
     "model_name": "LayoutModel",
     "state": {
      "_model_module": "@jupyter-widgets/base",
      "_model_module_version": "1.2.0",
      "_model_name": "LayoutModel",
      "_view_count": null,
      "_view_module": "@jupyter-widgets/base",
      "_view_module_version": "1.2.0",
      "_view_name": "LayoutView",
      "align_content": null,
      "align_items": null,
      "align_self": null,
      "border": null,
      "bottom": null,
      "display": null,
      "flex": null,
      "flex_flow": null,
      "grid_area": null,
      "grid_auto_columns": null,
      "grid_auto_flow": null,
      "grid_auto_rows": null,
      "grid_column": null,
      "grid_gap": null,
      "grid_row": null,
      "grid_template_areas": null,
      "grid_template_columns": null,
      "grid_template_rows": null,
      "height": null,
      "justify_content": null,
      "justify_items": null,
      "left": null,
      "margin": null,
      "max_height": null,
      "max_width": null,
      "min_height": null,
      "min_width": null,
      "object_fit": null,
      "object_position": null,
      "order": null,
      "overflow": null,
      "overflow_x": null,
      "overflow_y": null,
      "padding": null,
      "right": null,
      "top": null,
      "visibility": null,
      "width": null
     }
    },
    "1f74d9e6a7224d879146e428c2c507ab": {
     "model_module": "@jupyter-widgets/base",
     "model_module_version": "1.2.0",
     "model_name": "LayoutModel",
     "state": {
      "_model_module": "@jupyter-widgets/base",
      "_model_module_version": "1.2.0",
      "_model_name": "LayoutModel",
      "_view_count": null,
      "_view_module": "@jupyter-widgets/base",
      "_view_module_version": "1.2.0",
      "_view_name": "LayoutView",
      "align_content": null,
      "align_items": null,
      "align_self": null,
      "border": null,
      "bottom": null,
      "display": null,
      "flex": null,
      "flex_flow": null,
      "grid_area": null,
      "grid_auto_columns": null,
      "grid_auto_flow": null,
      "grid_auto_rows": null,
      "grid_column": null,
      "grid_gap": null,
      "grid_row": null,
      "grid_template_areas": null,
      "grid_template_columns": null,
      "grid_template_rows": null,
      "height": null,
      "justify_content": null,
      "justify_items": null,
      "left": null,
      "margin": null,
      "max_height": null,
      "max_width": null,
      "min_height": null,
      "min_width": null,
      "object_fit": null,
      "object_position": null,
      "order": null,
      "overflow": null,
      "overflow_x": null,
      "overflow_y": null,
      "padding": null,
      "right": null,
      "top": null,
      "visibility": null,
      "width": null
     }
    },
    "1fca1a5931bd4e28bad914c063adbb42": {
     "model_module": "@jupyter-widgets/controls",
     "model_module_version": "1.5.0",
     "model_name": "DescriptionStyleModel",
     "state": {
      "_model_module": "@jupyter-widgets/controls",
      "_model_module_version": "1.5.0",
      "_model_name": "DescriptionStyleModel",
      "_view_count": null,
      "_view_module": "@jupyter-widgets/base",
      "_view_module_version": "1.2.0",
      "_view_name": "StyleView",
      "description_width": ""
     }
    },
    "23f39db8f180450aa02587a2694de531": {
     "model_module": "@jupyter-widgets/base",
     "model_module_version": "1.2.0",
     "model_name": "LayoutModel",
     "state": {
      "_model_module": "@jupyter-widgets/base",
      "_model_module_version": "1.2.0",
      "_model_name": "LayoutModel",
      "_view_count": null,
      "_view_module": "@jupyter-widgets/base",
      "_view_module_version": "1.2.0",
      "_view_name": "LayoutView",
      "align_content": null,
      "align_items": null,
      "align_self": null,
      "border": null,
      "bottom": null,
      "display": null,
      "flex": null,
      "flex_flow": null,
      "grid_area": null,
      "grid_auto_columns": null,
      "grid_auto_flow": null,
      "grid_auto_rows": null,
      "grid_column": null,
      "grid_gap": null,
      "grid_row": null,
      "grid_template_areas": null,
      "grid_template_columns": null,
      "grid_template_rows": null,
      "height": null,
      "justify_content": null,
      "justify_items": null,
      "left": null,
      "margin": null,
      "max_height": null,
      "max_width": null,
      "min_height": null,
      "min_width": null,
      "object_fit": null,
      "object_position": null,
      "order": null,
      "overflow": null,
      "overflow_x": null,
      "overflow_y": null,
      "padding": null,
      "right": null,
      "top": null,
      "visibility": null,
      "width": null
     }
    },
    "24ef1272c7f746b4a59c8d9960cbcec8": {
     "model_module": "@jupyter-widgets/base",
     "model_module_version": "1.2.0",
     "model_name": "LayoutModel",
     "state": {
      "_model_module": "@jupyter-widgets/base",
      "_model_module_version": "1.2.0",
      "_model_name": "LayoutModel",
      "_view_count": null,
      "_view_module": "@jupyter-widgets/base",
      "_view_module_version": "1.2.0",
      "_view_name": "LayoutView",
      "align_content": null,
      "align_items": null,
      "align_self": null,
      "border": null,
      "bottom": null,
      "display": null,
      "flex": null,
      "flex_flow": null,
      "grid_area": null,
      "grid_auto_columns": null,
      "grid_auto_flow": null,
      "grid_auto_rows": null,
      "grid_column": null,
      "grid_gap": null,
      "grid_row": null,
      "grid_template_areas": null,
      "grid_template_columns": null,
      "grid_template_rows": null,
      "height": null,
      "justify_content": null,
      "justify_items": null,
      "left": null,
      "margin": null,
      "max_height": null,
      "max_width": null,
      "min_height": null,
      "min_width": null,
      "object_fit": null,
      "object_position": null,
      "order": null,
      "overflow": null,
      "overflow_x": null,
      "overflow_y": null,
      "padding": null,
      "right": null,
      "top": null,
      "visibility": null,
      "width": null
     }
    },
    "28b721a89d9f4cb8b0c43dc0c6b3bcae": {
     "model_module": "@jupyter-widgets/controls",
     "model_module_version": "1.5.0",
     "model_name": "HBoxModel",
     "state": {
      "_dom_classes": [],
      "_model_module": "@jupyter-widgets/controls",
      "_model_module_version": "1.5.0",
      "_model_name": "HBoxModel",
      "_view_count": null,
      "_view_module": "@jupyter-widgets/controls",
      "_view_module_version": "1.5.0",
      "_view_name": "HBoxView",
      "box_style": "",
      "children": [
       "IPY_MODEL_e9250b02100440539c5e6fdac93cd766",
       "IPY_MODEL_ef706872818743d78b92de645d47705b",
       "IPY_MODEL_bff5f50a10b44526ac1a70b9e26309bd"
      ],
      "layout": "IPY_MODEL_8b84e1ef3f4e4baf8893ad81170d34f2"
     }
    },
    "29f374ee0c7e43e6aedbabdfbe0910b1": {
     "model_module": "@jupyter-widgets/base",
     "model_module_version": "1.2.0",
     "model_name": "LayoutModel",
     "state": {
      "_model_module": "@jupyter-widgets/base",
      "_model_module_version": "1.2.0",
      "_model_name": "LayoutModel",
      "_view_count": null,
      "_view_module": "@jupyter-widgets/base",
      "_view_module_version": "1.2.0",
      "_view_name": "LayoutView",
      "align_content": null,
      "align_items": null,
      "align_self": null,
      "border": null,
      "bottom": null,
      "display": null,
      "flex": null,
      "flex_flow": null,
      "grid_area": null,
      "grid_auto_columns": null,
      "grid_auto_flow": null,
      "grid_auto_rows": null,
      "grid_column": null,
      "grid_gap": null,
      "grid_row": null,
      "grid_template_areas": null,
      "grid_template_columns": null,
      "grid_template_rows": null,
      "height": null,
      "justify_content": null,
      "justify_items": null,
      "left": null,
      "margin": null,
      "max_height": null,
      "max_width": null,
      "min_height": null,
      "min_width": null,
      "object_fit": null,
      "object_position": null,
      "order": null,
      "overflow": null,
      "overflow_x": null,
      "overflow_y": null,
      "padding": null,
      "right": null,
      "top": null,
      "visibility": null,
      "width": null
     }
    },
    "2a5dffd9224c4db0a8959b581712ef1e": {
     "model_module": "@jupyter-widgets/base",
     "model_module_version": "1.2.0",
     "model_name": "LayoutModel",
     "state": {
      "_model_module": "@jupyter-widgets/base",
      "_model_module_version": "1.2.0",
      "_model_name": "LayoutModel",
      "_view_count": null,
      "_view_module": "@jupyter-widgets/base",
      "_view_module_version": "1.2.0",
      "_view_name": "LayoutView",
      "align_content": null,
      "align_items": null,
      "align_self": null,
      "border": null,
      "bottom": null,
      "display": null,
      "flex": null,
      "flex_flow": null,
      "grid_area": null,
      "grid_auto_columns": null,
      "grid_auto_flow": null,
      "grid_auto_rows": null,
      "grid_column": null,
      "grid_gap": null,
      "grid_row": null,
      "grid_template_areas": null,
      "grid_template_columns": null,
      "grid_template_rows": null,
      "height": null,
      "justify_content": null,
      "justify_items": null,
      "left": null,
      "margin": null,
      "max_height": null,
      "max_width": null,
      "min_height": null,
      "min_width": null,
      "object_fit": null,
      "object_position": null,
      "order": null,
      "overflow": null,
      "overflow_x": null,
      "overflow_y": null,
      "padding": null,
      "right": null,
      "top": null,
      "visibility": null,
      "width": null
     }
    },
    "2aa729eb5f6d4c348ba62713e197c9f1": {
     "model_module": "@jupyter-widgets/controls",
     "model_module_version": "1.5.0",
     "model_name": "HTMLModel",
     "state": {
      "_dom_classes": [],
      "_model_module": "@jupyter-widgets/controls",
      "_model_module_version": "1.5.0",
      "_model_name": "HTMLModel",
      "_view_count": null,
      "_view_module": "@jupyter-widgets/controls",
      "_view_module_version": "1.5.0",
      "_view_name": "HTMLView",
      "description": "",
      "description_tooltip": null,
      "layout": "IPY_MODEL_1e820761a17342fdb73a0bc50fe4650e",
      "placeholder": "​",
      "style": "IPY_MODEL_524ca1f2dd8c4f8288d570b3d36d911a",
      "value": "Downloading (…)55de9125/config.json: 100%"
     }
    },
    "2b0b9be6b19b4b0887e90abe105bb2bc": {
     "model_module": "@jupyter-widgets/controls",
     "model_module_version": "1.5.0",
     "model_name": "ProgressStyleModel",
     "state": {
      "_model_module": "@jupyter-widgets/controls",
      "_model_module_version": "1.5.0",
      "_model_name": "ProgressStyleModel",
      "_view_count": null,
      "_view_module": "@jupyter-widgets/base",
      "_view_module_version": "1.2.0",
      "_view_name": "StyleView",
      "bar_color": null,
      "description_width": ""
     }
    },
    "2f6484e667d24601963b7451c8bb6bf5": {
     "model_module": "@jupyter-widgets/base",
     "model_module_version": "1.2.0",
     "model_name": "LayoutModel",
     "state": {
      "_model_module": "@jupyter-widgets/base",
      "_model_module_version": "1.2.0",
      "_model_name": "LayoutModel",
      "_view_count": null,
      "_view_module": "@jupyter-widgets/base",
      "_view_module_version": "1.2.0",
      "_view_name": "LayoutView",
      "align_content": null,
      "align_items": null,
      "align_self": null,
      "border": null,
      "bottom": null,
      "display": null,
      "flex": null,
      "flex_flow": null,
      "grid_area": null,
      "grid_auto_columns": null,
      "grid_auto_flow": null,
      "grid_auto_rows": null,
      "grid_column": null,
      "grid_gap": null,
      "grid_row": null,
      "grid_template_areas": null,
      "grid_template_columns": null,
      "grid_template_rows": null,
      "height": null,
      "justify_content": null,
      "justify_items": null,
      "left": null,
      "margin": null,
      "max_height": null,
      "max_width": null,
      "min_height": null,
      "min_width": null,
      "object_fit": null,
      "object_position": null,
      "order": null,
      "overflow": null,
      "overflow_x": null,
      "overflow_y": null,
      "padding": null,
      "right": null,
      "top": null,
      "visibility": null,
      "width": null
     }
    },
    "2fe7a4406d7a4312bd620e59d599939d": {
     "model_module": "@jupyter-widgets/controls",
     "model_module_version": "1.5.0",
     "model_name": "DescriptionStyleModel",
     "state": {
      "_model_module": "@jupyter-widgets/controls",
      "_model_module_version": "1.5.0",
      "_model_name": "DescriptionStyleModel",
      "_view_count": null,
      "_view_module": "@jupyter-widgets/base",
      "_view_module_version": "1.2.0",
      "_view_name": "StyleView",
      "description_width": ""
     }
    },
    "304bef30433f4cf1a1ead190d214871d": {
     "model_module": "@jupyter-widgets/controls",
     "model_module_version": "1.5.0",
     "model_name": "HTMLModel",
     "state": {
      "_dom_classes": [],
      "_model_module": "@jupyter-widgets/controls",
      "_model_module_version": "1.5.0",
      "_model_name": "HTMLModel",
      "_view_count": null,
      "_view_module": "@jupyter-widgets/controls",
      "_view_module_version": "1.5.0",
      "_view_name": "HTMLView",
      "description": "",
      "description_tooltip": null,
      "layout": "IPY_MODEL_8018bdf2a540453b8506c82197dab42e",
      "placeholder": "​",
      "style": "IPY_MODEL_2fe7a4406d7a4312bd620e59d599939d",
      "value": "Downloading (…)e9125/.gitattributes: 100%"
     }
    },
    "30b0206301c141ad9dad8d6907e0e4be": {
     "model_module": "@jupyter-widgets/controls",
     "model_module_version": "1.5.0",
     "model_name": "HTMLModel",
     "state": {
      "_dom_classes": [],
      "_model_module": "@jupyter-widgets/controls",
      "_model_module_version": "1.5.0",
      "_model_name": "HTMLModel",
      "_view_count": null,
      "_view_module": "@jupyter-widgets/controls",
      "_view_module_version": "1.5.0",
      "_view_name": "HTMLView",
      "description": "",
      "description_tooltip": null,
      "layout": "IPY_MODEL_68a65871c63744e7bbdbd936eb0367a6",
      "placeholder": "​",
      "style": "IPY_MODEL_37f1c1c5c99a4e8a8921947aa4aefc1e",
      "value": "Downloading (…)7e55de9125/README.md: 100%"
     }
    },
    "31bb3dc84f2043cb9241443e952a2a7a": {
     "model_module": "@jupyter-widgets/controls",
     "model_module_version": "1.5.0",
     "model_name": "DescriptionStyleModel",
     "state": {
      "_model_module": "@jupyter-widgets/controls",
      "_model_module_version": "1.5.0",
      "_model_name": "DescriptionStyleModel",
      "_view_count": null,
      "_view_module": "@jupyter-widgets/base",
      "_view_module_version": "1.2.0",
      "_view_name": "StyleView",
      "description_width": ""
     }
    },
    "3418a3a97f624f7b9cffab38c562f1eb": {
     "model_module": "@jupyter-widgets/controls",
     "model_module_version": "1.5.0",
     "model_name": "HBoxModel",
     "state": {
      "_dom_classes": [],
      "_model_module": "@jupyter-widgets/controls",
      "_model_module_version": "1.5.0",
      "_model_name": "HBoxModel",
      "_view_count": null,
      "_view_module": "@jupyter-widgets/controls",
      "_view_module_version": "1.5.0",
      "_view_name": "HBoxView",
      "box_style": "",
      "children": [
       "IPY_MODEL_30b0206301c141ad9dad8d6907e0e4be",
       "IPY_MODEL_aa6ec19780e84c6baf21d36e6f1382ff",
       "IPY_MODEL_94e46ec3cc4147deb04dff637f682800"
      ],
      "layout": "IPY_MODEL_d3d0f61214cb4b26994516a741ecff67"
     }
    },
    "34c81671d08a49d08da63545fb26c763": {
     "model_module": "@jupyter-widgets/base",
     "model_module_version": "1.2.0",
     "model_name": "LayoutModel",
     "state": {
      "_model_module": "@jupyter-widgets/base",
      "_model_module_version": "1.2.0",
      "_model_name": "LayoutModel",
      "_view_count": null,
      "_view_module": "@jupyter-widgets/base",
      "_view_module_version": "1.2.0",
      "_view_name": "LayoutView",
      "align_content": null,
      "align_items": null,
      "align_self": null,
      "border": null,
      "bottom": null,
      "display": null,
      "flex": null,
      "flex_flow": null,
      "grid_area": null,
      "grid_auto_columns": null,
      "grid_auto_flow": null,
      "grid_auto_rows": null,
      "grid_column": null,
      "grid_gap": null,
      "grid_row": null,
      "grid_template_areas": null,
      "grid_template_columns": null,
      "grid_template_rows": null,
      "height": null,
      "justify_content": null,
      "justify_items": null,
      "left": null,
      "margin": null,
      "max_height": null,
      "max_width": null,
      "min_height": null,
      "min_width": null,
      "object_fit": null,
      "object_position": null,
      "order": null,
      "overflow": null,
      "overflow_x": null,
      "overflow_y": null,
      "padding": null,
      "right": null,
      "top": null,
      "visibility": null,
      "width": null
     }
    },
    "37707316c45c44f68c73fdc65be83305": {
     "model_module": "@jupyter-widgets/controls",
     "model_module_version": "1.5.0",
     "model_name": "DescriptionStyleModel",
     "state": {
      "_model_module": "@jupyter-widgets/controls",
      "_model_module_version": "1.5.0",
      "_model_name": "DescriptionStyleModel",
      "_view_count": null,
      "_view_module": "@jupyter-widgets/base",
      "_view_module_version": "1.2.0",
      "_view_name": "StyleView",
      "description_width": ""
     }
    },
    "37f1c1c5c99a4e8a8921947aa4aefc1e": {
     "model_module": "@jupyter-widgets/controls",
     "model_module_version": "1.5.0",
     "model_name": "DescriptionStyleModel",
     "state": {
      "_model_module": "@jupyter-widgets/controls",
      "_model_module_version": "1.5.0",
      "_model_name": "DescriptionStyleModel",
      "_view_count": null,
      "_view_module": "@jupyter-widgets/base",
      "_view_module_version": "1.2.0",
      "_view_name": "StyleView",
      "description_width": ""
     }
    },
    "3accacd5b01a4500bb42bfe128169c87": {
     "model_module": "@jupyter-widgets/base",
     "model_module_version": "1.2.0",
     "model_name": "LayoutModel",
     "state": {
      "_model_module": "@jupyter-widgets/base",
      "_model_module_version": "1.2.0",
      "_model_name": "LayoutModel",
      "_view_count": null,
      "_view_module": "@jupyter-widgets/base",
      "_view_module_version": "1.2.0",
      "_view_name": "LayoutView",
      "align_content": null,
      "align_items": null,
      "align_self": null,
      "border": null,
      "bottom": null,
      "display": null,
      "flex": null,
      "flex_flow": null,
      "grid_area": null,
      "grid_auto_columns": null,
      "grid_auto_flow": null,
      "grid_auto_rows": null,
      "grid_column": null,
      "grid_gap": null,
      "grid_row": null,
      "grid_template_areas": null,
      "grid_template_columns": null,
      "grid_template_rows": null,
      "height": null,
      "justify_content": null,
      "justify_items": null,
      "left": null,
      "margin": null,
      "max_height": null,
      "max_width": null,
      "min_height": null,
      "min_width": null,
      "object_fit": null,
      "object_position": null,
      "order": null,
      "overflow": null,
      "overflow_x": null,
      "overflow_y": null,
      "padding": null,
      "right": null,
      "top": null,
      "visibility": null,
      "width": null
     }
    },
    "3acdc1ab7998441086ca25e9d0eeceb5": {
     "model_module": "@jupyter-widgets/controls",
     "model_module_version": "1.5.0",
     "model_name": "HTMLModel",
     "state": {
      "_dom_classes": [],
      "_model_module": "@jupyter-widgets/controls",
      "_model_module_version": "1.5.0",
      "_model_name": "HTMLModel",
      "_view_count": null,
      "_view_module": "@jupyter-widgets/controls",
      "_view_module_version": "1.5.0",
      "_view_name": "HTMLView",
      "description": "",
      "description_tooltip": null,
      "layout": "IPY_MODEL_01d38de7dbfb4d399275f0f0e1c27c59",
      "placeholder": "​",
      "style": "IPY_MODEL_d46a05df23084489a84fc58a22e77ee1",
      "value": " 112/112 [00:00&lt;00:00, 4.13kB/s]"
     }
    },
    "3b6d6e08e78c4a8aafe23f9ff194c0e6": {
     "model_module": "@jupyter-widgets/base",
     "model_module_version": "1.2.0",
     "model_name": "LayoutModel",
     "state": {
      "_model_module": "@jupyter-widgets/base",
      "_model_module_version": "1.2.0",
      "_model_name": "LayoutModel",
      "_view_count": null,
      "_view_module": "@jupyter-widgets/base",
      "_view_module_version": "1.2.0",
      "_view_name": "LayoutView",
      "align_content": null,
      "align_items": null,
      "align_self": null,
      "border": null,
      "bottom": null,
      "display": null,
      "flex": null,
      "flex_flow": null,
      "grid_area": null,
      "grid_auto_columns": null,
      "grid_auto_flow": null,
      "grid_auto_rows": null,
      "grid_column": null,
      "grid_gap": null,
      "grid_row": null,
      "grid_template_areas": null,
      "grid_template_columns": null,
      "grid_template_rows": null,
      "height": null,
      "justify_content": null,
      "justify_items": null,
      "left": null,
      "margin": null,
      "max_height": null,
      "max_width": null,
      "min_height": null,
      "min_width": null,
      "object_fit": null,
      "object_position": null,
      "order": null,
      "overflow": null,
      "overflow_x": null,
      "overflow_y": null,
      "padding": null,
      "right": null,
      "top": null,
      "visibility": null,
      "width": null
     }
    },
    "3cdf054240594cf58da007844cb95b01": {
     "model_module": "@jupyter-widgets/base",
     "model_module_version": "1.2.0",
     "model_name": "LayoutModel",
     "state": {
      "_model_module": "@jupyter-widgets/base",
      "_model_module_version": "1.2.0",
      "_model_name": "LayoutModel",
      "_view_count": null,
      "_view_module": "@jupyter-widgets/base",
      "_view_module_version": "1.2.0",
      "_view_name": "LayoutView",
      "align_content": null,
      "align_items": null,
      "align_self": null,
      "border": null,
      "bottom": null,
      "display": null,
      "flex": null,
      "flex_flow": null,
      "grid_area": null,
      "grid_auto_columns": null,
      "grid_auto_flow": null,
      "grid_auto_rows": null,
      "grid_column": null,
      "grid_gap": null,
      "grid_row": null,
      "grid_template_areas": null,
      "grid_template_columns": null,
      "grid_template_rows": null,
      "height": null,
      "justify_content": null,
      "justify_items": null,
      "left": null,
      "margin": null,
      "max_height": null,
      "max_width": null,
      "min_height": null,
      "min_width": null,
      "object_fit": null,
      "object_position": null,
      "order": null,
      "overflow": null,
      "overflow_x": null,
      "overflow_y": null,
      "padding": null,
      "right": null,
      "top": null,
      "visibility": null,
      "width": null
     }
    },
    "3d9c5a30cadb4419ab64ec7aa778e080": {
     "model_module": "@jupyter-widgets/controls",
     "model_module_version": "1.5.0",
     "model_name": "ProgressStyleModel",
     "state": {
      "_model_module": "@jupyter-widgets/controls",
      "_model_module_version": "1.5.0",
      "_model_name": "ProgressStyleModel",
      "_view_count": null,
      "_view_module": "@jupyter-widgets/base",
      "_view_module_version": "1.2.0",
      "_view_name": "StyleView",
      "bar_color": null,
      "description_width": ""
     }
    },
    "3ed4b17fb6be439fb98b52711ca26926": {
     "model_module": "@jupyter-widgets/controls",
     "model_module_version": "1.5.0",
     "model_name": "DescriptionStyleModel",
     "state": {
      "_model_module": "@jupyter-widgets/controls",
      "_model_module_version": "1.5.0",
      "_model_name": "DescriptionStyleModel",
      "_view_count": null,
      "_view_module": "@jupyter-widgets/base",
      "_view_module_version": "1.2.0",
      "_view_name": "StyleView",
      "description_width": ""
     }
    },
    "40d82ac523b744308afaab433c9cfc04": {
     "model_module": "@jupyter-widgets/base",
     "model_module_version": "1.2.0",
     "model_name": "LayoutModel",
     "state": {
      "_model_module": "@jupyter-widgets/base",
      "_model_module_version": "1.2.0",
      "_model_name": "LayoutModel",
      "_view_count": null,
      "_view_module": "@jupyter-widgets/base",
      "_view_module_version": "1.2.0",
      "_view_name": "LayoutView",
      "align_content": null,
      "align_items": null,
      "align_self": null,
      "border": null,
      "bottom": null,
      "display": null,
      "flex": null,
      "flex_flow": null,
      "grid_area": null,
      "grid_auto_columns": null,
      "grid_auto_flow": null,
      "grid_auto_rows": null,
      "grid_column": null,
      "grid_gap": null,
      "grid_row": null,
      "grid_template_areas": null,
      "grid_template_columns": null,
      "grid_template_rows": null,
      "height": null,
      "justify_content": null,
      "justify_items": null,
      "left": null,
      "margin": null,
      "max_height": null,
      "max_width": null,
      "min_height": null,
      "min_width": null,
      "object_fit": null,
      "object_position": null,
      "order": null,
      "overflow": null,
      "overflow_x": null,
      "overflow_y": null,
      "padding": null,
      "right": null,
      "top": null,
      "visibility": null,
      "width": null
     }
    },
    "4a904f91f2924a21b9e6d8e80fb9dff0": {
     "model_module": "@jupyter-widgets/controls",
     "model_module_version": "1.5.0",
     "model_name": "FloatProgressModel",
     "state": {
      "_dom_classes": [],
      "_model_module": "@jupyter-widgets/controls",
      "_model_module_version": "1.5.0",
      "_model_name": "FloatProgressModel",
      "_view_count": null,
      "_view_module": "@jupyter-widgets/controls",
      "_view_module_version": "1.5.0",
      "_view_name": "ProgressView",
      "bar_style": "success",
      "description": "",
      "description_tooltip": null,
      "layout": "IPY_MODEL_ab63e62b5dfa49a190f49779d94fce0f",
      "max": 1175,
      "min": 0,
      "orientation": "horizontal",
      "style": "IPY_MODEL_a3d189a86c8f4af38b2ce4fd83ccca58",
      "value": 1175
     }
    },
    "4de053c5bce94092b749298e69ae4bf7": {
     "model_module": "@jupyter-widgets/base",
     "model_module_version": "1.2.0",
     "model_name": "LayoutModel",
     "state": {
      "_model_module": "@jupyter-widgets/base",
      "_model_module_version": "1.2.0",
      "_model_name": "LayoutModel",
      "_view_count": null,
      "_view_module": "@jupyter-widgets/base",
      "_view_module_version": "1.2.0",
      "_view_name": "LayoutView",
      "align_content": null,
      "align_items": null,
      "align_self": null,
      "border": null,
      "bottom": null,
      "display": null,
      "flex": null,
      "flex_flow": null,
      "grid_area": null,
      "grid_auto_columns": null,
      "grid_auto_flow": null,
      "grid_auto_rows": null,
      "grid_column": null,
      "grid_gap": null,
      "grid_row": null,
      "grid_template_areas": null,
      "grid_template_columns": null,
      "grid_template_rows": null,
      "height": null,
      "justify_content": null,
      "justify_items": null,
      "left": null,
      "margin": null,
      "max_height": null,
      "max_width": null,
      "min_height": null,
      "min_width": null,
      "object_fit": null,
      "object_position": null,
      "order": null,
      "overflow": null,
      "overflow_x": null,
      "overflow_y": null,
      "padding": null,
      "right": null,
      "top": null,
      "visibility": null,
      "width": null
     }
    },
    "524ca1f2dd8c4f8288d570b3d36d911a": {
     "model_module": "@jupyter-widgets/controls",
     "model_module_version": "1.5.0",
     "model_name": "DescriptionStyleModel",
     "state": {
      "_model_module": "@jupyter-widgets/controls",
      "_model_module_version": "1.5.0",
      "_model_name": "DescriptionStyleModel",
      "_view_count": null,
      "_view_module": "@jupyter-widgets/base",
      "_view_module_version": "1.2.0",
      "_view_name": "StyleView",
      "description_width": ""
     }
    },
    "533813a44ba3420c911b5e9f08323815": {
     "model_module": "@jupyter-widgets/controls",
     "model_module_version": "1.5.0",
     "model_name": "HTMLModel",
     "state": {
      "_dom_classes": [],
      "_model_module": "@jupyter-widgets/controls",
      "_model_module_version": "1.5.0",
      "_model_name": "HTMLModel",
      "_view_count": null,
      "_view_module": "@jupyter-widgets/controls",
      "_view_module_version": "1.5.0",
      "_view_name": "HTMLView",
      "description": "",
      "description_tooltip": null,
      "layout": "IPY_MODEL_ef82036e7d7041d6807983f7627293f8",
      "placeholder": "​",
      "style": "IPY_MODEL_f3660c0a70bf460ba81ecf8b84ab13e3",
      "value": " 466k/466k [00:00&lt;00:00, 3.18MB/s]"
     }
    },
    "559386561c6a4b59a664914106da8b26": {
     "model_module": "@jupyter-widgets/controls",
     "model_module_version": "1.5.0",
     "model_name": "DescriptionStyleModel",
     "state": {
      "_model_module": "@jupyter-widgets/controls",
      "_model_module_version": "1.5.0",
      "_model_name": "DescriptionStyleModel",
      "_view_count": null,
      "_view_module": "@jupyter-widgets/base",
      "_view_module_version": "1.2.0",
      "_view_name": "StyleView",
      "description_width": ""
     }
    },
    "58497dd85a8449fc8fa86b8a7cef517e": {
     "model_module": "@jupyter-widgets/controls",
     "model_module_version": "1.5.0",
     "model_name": "FloatProgressModel",
     "state": {
      "_dom_classes": [],
      "_model_module": "@jupyter-widgets/controls",
      "_model_module_version": "1.5.0",
      "_model_name": "FloatProgressModel",
      "_view_count": null,
      "_view_module": "@jupyter-widgets/controls",
      "_view_module_version": "1.5.0",
      "_view_name": "ProgressView",
      "bar_style": "success",
      "description": "",
      "description_tooltip": null,
      "layout": "IPY_MODEL_a1ddc0ad055a4cc0bee45a5f6dbb853d",
      "max": 112,
      "min": 0,
      "orientation": "horizontal",
      "style": "IPY_MODEL_e2cb2a278d174765ba068e594bacf506",
      "value": 112
     }
    },
    "5938d8855c4e465491f8a7142b6f06d4": {
     "model_module": "@jupyter-widgets/base",
     "model_module_version": "1.2.0",
     "model_name": "LayoutModel",
     "state": {
      "_model_module": "@jupyter-widgets/base",
      "_model_module_version": "1.2.0",
      "_model_name": "LayoutModel",
      "_view_count": null,
      "_view_module": "@jupyter-widgets/base",
      "_view_module_version": "1.2.0",
      "_view_name": "LayoutView",
      "align_content": null,
      "align_items": null,
      "align_self": null,
      "border": null,
      "bottom": null,
      "display": null,
      "flex": null,
      "flex_flow": null,
      "grid_area": null,
      "grid_auto_columns": null,
      "grid_auto_flow": null,
      "grid_auto_rows": null,
      "grid_column": null,
      "grid_gap": null,
      "grid_row": null,
      "grid_template_areas": null,
      "grid_template_columns": null,
      "grid_template_rows": null,
      "height": null,
      "justify_content": null,
      "justify_items": null,
      "left": null,
      "margin": null,
      "max_height": null,
      "max_width": null,
      "min_height": null,
      "min_width": null,
      "object_fit": null,
      "object_position": null,
      "order": null,
      "overflow": null,
      "overflow_x": null,
      "overflow_y": null,
      "padding": null,
      "right": null,
      "top": null,
      "visibility": null,
      "width": null
     }
    },
    "5adffb4964254eae8571f4deaa09b0db": {
     "model_module": "@jupyter-widgets/controls",
     "model_module_version": "1.5.0",
     "model_name": "HTMLModel",
     "state": {
      "_dom_classes": [],
      "_model_module": "@jupyter-widgets/controls",
      "_model_module_version": "1.5.0",
      "_model_name": "HTMLModel",
      "_view_count": null,
      "_view_module": "@jupyter-widgets/controls",
      "_view_module_version": "1.5.0",
      "_view_name": "HTMLView",
      "description": "",
      "description_tooltip": null,
      "layout": "IPY_MODEL_94ba7bb1e8df4a0d9d8d8cc096889b3c",
      "placeholder": "​",
      "style": "IPY_MODEL_5ccdfed92b414a87a1bb7444f55047a9",
      "value": " 612/612 [00:00&lt;00:00, 20.9kB/s]"
     }
    },
    "5ba6fc55a8784b8cbf462ef6c1752f2d": {
     "model_module": "@jupyter-widgets/controls",
     "model_module_version": "1.5.0",
     "model_name": "DescriptionStyleModel",
     "state": {
      "_model_module": "@jupyter-widgets/controls",
      "_model_module_version": "1.5.0",
      "_model_name": "DescriptionStyleModel",
      "_view_count": null,
      "_view_module": "@jupyter-widgets/base",
      "_view_module_version": "1.2.0",
      "_view_name": "StyleView",
      "description_width": ""
     }
    },
    "5ccdfed92b414a87a1bb7444f55047a9": {
     "model_module": "@jupyter-widgets/controls",
     "model_module_version": "1.5.0",
     "model_name": "DescriptionStyleModel",
     "state": {
      "_model_module": "@jupyter-widgets/controls",
      "_model_module_version": "1.5.0",
      "_model_name": "DescriptionStyleModel",
      "_view_count": null,
      "_view_module": "@jupyter-widgets/base",
      "_view_module_version": "1.2.0",
      "_view_name": "StyleView",
      "description_width": ""
     }
    },
    "5d017527f720461ebd585c42bc1b9fa2": {
     "model_module": "@jupyter-widgets/controls",
     "model_module_version": "1.5.0",
     "model_name": "DescriptionStyleModel",
     "state": {
      "_model_module": "@jupyter-widgets/controls",
      "_model_module_version": "1.5.0",
      "_model_name": "DescriptionStyleModel",
      "_view_count": null,
      "_view_module": "@jupyter-widgets/base",
      "_view_module_version": "1.2.0",
      "_view_name": "StyleView",
      "description_width": ""
     }
    },
    "5f23220ac9044aaf91535527d669b272": {
     "model_module": "@jupyter-widgets/controls",
     "model_module_version": "1.5.0",
     "model_name": "HTMLModel",
     "state": {
      "_dom_classes": [],
      "_model_module": "@jupyter-widgets/controls",
      "_model_module_version": "1.5.0",
      "_model_name": "HTMLModel",
      "_view_count": null,
      "_view_module": "@jupyter-widgets/controls",
      "_view_module_version": "1.5.0",
      "_view_name": "HTMLView",
      "description": "",
      "description_tooltip": null,
      "layout": "IPY_MODEL_87cc7d98467341e19feaaae07d21dca8",
      "placeholder": "​",
      "style": "IPY_MODEL_1fca1a5931bd4e28bad914c063adbb42",
      "value": "Downloading (…)okenizer_config.json: 100%"
     }
    },
    "60f40827b4be4dca9d2d53ba70df87e6": {
     "model_module": "@jupyter-widgets/controls",
     "model_module_version": "1.5.0",
     "model_name": "FloatProgressModel",
     "state": {
      "_dom_classes": [],
      "_model_module": "@jupyter-widgets/controls",
      "_model_module_version": "1.5.0",
      "_model_name": "FloatProgressModel",
      "_view_count": null,
      "_view_module": "@jupyter-widgets/controls",
      "_view_module_version": "1.5.0",
      "_view_name": "ProgressView",
      "bar_style": "success",
      "description": "",
      "description_tooltip": null,
      "layout": "IPY_MODEL_1f74d9e6a7224d879146e428c2c507ab",
      "max": 350,
      "min": 0,
      "orientation": "horizontal",
      "style": "IPY_MODEL_e0f2b561735144fc86e560324acdf343",
      "value": 350
     }
    },
    "641a55eabe134abca7814fa671a6dbb6": {
     "model_module": "@jupyter-widgets/controls",
     "model_module_version": "1.5.0",
     "model_name": "HBoxModel",
     "state": {
      "_dom_classes": [],
      "_model_module": "@jupyter-widgets/controls",
      "_model_module_version": "1.5.0",
      "_model_name": "HBoxModel",
      "_view_count": null,
      "_view_module": "@jupyter-widgets/controls",
      "_view_module_version": "1.5.0",
      "_view_name": "HBoxView",
      "box_style": "",
      "children": [
       "IPY_MODEL_1604f079bebc41aaa4b5ba80252a3f1e",
       "IPY_MODEL_8ced0cf847904b2ea408a243d889cd5f",
       "IPY_MODEL_8cfb614dc69f40b2a18ed612a3ad4274"
      ],
      "layout": "IPY_MODEL_0dfe0fcb4e024766b6ed346eb4d51d6c"
     }
    },
    "65284c5b1943423dae4dcc5c8ebb14f5": {
     "model_module": "@jupyter-widgets/controls",
     "model_module_version": "1.5.0",
     "model_name": "FloatProgressModel",
     "state": {
      "_dom_classes": [],
      "_model_module": "@jupyter-widgets/controls",
      "_model_module_version": "1.5.0",
      "_model_name": "FloatProgressModel",
      "_view_count": null,
      "_view_module": "@jupyter-widgets/controls",
      "_view_module_version": "1.5.0",
      "_view_name": "ProgressView",
      "bar_style": "success",
      "description": "",
      "description_tooltip": null,
      "layout": "IPY_MODEL_29f374ee0c7e43e6aedbabdfbe0910b1",
      "max": 190,
      "min": 0,
      "orientation": "horizontal",
      "style": "IPY_MODEL_3d9c5a30cadb4419ab64ec7aa778e080",
      "value": 190
     }
    },
    "68a65871c63744e7bbdbd936eb0367a6": {
     "model_module": "@jupyter-widgets/base",
     "model_module_version": "1.2.0",
     "model_name": "LayoutModel",
     "state": {
      "_model_module": "@jupyter-widgets/base",
      "_model_module_version": "1.2.0",
      "_model_name": "LayoutModel",
      "_view_count": null,
      "_view_module": "@jupyter-widgets/base",
      "_view_module_version": "1.2.0",
      "_view_name": "LayoutView",
      "align_content": null,
      "align_items": null,
      "align_self": null,
      "border": null,
      "bottom": null,
      "display": null,
      "flex": null,
      "flex_flow": null,
      "grid_area": null,
      "grid_auto_columns": null,
      "grid_auto_flow": null,
      "grid_auto_rows": null,
      "grid_column": null,
      "grid_gap": null,
      "grid_row": null,
      "grid_template_areas": null,
      "grid_template_columns": null,
      "grid_template_rows": null,
      "height": null,
      "justify_content": null,
      "justify_items": null,
      "left": null,
      "margin": null,
      "max_height": null,
      "max_width": null,
      "min_height": null,
      "min_width": null,
      "object_fit": null,
      "object_position": null,
      "order": null,
      "overflow": null,
      "overflow_x": null,
      "overflow_y": null,
      "padding": null,
      "right": null,
      "top": null,
      "visibility": null,
      "width": null
     }
    },
    "68a7e757c3d04add92d86c99c68195f8": {
     "model_module": "@jupyter-widgets/base",
     "model_module_version": "1.2.0",
     "model_name": "LayoutModel",
     "state": {
      "_model_module": "@jupyter-widgets/base",
      "_model_module_version": "1.2.0",
      "_model_name": "LayoutModel",
      "_view_count": null,
      "_view_module": "@jupyter-widgets/base",
      "_view_module_version": "1.2.0",
      "_view_name": "LayoutView",
      "align_content": null,
      "align_items": null,
      "align_self": null,
      "border": null,
      "bottom": null,
      "display": null,
      "flex": null,
      "flex_flow": null,
      "grid_area": null,
      "grid_auto_columns": null,
      "grid_auto_flow": null,
      "grid_auto_rows": null,
      "grid_column": null,
      "grid_gap": null,
      "grid_row": null,
      "grid_template_areas": null,
      "grid_template_columns": null,
      "grid_template_rows": null,
      "height": null,
      "justify_content": null,
      "justify_items": null,
      "left": null,
      "margin": null,
      "max_height": null,
      "max_width": null,
      "min_height": null,
      "min_width": null,
      "object_fit": null,
      "object_position": null,
      "order": null,
      "overflow": null,
      "overflow_x": null,
      "overflow_y": null,
      "padding": null,
      "right": null,
      "top": null,
      "visibility": null,
      "width": null
     }
    },
    "6b1f601db2fc4a2ca8044af807bf3317": {
     "model_module": "@jupyter-widgets/controls",
     "model_module_version": "1.5.0",
     "model_name": "HTMLModel",
     "state": {
      "_dom_classes": [],
      "_model_module": "@jupyter-widgets/controls",
      "_model_module_version": "1.5.0",
      "_model_name": "HTMLModel",
      "_view_count": null,
      "_view_module": "@jupyter-widgets/controls",
      "_view_module_version": "1.5.0",
      "_view_name": "HTMLView",
      "description": "",
      "description_tooltip": null,
      "layout": "IPY_MODEL_7cabf1df77b54feca1144b66dc01eb1a",
      "placeholder": "​",
      "style": "IPY_MODEL_dc6b2347d5aa41a5b145cf3a7397bd22",
      "value": "Downloading (…)cial_tokens_map.json: 100%"
     }
    },
    "6ca689bbfa3b48459440a72fd156ff8a": {
     "model_module": "@jupyter-widgets/base",
     "model_module_version": "1.2.0",
     "model_name": "LayoutModel",
     "state": {
      "_model_module": "@jupyter-widgets/base",
      "_model_module_version": "1.2.0",
      "_model_name": "LayoutModel",
      "_view_count": null,
      "_view_module": "@jupyter-widgets/base",
      "_view_module_version": "1.2.0",
      "_view_name": "LayoutView",
      "align_content": null,
      "align_items": null,
      "align_self": null,
      "border": null,
      "bottom": null,
      "display": null,
      "flex": null,
      "flex_flow": null,
      "grid_area": null,
      "grid_auto_columns": null,
      "grid_auto_flow": null,
      "grid_auto_rows": null,
      "grid_column": null,
      "grid_gap": null,
      "grid_row": null,
      "grid_template_areas": null,
      "grid_template_columns": null,
      "grid_template_rows": null,
      "height": null,
      "justify_content": null,
      "justify_items": null,
      "left": null,
      "margin": null,
      "max_height": null,
      "max_width": null,
      "min_height": null,
      "min_width": null,
      "object_fit": null,
      "object_position": null,
      "order": null,
      "overflow": null,
      "overflow_x": null,
      "overflow_y": null,
      "padding": null,
      "right": null,
      "top": null,
      "visibility": null,
      "width": null
     }
    },
    "6cda3de9d06e430a903445d0d56e7da6": {
     "model_module": "@jupyter-widgets/controls",
     "model_module_version": "1.5.0",
     "model_name": "ProgressStyleModel",
     "state": {
      "_model_module": "@jupyter-widgets/controls",
      "_model_module_version": "1.5.0",
      "_model_name": "ProgressStyleModel",
      "_view_count": null,
      "_view_module": "@jupyter-widgets/base",
      "_view_module_version": "1.2.0",
      "_view_name": "StyleView",
      "bar_color": null,
      "description_width": ""
     }
    },
    "6e1be64341b14192b2d31c5f31f50661": {
     "model_module": "@jupyter-widgets/controls",
     "model_module_version": "1.5.0",
     "model_name": "DescriptionStyleModel",
     "state": {
      "_model_module": "@jupyter-widgets/controls",
      "_model_module_version": "1.5.0",
      "_model_name": "DescriptionStyleModel",
      "_view_count": null,
      "_view_module": "@jupyter-widgets/base",
      "_view_module_version": "1.2.0",
      "_view_name": "StyleView",
      "description_width": ""
     }
    },
    "6f69d126a45941e9a18437a482fe41bd": {
     "model_module": "@jupyter-widgets/controls",
     "model_module_version": "1.5.0",
     "model_name": "HTMLModel",
     "state": {
      "_dom_classes": [],
      "_model_module": "@jupyter-widgets/controls",
      "_model_module_version": "1.5.0",
      "_model_name": "HTMLModel",
      "_view_count": null,
      "_view_module": "@jupyter-widgets/controls",
      "_view_module_version": "1.5.0",
      "_view_name": "HTMLView",
      "description": "",
      "description_tooltip": null,
      "layout": "IPY_MODEL_9427ef5d2acb4d2a8fe5c8466a97fb52",
      "placeholder": "​",
      "style": "IPY_MODEL_37707316c45c44f68c73fdc65be83305",
      "value": " 1.18k/1.18k [00:00&lt;00:00, 42.5kB/s]"
     }
    },
    "6fec436902374c22a195381eca12ca3c": {
     "model_module": "@jupyter-widgets/controls",
     "model_module_version": "1.5.0",
     "model_name": "ProgressStyleModel",
     "state": {
      "_model_module": "@jupyter-widgets/controls",
      "_model_module_version": "1.5.0",
      "_model_name": "ProgressStyleModel",
      "_view_count": null,
      "_view_module": "@jupyter-widgets/base",
      "_view_module_version": "1.2.0",
      "_view_name": "StyleView",
      "bar_color": null,
      "description_width": ""
     }
    },
    "705a80fbcf354266a458fd73981d3a2f": {
     "model_module": "@jupyter-widgets/base",
     "model_module_version": "1.2.0",
     "model_name": "LayoutModel",
     "state": {
      "_model_module": "@jupyter-widgets/base",
      "_model_module_version": "1.2.0",
      "_model_name": "LayoutModel",
      "_view_count": null,
      "_view_module": "@jupyter-widgets/base",
      "_view_module_version": "1.2.0",
      "_view_name": "LayoutView",
      "align_content": null,
      "align_items": null,
      "align_self": null,
      "border": null,
      "bottom": null,
      "display": null,
      "flex": null,
      "flex_flow": null,
      "grid_area": null,
      "grid_auto_columns": null,
      "grid_auto_flow": null,
      "grid_auto_rows": null,
      "grid_column": null,
      "grid_gap": null,
      "grid_row": null,
      "grid_template_areas": null,
      "grid_template_columns": null,
      "grid_template_rows": null,
      "height": null,
      "justify_content": null,
      "justify_items": null,
      "left": null,
      "margin": null,
      "max_height": null,
      "max_width": null,
      "min_height": null,
      "min_width": null,
      "object_fit": null,
      "object_position": null,
      "order": null,
      "overflow": null,
      "overflow_x": null,
      "overflow_y": null,
      "padding": null,
      "right": null,
      "top": null,
      "visibility": null,
      "width": null
     }
    },
    "73734b892e6e494a9671ee0acbcf5974": {
     "model_module": "@jupyter-widgets/base",
     "model_module_version": "1.2.0",
     "model_name": "LayoutModel",
     "state": {
      "_model_module": "@jupyter-widgets/base",
      "_model_module_version": "1.2.0",
      "_model_name": "LayoutModel",
      "_view_count": null,
      "_view_module": "@jupyter-widgets/base",
      "_view_module_version": "1.2.0",
      "_view_name": "LayoutView",
      "align_content": null,
      "align_items": null,
      "align_self": null,
      "border": null,
      "bottom": null,
      "display": null,
      "flex": null,
      "flex_flow": null,
      "grid_area": null,
      "grid_auto_columns": null,
      "grid_auto_flow": null,
      "grid_auto_rows": null,
      "grid_column": null,
      "grid_gap": null,
      "grid_row": null,
      "grid_template_areas": null,
      "grid_template_columns": null,
      "grid_template_rows": null,
      "height": null,
      "justify_content": null,
      "justify_items": null,
      "left": null,
      "margin": null,
      "max_height": null,
      "max_width": null,
      "min_height": null,
      "min_width": null,
      "object_fit": null,
      "object_position": null,
      "order": null,
      "overflow": null,
      "overflow_x": null,
      "overflow_y": null,
      "padding": null,
      "right": null,
      "top": null,
      "visibility": null,
      "width": null
     }
    },
    "76627019753945b797d61991479590ff": {
     "model_module": "@jupyter-widgets/controls",
     "model_module_version": "1.5.0",
     "model_name": "FloatProgressModel",
     "state": {
      "_dom_classes": [],
      "_model_module": "@jupyter-widgets/controls",
      "_model_module_version": "1.5.0",
      "_model_name": "FloatProgressModel",
      "_view_count": null,
      "_view_module": "@jupyter-widgets/controls",
      "_view_module_version": "1.5.0",
      "_view_name": "ProgressView",
      "bar_style": "success",
      "description": "",
      "description_tooltip": null,
      "layout": "IPY_MODEL_ae97c6eab0b44243a1de0654506642a8",
      "max": 13156,
      "min": 0,
      "orientation": "horizontal",
      "style": "IPY_MODEL_7787500c468944769a2b7f51f3e1e729",
      "value": 13156
     }
    },
    "7787500c468944769a2b7f51f3e1e729": {
     "model_module": "@jupyter-widgets/controls",
     "model_module_version": "1.5.0",
     "model_name": "ProgressStyleModel",
     "state": {
      "_model_module": "@jupyter-widgets/controls",
      "_model_module_version": "1.5.0",
      "_model_name": "ProgressStyleModel",
      "_view_count": null,
      "_view_module": "@jupyter-widgets/base",
      "_view_module_version": "1.2.0",
      "_view_name": "StyleView",
      "bar_color": null,
      "description_width": ""
     }
    },
    "77fd6af80b694caab1661cadf616370e": {
     "model_module": "@jupyter-widgets/controls",
     "model_module_version": "1.5.0",
     "model_name": "ProgressStyleModel",
     "state": {
      "_model_module": "@jupyter-widgets/controls",
      "_model_module_version": "1.5.0",
      "_model_name": "ProgressStyleModel",
      "_view_count": null,
      "_view_module": "@jupyter-widgets/base",
      "_view_module_version": "1.2.0",
      "_view_name": "StyleView",
      "bar_color": null,
      "description_width": ""
     }
    },
    "7855e447e5da4cc08b2659f1d202b8a3": {
     "model_module": "@jupyter-widgets/controls",
     "model_module_version": "1.5.0",
     "model_name": "HBoxModel",
     "state": {
      "_dom_classes": [],
      "_model_module": "@jupyter-widgets/controls",
      "_model_module_version": "1.5.0",
      "_model_name": "HBoxModel",
      "_view_count": null,
      "_view_module": "@jupyter-widgets/controls",
      "_view_module_version": "1.5.0",
      "_view_name": "HBoxView",
      "box_style": "",
      "children": [
       "IPY_MODEL_fa5f9a7282d84de69573bdab66559e90",
       "IPY_MODEL_65284c5b1943423dae4dcc5c8ebb14f5",
       "IPY_MODEL_d650e22ec4c546b9a91dc9ae4ca608de"
      ],
      "layout": "IPY_MODEL_979aa225a16c457eb2876047bd4ec2cb"
     }
    },
    "7cabf1df77b54feca1144b66dc01eb1a": {
     "model_module": "@jupyter-widgets/base",
     "model_module_version": "1.2.0",
     "model_name": "LayoutModel",
     "state": {
      "_model_module": "@jupyter-widgets/base",
      "_model_module_version": "1.2.0",
      "_model_name": "LayoutModel",
      "_view_count": null,
      "_view_module": "@jupyter-widgets/base",
      "_view_module_version": "1.2.0",
      "_view_name": "LayoutView",
      "align_content": null,
      "align_items": null,
      "align_self": null,
      "border": null,
      "bottom": null,
      "display": null,
      "flex": null,
      "flex_flow": null,
      "grid_area": null,
      "grid_auto_columns": null,
      "grid_auto_flow": null,
      "grid_auto_rows": null,
      "grid_column": null,
      "grid_gap": null,
      "grid_row": null,
      "grid_template_areas": null,
      "grid_template_columns": null,
      "grid_template_rows": null,
      "height": null,
      "justify_content": null,
      "justify_items": null,
      "left": null,
      "margin": null,
      "max_height": null,
      "max_width": null,
      "min_height": null,
      "min_width": null,
      "object_fit": null,
      "object_position": null,
      "order": null,
      "overflow": null,
      "overflow_x": null,
      "overflow_y": null,
      "padding": null,
      "right": null,
      "top": null,
      "visibility": null,
      "width": null
     }
    },
    "7d9d99046deb44bab969c30597d2d6ba": {
     "model_module": "@jupyter-widgets/base",
     "model_module_version": "1.2.0",
     "model_name": "LayoutModel",
     "state": {
      "_model_module": "@jupyter-widgets/base",
      "_model_module_version": "1.2.0",
      "_model_name": "LayoutModel",
      "_view_count": null,
      "_view_module": "@jupyter-widgets/base",
      "_view_module_version": "1.2.0",
      "_view_name": "LayoutView",
      "align_content": null,
      "align_items": null,
      "align_self": null,
      "border": null,
      "bottom": null,
      "display": null,
      "flex": null,
      "flex_flow": null,
      "grid_area": null,
      "grid_auto_columns": null,
      "grid_auto_flow": null,
      "grid_auto_rows": null,
      "grid_column": null,
      "grid_gap": null,
      "grid_row": null,
      "grid_template_areas": null,
      "grid_template_columns": null,
      "grid_template_rows": null,
      "height": null,
      "justify_content": null,
      "justify_items": null,
      "left": null,
      "margin": null,
      "max_height": null,
      "max_width": null,
      "min_height": null,
      "min_width": null,
      "object_fit": null,
      "object_position": null,
      "order": null,
      "overflow": null,
      "overflow_x": null,
      "overflow_y": null,
      "padding": null,
      "right": null,
      "top": null,
      "visibility": null,
      "width": null
     }
    },
    "7ef89419529c4539b344279bf6007469": {
     "model_module": "@jupyter-widgets/controls",
     "model_module_version": "1.5.0",
     "model_name": "HTMLModel",
     "state": {
      "_dom_classes": [],
      "_model_module": "@jupyter-widgets/controls",
      "_model_module_version": "1.5.0",
      "_model_name": "HTMLModel",
      "_view_count": null,
      "_view_module": "@jupyter-widgets/controls",
      "_view_module_version": "1.5.0",
      "_view_name": "HTMLView",
      "description": "",
      "description_tooltip": null,
      "layout": "IPY_MODEL_978bec63a7a44cb798a2c0bc8b22b16e",
      "placeholder": "​",
      "style": "IPY_MODEL_851ae943949e4f0d83cfcf0150d035ae",
      "value": "Downloading (…)7e55de9125/vocab.txt: 100%"
     }
    },
    "8009e695c295425a876fca6ac1c87b34": {
     "model_module": "@jupyter-widgets/controls",
     "model_module_version": "1.5.0",
     "model_name": "HBoxModel",
     "state": {
      "_dom_classes": [],
      "_model_module": "@jupyter-widgets/controls",
      "_model_module_version": "1.5.0",
      "_model_name": "HBoxModel",
      "_view_count": null,
      "_view_module": "@jupyter-widgets/controls",
      "_view_module_version": "1.5.0",
      "_view_name": "HBoxView",
      "box_style": "",
      "children": [
       "IPY_MODEL_5f23220ac9044aaf91535527d669b272",
       "IPY_MODEL_60f40827b4be4dca9d2d53ba70df87e6",
       "IPY_MODEL_16f12bf65cbf46678ad8119b9b0418a1"
      ],
      "layout": "IPY_MODEL_2f6484e667d24601963b7451c8bb6bf5"
     }
    },
    "8018bdf2a540453b8506c82197dab42e": {
     "model_module": "@jupyter-widgets/base",
     "model_module_version": "1.2.0",
     "model_name": "LayoutModel",
     "state": {
      "_model_module": "@jupyter-widgets/base",
      "_model_module_version": "1.2.0",
      "_model_name": "LayoutModel",
      "_view_count": null,
      "_view_module": "@jupyter-widgets/base",
      "_view_module_version": "1.2.0",
      "_view_name": "LayoutView",
      "align_content": null,
      "align_items": null,
      "align_self": null,
      "border": null,
      "bottom": null,
      "display": null,
      "flex": null,
      "flex_flow": null,
      "grid_area": null,
      "grid_auto_columns": null,
      "grid_auto_flow": null,
      "grid_auto_rows": null,
      "grid_column": null,
      "grid_gap": null,
      "grid_row": null,
      "grid_template_areas": null,
      "grid_template_columns": null,
      "grid_template_rows": null,
      "height": null,
      "justify_content": null,
      "justify_items": null,
      "left": null,
      "margin": null,
      "max_height": null,
      "max_width": null,
      "min_height": null,
      "min_width": null,
      "object_fit": null,
      "object_position": null,
      "order": null,
      "overflow": null,
      "overflow_x": null,
      "overflow_y": null,
      "padding": null,
      "right": null,
      "top": null,
      "visibility": null,
      "width": null
     }
    },
    "824b5785d971430fba235fb68d5c65e6": {
     "model_module": "@jupyter-widgets/controls",
     "model_module_version": "1.5.0",
     "model_name": "HBoxModel",
     "state": {
      "_dom_classes": [],
      "_model_module": "@jupyter-widgets/controls",
      "_model_module_version": "1.5.0",
      "_model_name": "HBoxModel",
      "_view_count": null,
      "_view_module": "@jupyter-widgets/controls",
      "_view_module_version": "1.5.0",
      "_view_name": "HBoxView",
      "box_style": "",
      "children": [
       "IPY_MODEL_cb399c2da6d647daa0b61c66b7bb62e1",
       "IPY_MODEL_fdd3a2837b6f4d7484ca07e704344b51",
       "IPY_MODEL_0eff406b4e4f472b8a8503104cef0398"
      ],
      "layout": "IPY_MODEL_3accacd5b01a4500bb42bfe128169c87"
     }
    },
    "8417d72b57c541dbb4b0bacdac024c2d": {
     "model_module": "@jupyter-widgets/controls",
     "model_module_version": "1.5.0",
     "model_name": "HTMLModel",
     "state": {
      "_dom_classes": [],
      "_model_module": "@jupyter-widgets/controls",
      "_model_module_version": "1.5.0",
      "_model_name": "HTMLModel",
      "_view_count": null,
      "_view_module": "@jupyter-widgets/controls",
      "_view_module_version": "1.5.0",
      "_view_name": "HTMLView",
      "description": "",
      "description_tooltip": null,
      "layout": "IPY_MODEL_2a5dffd9224c4db0a8959b581712ef1e",
      "placeholder": "​",
      "style": "IPY_MODEL_31bb3dc84f2043cb9241443e952a2a7a",
      "value": " 232k/232k [00:00&lt;00:00, 1.83MB/s]"
     }
    },
    "851ae943949e4f0d83cfcf0150d035ae": {
     "model_module": "@jupyter-widgets/controls",
     "model_module_version": "1.5.0",
     "model_name": "DescriptionStyleModel",
     "state": {
      "_model_module": "@jupyter-widgets/controls",
      "_model_module_version": "1.5.0",
      "_model_name": "DescriptionStyleModel",
      "_view_count": null,
      "_view_module": "@jupyter-widgets/base",
      "_view_module_version": "1.2.0",
      "_view_name": "StyleView",
      "description_width": ""
     }
    },
    "851c0de35ef54d6595c7eb1d7f8e841a": {
     "model_module": "@jupyter-widgets/controls",
     "model_module_version": "1.5.0",
     "model_name": "HBoxModel",
     "state": {
      "_dom_classes": [],
      "_model_module": "@jupyter-widgets/controls",
      "_model_module_version": "1.5.0",
      "_model_name": "HBoxModel",
      "_view_count": null,
      "_view_module": "@jupyter-widgets/controls",
      "_view_module_version": "1.5.0",
      "_view_name": "HBoxView",
      "box_style": "",
      "children": [
       "IPY_MODEL_304bef30433f4cf1a1ead190d214871d",
       "IPY_MODEL_4a904f91f2924a21b9e6d8e80fb9dff0",
       "IPY_MODEL_6f69d126a45941e9a18437a482fe41bd"
      ],
      "layout": "IPY_MODEL_de326806730f4db39136747c775d5053"
     }
    },
    "87cc7d98467341e19feaaae07d21dca8": {
     "model_module": "@jupyter-widgets/base",
     "model_module_version": "1.2.0",
     "model_name": "LayoutModel",
     "state": {
      "_model_module": "@jupyter-widgets/base",
      "_model_module_version": "1.2.0",
      "_model_name": "LayoutModel",
      "_view_count": null,
      "_view_module": "@jupyter-widgets/base",
      "_view_module_version": "1.2.0",
      "_view_name": "LayoutView",
      "align_content": null,
      "align_items": null,
      "align_self": null,
      "border": null,
      "bottom": null,
      "display": null,
      "flex": null,
      "flex_flow": null,
      "grid_area": null,
      "grid_auto_columns": null,
      "grid_auto_flow": null,
      "grid_auto_rows": null,
      "grid_column": null,
      "grid_gap": null,
      "grid_row": null,
      "grid_template_areas": null,
      "grid_template_columns": null,
      "grid_template_rows": null,
      "height": null,
      "justify_content": null,
      "justify_items": null,
      "left": null,
      "margin": null,
      "max_height": null,
      "max_width": null,
      "min_height": null,
      "min_width": null,
      "object_fit": null,
      "object_position": null,
      "order": null,
      "overflow": null,
      "overflow_x": null,
      "overflow_y": null,
      "padding": null,
      "right": null,
      "top": null,
      "visibility": null,
      "width": null
     }
    },
    "8b293dff7a7d4effb0f41be4f01050e6": {
     "model_module": "@jupyter-widgets/controls",
     "model_module_version": "1.5.0",
     "model_name": "HTMLModel",
     "state": {
      "_dom_classes": [],
      "_model_module": "@jupyter-widgets/controls",
      "_model_module_version": "1.5.0",
      "_model_name": "HTMLModel",
      "_view_count": null,
      "_view_module": "@jupyter-widgets/controls",
      "_view_module_version": "1.5.0",
      "_view_name": "HTMLView",
      "description": "",
      "description_tooltip": null,
      "layout": "IPY_MODEL_3cdf054240594cf58da007844cb95b01",
      "placeholder": "​",
      "style": "IPY_MODEL_d48bd17ea26c4ceea4ab75094e4a1d7c",
      "value": " 39.3k/39.3k [00:00&lt;00:00, 1.33MB/s]"
     }
    },
    "8b84e1ef3f4e4baf8893ad81170d34f2": {
     "model_module": "@jupyter-widgets/base",
     "model_module_version": "1.2.0",
     "model_name": "LayoutModel",
     "state": {
      "_model_module": "@jupyter-widgets/base",
      "_model_module_version": "1.2.0",
      "_model_name": "LayoutModel",
      "_view_count": null,
      "_view_module": "@jupyter-widgets/base",
      "_view_module_version": "1.2.0",
      "_view_name": "LayoutView",
      "align_content": null,
      "align_items": null,
      "align_self": null,
      "border": null,
      "bottom": null,
      "display": null,
      "flex": null,
      "flex_flow": null,
      "grid_area": null,
      "grid_auto_columns": null,
      "grid_auto_flow": null,
      "grid_auto_rows": null,
      "grid_column": null,
      "grid_gap": null,
      "grid_row": null,
      "grid_template_areas": null,
      "grid_template_columns": null,
      "grid_template_rows": null,
      "height": null,
      "justify_content": null,
      "justify_items": null,
      "left": null,
      "margin": null,
      "max_height": null,
      "max_width": null,
      "min_height": null,
      "min_width": null,
      "object_fit": null,
      "object_position": null,
      "order": null,
      "overflow": null,
      "overflow_x": null,
      "overflow_y": null,
      "padding": null,
      "right": null,
      "top": null,
      "visibility": null,
      "width": null
     }
    },
    "8ced0cf847904b2ea408a243d889cd5f": {
     "model_module": "@jupyter-widgets/controls",
     "model_module_version": "1.5.0",
     "model_name": "FloatProgressModel",
     "state": {
      "_dom_classes": [],
      "_model_module": "@jupyter-widgets/controls",
      "_model_module_version": "1.5.0",
      "_model_name": "FloatProgressModel",
      "_view_count": null,
      "_view_module": "@jupyter-widgets/controls",
      "_view_module_version": "1.5.0",
      "_view_name": "ProgressView",
      "bar_style": "success",
      "description": "",
      "description_tooltip": null,
      "layout": "IPY_MODEL_06e904f9bcc34eaba65e1ad4fde2b513",
      "max": 90888945,
      "min": 0,
      "orientation": "horizontal",
      "style": "IPY_MODEL_6cda3de9d06e430a903445d0d56e7da6",
      "value": 90888945
     }
    },
    "8cfb614dc69f40b2a18ed612a3ad4274": {
     "model_module": "@jupyter-widgets/controls",
     "model_module_version": "1.5.0",
     "model_name": "HTMLModel",
     "state": {
      "_dom_classes": [],
      "_model_module": "@jupyter-widgets/controls",
      "_model_module_version": "1.5.0",
      "_model_name": "HTMLModel",
      "_view_count": null,
      "_view_module": "@jupyter-widgets/controls",
      "_view_module_version": "1.5.0",
      "_view_name": "HTMLView",
      "description": "",
      "description_tooltip": null,
      "layout": "IPY_MODEL_7d9d99046deb44bab969c30597d2d6ba",
      "placeholder": "​",
      "style": "IPY_MODEL_f2e9d7c8560240c5a306444b50b0b223",
      "value": " 90.9M/90.9M [00:00&lt;00:00, 174MB/s]"
     }
    },
    "8d826506e3774696937d5a2e783167ba": {
     "model_module": "@jupyter-widgets/controls",
     "model_module_version": "1.5.0",
     "model_name": "DescriptionStyleModel",
     "state": {
      "_model_module": "@jupyter-widgets/controls",
      "_model_module_version": "1.5.0",
      "_model_name": "DescriptionStyleModel",
      "_view_count": null,
      "_view_module": "@jupyter-widgets/base",
      "_view_module_version": "1.2.0",
      "_view_name": "StyleView",
      "description_width": ""
     }
    },
    "8dcb88015c4341809989b8fd50ab40b4": {
     "model_module": "@jupyter-widgets/base",
     "model_module_version": "1.2.0",
     "model_name": "LayoutModel",
     "state": {
      "_model_module": "@jupyter-widgets/base",
      "_model_module_version": "1.2.0",
      "_model_name": "LayoutModel",
      "_view_count": null,
      "_view_module": "@jupyter-widgets/base",
      "_view_module_version": "1.2.0",
      "_view_name": "LayoutView",
      "align_content": null,
      "align_items": null,
      "align_self": null,
      "border": null,
      "bottom": null,
      "display": null,
      "flex": null,
      "flex_flow": null,
      "grid_area": null,
      "grid_auto_columns": null,
      "grid_auto_flow": null,
      "grid_auto_rows": null,
      "grid_column": null,
      "grid_gap": null,
      "grid_row": null,
      "grid_template_areas": null,
      "grid_template_columns": null,
      "grid_template_rows": null,
      "height": null,
      "justify_content": null,
      "justify_items": null,
      "left": null,
      "margin": null,
      "max_height": null,
      "max_width": null,
      "min_height": null,
      "min_width": null,
      "object_fit": null,
      "object_position": null,
      "order": null,
      "overflow": null,
      "overflow_x": null,
      "overflow_y": null,
      "padding": null,
      "right": null,
      "top": null,
      "visibility": null,
      "width": null
     }
    },
    "90dd762d49584f7b9f67724ae59919e0": {
     "model_module": "@jupyter-widgets/controls",
     "model_module_version": "1.5.0",
     "model_name": "FloatProgressModel",
     "state": {
      "_dom_classes": [],
      "_model_module": "@jupyter-widgets/controls",
      "_model_module_version": "1.5.0",
      "_model_name": "FloatProgressModel",
      "_view_count": null,
      "_view_module": "@jupyter-widgets/controls",
      "_view_module_version": "1.5.0",
      "_view_name": "ProgressView",
      "bar_style": "success",
      "description": "",
      "description_tooltip": null,
      "layout": "IPY_MODEL_23f39db8f180450aa02587a2694de531",
      "max": 39265,
      "min": 0,
      "orientation": "horizontal",
      "style": "IPY_MODEL_b0f5f886a542474dad175213d05a30fb",
      "value": 39265
     }
    },
    "91973ee528ba440caa343d48526bece6": {
     "model_module": "@jupyter-widgets/controls",
     "model_module_version": "1.5.0",
     "model_name": "DescriptionStyleModel",
     "state": {
      "_model_module": "@jupyter-widgets/controls",
      "_model_module_version": "1.5.0",
      "_model_name": "DescriptionStyleModel",
      "_view_count": null,
      "_view_module": "@jupyter-widgets/base",
      "_view_module_version": "1.2.0",
      "_view_name": "StyleView",
      "description_width": ""
     }
    },
    "9427ef5d2acb4d2a8fe5c8466a97fb52": {
     "model_module": "@jupyter-widgets/base",
     "model_module_version": "1.2.0",
     "model_name": "LayoutModel",
     "state": {
      "_model_module": "@jupyter-widgets/base",
      "_model_module_version": "1.2.0",
      "_model_name": "LayoutModel",
      "_view_count": null,
      "_view_module": "@jupyter-widgets/base",
      "_view_module_version": "1.2.0",
      "_view_name": "LayoutView",
      "align_content": null,
      "align_items": null,
      "align_self": null,
      "border": null,
      "bottom": null,
      "display": null,
      "flex": null,
      "flex_flow": null,
      "grid_area": null,
      "grid_auto_columns": null,
      "grid_auto_flow": null,
      "grid_auto_rows": null,
      "grid_column": null,
      "grid_gap": null,
      "grid_row": null,
      "grid_template_areas": null,
      "grid_template_columns": null,
      "grid_template_rows": null,
      "height": null,
      "justify_content": null,
      "justify_items": null,
      "left": null,
      "margin": null,
      "max_height": null,
      "max_width": null,
      "min_height": null,
      "min_width": null,
      "object_fit": null,
      "object_position": null,
      "order": null,
      "overflow": null,
      "overflow_x": null,
      "overflow_y": null,
      "padding": null,
      "right": null,
      "top": null,
      "visibility": null,
      "width": null
     }
    },
    "94ba7bb1e8df4a0d9d8d8cc096889b3c": {
     "model_module": "@jupyter-widgets/base",
     "model_module_version": "1.2.0",
     "model_name": "LayoutModel",
     "state": {
      "_model_module": "@jupyter-widgets/base",
      "_model_module_version": "1.2.0",
      "_model_name": "LayoutModel",
      "_view_count": null,
      "_view_module": "@jupyter-widgets/base",
      "_view_module_version": "1.2.0",
      "_view_name": "LayoutView",
      "align_content": null,
      "align_items": null,
      "align_self": null,
      "border": null,
      "bottom": null,
      "display": null,
      "flex": null,
      "flex_flow": null,
      "grid_area": null,
      "grid_auto_columns": null,
      "grid_auto_flow": null,
      "grid_auto_rows": null,
      "grid_column": null,
      "grid_gap": null,
      "grid_row": null,
      "grid_template_areas": null,
      "grid_template_columns": null,
      "grid_template_rows": null,
      "height": null,
      "justify_content": null,
      "justify_items": null,
      "left": null,
      "margin": null,
      "max_height": null,
      "max_width": null,
      "min_height": null,
      "min_width": null,
      "object_fit": null,
      "object_position": null,
      "order": null,
      "overflow": null,
      "overflow_x": null,
      "overflow_y": null,
      "padding": null,
      "right": null,
      "top": null,
      "visibility": null,
      "width": null
     }
    },
    "94e46ec3cc4147deb04dff637f682800": {
     "model_module": "@jupyter-widgets/controls",
     "model_module_version": "1.5.0",
     "model_name": "HTMLModel",
     "state": {
      "_dom_classes": [],
      "_model_module": "@jupyter-widgets/controls",
      "_model_module_version": "1.5.0",
      "_model_name": "HTMLModel",
      "_view_count": null,
      "_view_module": "@jupyter-widgets/controls",
      "_view_module_version": "1.5.0",
      "_view_name": "HTMLView",
      "description": "",
      "description_tooltip": null,
      "layout": "IPY_MODEL_0c25923f79094db690a305dfe6392135",
      "placeholder": "​",
      "style": "IPY_MODEL_5d017527f720461ebd585c42bc1b9fa2",
      "value": " 10.6k/10.6k [00:00&lt;00:00, 389kB/s]"
     }
    },
    "9597398e6e0b42818cc0bf20d606e136": {
     "model_module": "@jupyter-widgets/controls",
     "model_module_version": "1.5.0",
     "model_name": "HTMLModel",
     "state": {
      "_dom_classes": [],
      "_model_module": "@jupyter-widgets/controls",
      "_model_module_version": "1.5.0",
      "_model_name": "HTMLModel",
      "_view_count": null,
      "_view_module": "@jupyter-widgets/controls",
      "_view_module_version": "1.5.0",
      "_view_name": "HTMLView",
      "description": "",
      "description_tooltip": null,
      "layout": "IPY_MODEL_db116e0dc337464fbc2f6e448d38a91c",
      "placeholder": "​",
      "style": "IPY_MODEL_a59bed3b73c4429bae92a6a263203608",
      "value": "Downloading (…)5de9125/modules.json: 100%"
     }
    },
    "978bec63a7a44cb798a2c0bc8b22b16e": {
     "model_module": "@jupyter-widgets/base",
     "model_module_version": "1.2.0",
     "model_name": "LayoutModel",
     "state": {
      "_model_module": "@jupyter-widgets/base",
      "_model_module_version": "1.2.0",
      "_model_name": "LayoutModel",
      "_view_count": null,
      "_view_module": "@jupyter-widgets/base",
      "_view_module_version": "1.2.0",
      "_view_name": "LayoutView",
      "align_content": null,
      "align_items": null,
      "align_self": null,
      "border": null,
      "bottom": null,
      "display": null,
      "flex": null,
      "flex_flow": null,
      "grid_area": null,
      "grid_auto_columns": null,
      "grid_auto_flow": null,
      "grid_auto_rows": null,
      "grid_column": null,
      "grid_gap": null,
      "grid_row": null,
      "grid_template_areas": null,
      "grid_template_columns": null,
      "grid_template_rows": null,
      "height": null,
      "justify_content": null,
      "justify_items": null,
      "left": null,
      "margin": null,
      "max_height": null,
      "max_width": null,
      "min_height": null,
      "min_width": null,
      "object_fit": null,
      "object_position": null,
      "order": null,
      "overflow": null,
      "overflow_x": null,
      "overflow_y": null,
      "padding": null,
      "right": null,
      "top": null,
      "visibility": null,
      "width": null
     }
    },
    "979aa225a16c457eb2876047bd4ec2cb": {
     "model_module": "@jupyter-widgets/base",
     "model_module_version": "1.2.0",
     "model_name": "LayoutModel",
     "state": {
      "_model_module": "@jupyter-widgets/base",
      "_model_module_version": "1.2.0",
      "_model_name": "LayoutModel",
      "_view_count": null,
      "_view_module": "@jupyter-widgets/base",
      "_view_module_version": "1.2.0",
      "_view_name": "LayoutView",
      "align_content": null,
      "align_items": null,
      "align_self": null,
      "border": null,
      "bottom": null,
      "display": null,
      "flex": null,
      "flex_flow": null,
      "grid_area": null,
      "grid_auto_columns": null,
      "grid_auto_flow": null,
      "grid_auto_rows": null,
      "grid_column": null,
      "grid_gap": null,
      "grid_row": null,
      "grid_template_areas": null,
      "grid_template_columns": null,
      "grid_template_rows": null,
      "height": null,
      "justify_content": null,
      "justify_items": null,
      "left": null,
      "margin": null,
      "max_height": null,
      "max_width": null,
      "min_height": null,
      "min_width": null,
      "object_fit": null,
      "object_position": null,
      "order": null,
      "overflow": null,
      "overflow_x": null,
      "overflow_y": null,
      "padding": null,
      "right": null,
      "top": null,
      "visibility": null,
      "width": null
     }
    },
    "9c35302f8b144f9f895af4a08ba34d64": {
     "model_module": "@jupyter-widgets/controls",
     "model_module_version": "1.5.0",
     "model_name": "HBoxModel",
     "state": {
      "_dom_classes": [],
      "_model_module": "@jupyter-widgets/controls",
      "_model_module_version": "1.5.0",
      "_model_name": "HBoxModel",
      "_view_count": null,
      "_view_module": "@jupyter-widgets/controls",
      "_view_module_version": "1.5.0",
      "_view_name": "HBoxView",
      "box_style": "",
      "children": [
       "IPY_MODEL_cf396aed843245bebef9d87d04b23e74",
       "IPY_MODEL_90dd762d49584f7b9f67724ae59919e0",
       "IPY_MODEL_8b293dff7a7d4effb0f41be4f01050e6"
      ],
      "layout": "IPY_MODEL_4de053c5bce94092b749298e69ae4bf7"
     }
    },
    "9e3315b1d6fa4af5a79c7f2a5d8b72e1": {
     "model_module": "@jupyter-widgets/controls",
     "model_module_version": "1.5.0",
     "model_name": "ProgressStyleModel",
     "state": {
      "_model_module": "@jupyter-widgets/controls",
      "_model_module_version": "1.5.0",
      "_model_name": "ProgressStyleModel",
      "_view_count": null,
      "_view_module": "@jupyter-widgets/base",
      "_view_module_version": "1.2.0",
      "_view_name": "StyleView",
      "bar_color": null,
      "description_width": ""
     }
    },
    "a02b313086b24d329713ec63fa178c1c": {
     "model_module": "@jupyter-widgets/controls",
     "model_module_version": "1.5.0",
     "model_name": "HBoxModel",
     "state": {
      "_dom_classes": [],
      "_model_module": "@jupyter-widgets/controls",
      "_model_module_version": "1.5.0",
      "_model_name": "HBoxModel",
      "_view_count": null,
      "_view_module": "@jupyter-widgets/controls",
      "_view_module_version": "1.5.0",
      "_view_name": "HBoxView",
      "box_style": "",
      "children": [
       "IPY_MODEL_9597398e6e0b42818cc0bf20d606e136",
       "IPY_MODEL_e437cd00a9394d9cbab85804a48d0776",
       "IPY_MODEL_d5fd8eb2ce134c51884c1e77bc74d0c2"
      ],
      "layout": "IPY_MODEL_c2fc6b4b069c4fd0874b32a1a9fc4eab"
     }
    },
    "a1ddc0ad055a4cc0bee45a5f6dbb853d": {
     "model_module": "@jupyter-widgets/base",
     "model_module_version": "1.2.0",
     "model_name": "LayoutModel",
     "state": {
      "_model_module": "@jupyter-widgets/base",
      "_model_module_version": "1.2.0",
      "_model_name": "LayoutModel",
      "_view_count": null,
      "_view_module": "@jupyter-widgets/base",
      "_view_module_version": "1.2.0",
      "_view_name": "LayoutView",
      "align_content": null,
      "align_items": null,
      "align_self": null,
      "border": null,
      "bottom": null,
      "display": null,
      "flex": null,
      "flex_flow": null,
      "grid_area": null,
      "grid_auto_columns": null,
      "grid_auto_flow": null,
      "grid_auto_rows": null,
      "grid_column": null,
      "grid_gap": null,
      "grid_row": null,
      "grid_template_areas": null,
      "grid_template_columns": null,
      "grid_template_rows": null,
      "height": null,
      "justify_content": null,
      "justify_items": null,
      "left": null,
      "margin": null,
      "max_height": null,
      "max_width": null,
      "min_height": null,
      "min_width": null,
      "object_fit": null,
      "object_position": null,
      "order": null,
      "overflow": null,
      "overflow_x": null,
      "overflow_y": null,
      "padding": null,
      "right": null,
      "top": null,
      "visibility": null,
      "width": null
     }
    },
    "a3d189a86c8f4af38b2ce4fd83ccca58": {
     "model_module": "@jupyter-widgets/controls",
     "model_module_version": "1.5.0",
     "model_name": "ProgressStyleModel",
     "state": {
      "_model_module": "@jupyter-widgets/controls",
      "_model_module_version": "1.5.0",
      "_model_name": "ProgressStyleModel",
      "_view_count": null,
      "_view_module": "@jupyter-widgets/base",
      "_view_module_version": "1.2.0",
      "_view_name": "StyleView",
      "bar_color": null,
      "description_width": ""
     }
    },
    "a4549857801144aeac5afecdbb3855e3": {
     "model_module": "@jupyter-widgets/base",
     "model_module_version": "1.2.0",
     "model_name": "LayoutModel",
     "state": {
      "_model_module": "@jupyter-widgets/base",
      "_model_module_version": "1.2.0",
      "_model_name": "LayoutModel",
      "_view_count": null,
      "_view_module": "@jupyter-widgets/base",
      "_view_module_version": "1.2.0",
      "_view_name": "LayoutView",
      "align_content": null,
      "align_items": null,
      "align_self": null,
      "border": null,
      "bottom": null,
      "display": null,
      "flex": null,
      "flex_flow": null,
      "grid_area": null,
      "grid_auto_columns": null,
      "grid_auto_flow": null,
      "grid_auto_rows": null,
      "grid_column": null,
      "grid_gap": null,
      "grid_row": null,
      "grid_template_areas": null,
      "grid_template_columns": null,
      "grid_template_rows": null,
      "height": null,
      "justify_content": null,
      "justify_items": null,
      "left": null,
      "margin": null,
      "max_height": null,
      "max_width": null,
      "min_height": null,
      "min_width": null,
      "object_fit": null,
      "object_position": null,
      "order": null,
      "overflow": null,
      "overflow_x": null,
      "overflow_y": null,
      "padding": null,
      "right": null,
      "top": null,
      "visibility": null,
      "width": null
     }
    },
    "a59bed3b73c4429bae92a6a263203608": {
     "model_module": "@jupyter-widgets/controls",
     "model_module_version": "1.5.0",
     "model_name": "DescriptionStyleModel",
     "state": {
      "_model_module": "@jupyter-widgets/controls",
      "_model_module_version": "1.5.0",
      "_model_name": "DescriptionStyleModel",
      "_view_count": null,
      "_view_module": "@jupyter-widgets/base",
      "_view_module_version": "1.2.0",
      "_view_name": "StyleView",
      "description_width": ""
     }
    },
    "a65b3f78878540bdbf92bf413cae0bd0": {
     "model_module": "@jupyter-widgets/controls",
     "model_module_version": "1.5.0",
     "model_name": "DescriptionStyleModel",
     "state": {
      "_model_module": "@jupyter-widgets/controls",
      "_model_module_version": "1.5.0",
      "_model_name": "DescriptionStyleModel",
      "_view_count": null,
      "_view_module": "@jupyter-widgets/base",
      "_view_module_version": "1.2.0",
      "_view_name": "StyleView",
      "description_width": ""
     }
    },
    "aa6ec19780e84c6baf21d36e6f1382ff": {
     "model_module": "@jupyter-widgets/controls",
     "model_module_version": "1.5.0",
     "model_name": "FloatProgressModel",
     "state": {
      "_dom_classes": [],
      "_model_module": "@jupyter-widgets/controls",
      "_model_module_version": "1.5.0",
      "_model_name": "FloatProgressModel",
      "_view_count": null,
      "_view_module": "@jupyter-widgets/controls",
      "_view_module_version": "1.5.0",
      "_view_name": "ProgressView",
      "bar_style": "success",
      "description": "",
      "description_tooltip": null,
      "layout": "IPY_MODEL_1f4f25d8ef4c4f81b4c31e201f523afe",
      "max": 10610,
      "min": 0,
      "orientation": "horizontal",
      "style": "IPY_MODEL_d40007307ef74d4cbb20a610669d7b14",
      "value": 10610
     }
    },
    "ab63e62b5dfa49a190f49779d94fce0f": {
     "model_module": "@jupyter-widgets/base",
     "model_module_version": "1.2.0",
     "model_name": "LayoutModel",
     "state": {
      "_model_module": "@jupyter-widgets/base",
      "_model_module_version": "1.2.0",
      "_model_name": "LayoutModel",
      "_view_count": null,
      "_view_module": "@jupyter-widgets/base",
      "_view_module_version": "1.2.0",
      "_view_name": "LayoutView",
      "align_content": null,
      "align_items": null,
      "align_self": null,
      "border": null,
      "bottom": null,
      "display": null,
      "flex": null,
      "flex_flow": null,
      "grid_area": null,
      "grid_auto_columns": null,
      "grid_auto_flow": null,
      "grid_auto_rows": null,
      "grid_column": null,
      "grid_gap": null,
      "grid_row": null,
      "grid_template_areas": null,
      "grid_template_columns": null,
      "grid_template_rows": null,
      "height": null,
      "justify_content": null,
      "justify_items": null,
      "left": null,
      "margin": null,
      "max_height": null,
      "max_width": null,
      "min_height": null,
      "min_width": null,
      "object_fit": null,
      "object_position": null,
      "order": null,
      "overflow": null,
      "overflow_x": null,
      "overflow_y": null,
      "padding": null,
      "right": null,
      "top": null,
      "visibility": null,
      "width": null
     }
    },
    "acec5e6ac2ef4ce6b28f02494b9a86a7": {
     "model_module": "@jupyter-widgets/controls",
     "model_module_version": "1.5.0",
     "model_name": "FloatProgressModel",
     "state": {
      "_dom_classes": [],
      "_model_module": "@jupyter-widgets/controls",
      "_model_module_version": "1.5.0",
      "_model_name": "FloatProgressModel",
      "_view_count": null,
      "_view_module": "@jupyter-widgets/controls",
      "_view_module_version": "1.5.0",
      "_view_name": "ProgressView",
      "bar_style": "success",
      "description": "",
      "description_tooltip": null,
      "layout": "IPY_MODEL_5938d8855c4e465491f8a7142b6f06d4",
      "max": 231508,
      "min": 0,
      "orientation": "horizontal",
      "style": "IPY_MODEL_b90ef48f173d42f0b12c0067976185dd",
      "value": 231508
     }
    },
    "ae97c6eab0b44243a1de0654506642a8": {
     "model_module": "@jupyter-widgets/base",
     "model_module_version": "1.2.0",
     "model_name": "LayoutModel",
     "state": {
      "_model_module": "@jupyter-widgets/base",
      "_model_module_version": "1.2.0",
      "_model_name": "LayoutModel",
      "_view_count": null,
      "_view_module": "@jupyter-widgets/base",
      "_view_module_version": "1.2.0",
      "_view_name": "LayoutView",
      "align_content": null,
      "align_items": null,
      "align_self": null,
      "border": null,
      "bottom": null,
      "display": null,
      "flex": null,
      "flex_flow": null,
      "grid_area": null,
      "grid_auto_columns": null,
      "grid_auto_flow": null,
      "grid_auto_rows": null,
      "grid_column": null,
      "grid_gap": null,
      "grid_row": null,
      "grid_template_areas": null,
      "grid_template_columns": null,
      "grid_template_rows": null,
      "height": null,
      "justify_content": null,
      "justify_items": null,
      "left": null,
      "margin": null,
      "max_height": null,
      "max_width": null,
      "min_height": null,
      "min_width": null,
      "object_fit": null,
      "object_position": null,
      "order": null,
      "overflow": null,
      "overflow_x": null,
      "overflow_y": null,
      "padding": null,
      "right": null,
      "top": null,
      "visibility": null,
      "width": null
     }
    },
    "aeff3083356f4c76b12525fd80ae23b0": {
     "model_module": "@jupyter-widgets/controls",
     "model_module_version": "1.5.0",
     "model_name": "FloatProgressModel",
     "state": {
      "_dom_classes": [],
      "_model_module": "@jupyter-widgets/controls",
      "_model_module_version": "1.5.0",
      "_model_name": "FloatProgressModel",
      "_view_count": null,
      "_view_module": "@jupyter-widgets/controls",
      "_view_module_version": "1.5.0",
      "_view_name": "ProgressView",
      "bar_style": "success",
      "description": "",
      "description_tooltip": null,
      "layout": "IPY_MODEL_0eb8e05344f94e198aea607d34afdd4c",
      "max": 612,
      "min": 0,
      "orientation": "horizontal",
      "style": "IPY_MODEL_77fd6af80b694caab1661cadf616370e",
      "value": 612
     }
    },
    "b0f5f886a542474dad175213d05a30fb": {
     "model_module": "@jupyter-widgets/controls",
     "model_module_version": "1.5.0",
     "model_name": "ProgressStyleModel",
     "state": {
      "_model_module": "@jupyter-widgets/controls",
      "_model_module_version": "1.5.0",
      "_model_name": "ProgressStyleModel",
      "_view_count": null,
      "_view_module": "@jupyter-widgets/base",
      "_view_module_version": "1.2.0",
      "_view_name": "StyleView",
      "bar_color": null,
      "description_width": ""
     }
    },
    "b596091494ca4502b098ea8361d1fde7": {
     "model_module": "@jupyter-widgets/controls",
     "model_module_version": "1.5.0",
     "model_name": "HTMLModel",
     "state": {
      "_dom_classes": [],
      "_model_module": "@jupyter-widgets/controls",
      "_model_module_version": "1.5.0",
      "_model_name": "HTMLModel",
      "_view_count": null,
      "_view_module": "@jupyter-widgets/controls",
      "_view_module_version": "1.5.0",
      "_view_name": "HTMLView",
      "description": "",
      "description_tooltip": null,
      "layout": "IPY_MODEL_34c81671d08a49d08da63545fb26c763",
      "placeholder": "​",
      "style": "IPY_MODEL_559386561c6a4b59a664914106da8b26",
      "value": "Downloading (…)e9125/tokenizer.json: 100%"
     }
    },
    "b61d719737ad4b0cb910bc00bae128c6": {
     "model_module": "@jupyter-widgets/base",
     "model_module_version": "1.2.0",
     "model_name": "LayoutModel",
     "state": {
      "_model_module": "@jupyter-widgets/base",
      "_model_module_version": "1.2.0",
      "_model_name": "LayoutModel",
      "_view_count": null,
      "_view_module": "@jupyter-widgets/base",
      "_view_module_version": "1.2.0",
      "_view_name": "LayoutView",
      "align_content": null,
      "align_items": null,
      "align_self": null,
      "border": null,
      "bottom": null,
      "display": null,
      "flex": null,
      "flex_flow": null,
      "grid_area": null,
      "grid_auto_columns": null,
      "grid_auto_flow": null,
      "grid_auto_rows": null,
      "grid_column": null,
      "grid_gap": null,
      "grid_row": null,
      "grid_template_areas": null,
      "grid_template_columns": null,
      "grid_template_rows": null,
      "height": null,
      "justify_content": null,
      "justify_items": null,
      "left": null,
      "margin": null,
      "max_height": null,
      "max_width": null,
      "min_height": null,
      "min_width": null,
      "object_fit": null,
      "object_position": null,
      "order": null,
      "overflow": null,
      "overflow_x": null,
      "overflow_y": null,
      "padding": null,
      "right": null,
      "top": null,
      "visibility": null,
      "width": null
     }
    },
    "b90ef48f173d42f0b12c0067976185dd": {
     "model_module": "@jupyter-widgets/controls",
     "model_module_version": "1.5.0",
     "model_name": "ProgressStyleModel",
     "state": {
      "_model_module": "@jupyter-widgets/controls",
      "_model_module_version": "1.5.0",
      "_model_name": "ProgressStyleModel",
      "_view_count": null,
      "_view_module": "@jupyter-widgets/base",
      "_view_module_version": "1.2.0",
      "_view_name": "StyleView",
      "bar_color": null,
      "description_width": ""
     }
    },
    "bff5f50a10b44526ac1a70b9e26309bd": {
     "model_module": "@jupyter-widgets/controls",
     "model_module_version": "1.5.0",
     "model_name": "HTMLModel",
     "state": {
      "_dom_classes": [],
      "_model_module": "@jupyter-widgets/controls",
      "_model_module_version": "1.5.0",
      "_model_name": "HTMLModel",
      "_view_count": null,
      "_view_module": "@jupyter-widgets/controls",
      "_view_module_version": "1.5.0",
      "_view_name": "HTMLView",
      "description": "",
      "description_tooltip": null,
      "layout": "IPY_MODEL_d2240d8222f04c3fb3026f76b6f64fde",
      "placeholder": "​",
      "style": "IPY_MODEL_5ba6fc55a8784b8cbf462ef6c1752f2d",
      "value": " 53.0/53.0 [00:00&lt;00:00, 1.93kB/s]"
     }
    },
    "c2fc6b4b069c4fd0874b32a1a9fc4eab": {
     "model_module": "@jupyter-widgets/base",
     "model_module_version": "1.2.0",
     "model_name": "LayoutModel",
     "state": {
      "_model_module": "@jupyter-widgets/base",
      "_model_module_version": "1.2.0",
      "_model_name": "LayoutModel",
      "_view_count": null,
      "_view_module": "@jupyter-widgets/base",
      "_view_module_version": "1.2.0",
      "_view_name": "LayoutView",
      "align_content": null,
      "align_items": null,
      "align_self": null,
      "border": null,
      "bottom": null,
      "display": null,
      "flex": null,
      "flex_flow": null,
      "grid_area": null,
      "grid_auto_columns": null,
      "grid_auto_flow": null,
      "grid_auto_rows": null,
      "grid_column": null,
      "grid_gap": null,
      "grid_row": null,
      "grid_template_areas": null,
      "grid_template_columns": null,
      "grid_template_rows": null,
      "height": null,
      "justify_content": null,
      "justify_items": null,
      "left": null,
      "margin": null,
      "max_height": null,
      "max_width": null,
      "min_height": null,
      "min_width": null,
      "object_fit": null,
      "object_position": null,
      "order": null,
      "overflow": null,
      "overflow_x": null,
      "overflow_y": null,
      "padding": null,
      "right": null,
      "top": null,
      "visibility": null,
      "width": null
     }
    },
    "c32c96eedf8c40979499538fc77e5157": {
     "model_module": "@jupyter-widgets/controls",
     "model_module_version": "1.5.0",
     "model_name": "HTMLModel",
     "state": {
      "_dom_classes": [],
      "_model_module": "@jupyter-widgets/controls",
      "_model_module_version": "1.5.0",
      "_model_name": "HTMLModel",
      "_view_count": null,
      "_view_module": "@jupyter-widgets/controls",
      "_view_module_version": "1.5.0",
      "_view_name": "HTMLView",
      "description": "",
      "description_tooltip": null,
      "layout": "IPY_MODEL_40d82ac523b744308afaab433c9cfc04",
      "placeholder": "​",
      "style": "IPY_MODEL_3ed4b17fb6be439fb98b52711ca26926",
      "value": " 13.2k/13.2k [00:00&lt;00:00, 339kB/s]"
     }
    },
    "cb399c2da6d647daa0b61c66b7bb62e1": {
     "model_module": "@jupyter-widgets/controls",
     "model_module_version": "1.5.0",
     "model_name": "HTMLModel",
     "state": {
      "_dom_classes": [],
      "_model_module": "@jupyter-widgets/controls",
      "_model_module_version": "1.5.0",
      "_model_name": "HTMLModel",
      "_view_count": null,
      "_view_module": "@jupyter-widgets/controls",
      "_view_module_version": "1.5.0",
      "_view_name": "HTMLView",
      "description": "",
      "description_tooltip": null,
      "layout": "IPY_MODEL_068fa52688e14ccb9b9ef7d563e6554b",
      "placeholder": "​",
      "style": "IPY_MODEL_f68139de3bce4edd9e8a4ef20f4336b8",
      "value": "Downloading (…)ce_transformers.json: 100%"
     }
    },
    "cf396aed843245bebef9d87d04b23e74": {
     "model_module": "@jupyter-widgets/controls",
     "model_module_version": "1.5.0",
     "model_name": "HTMLModel",
     "state": {
      "_dom_classes": [],
      "_model_module": "@jupyter-widgets/controls",
      "_model_module_version": "1.5.0",
      "_model_name": "HTMLModel",
      "_view_count": null,
      "_view_module": "@jupyter-widgets/controls",
      "_view_module_version": "1.5.0",
      "_view_name": "HTMLView",
      "description": "",
      "description_tooltip": null,
      "layout": "IPY_MODEL_17edf15276544ca4b6b7d4f0c0ce7a7f",
      "placeholder": "​",
      "style": "IPY_MODEL_04bfdb51f1ef4eb6887d3c7098779d7b",
      "value": "Downloading (…)125/data_config.json: 100%"
     }
    },
    "d2240d8222f04c3fb3026f76b6f64fde": {
     "model_module": "@jupyter-widgets/base",
     "model_module_version": "1.2.0",
     "model_name": "LayoutModel",
     "state": {
      "_model_module": "@jupyter-widgets/base",
      "_model_module_version": "1.2.0",
      "_model_name": "LayoutModel",
      "_view_count": null,
      "_view_module": "@jupyter-widgets/base",
      "_view_module_version": "1.2.0",
      "_view_name": "LayoutView",
      "align_content": null,
      "align_items": null,
      "align_self": null,
      "border": null,
      "bottom": null,
      "display": null,
      "flex": null,
      "flex_flow": null,
      "grid_area": null,
      "grid_auto_columns": null,
      "grid_auto_flow": null,
      "grid_auto_rows": null,
      "grid_column": null,
      "grid_gap": null,
      "grid_row": null,
      "grid_template_areas": null,
      "grid_template_columns": null,
      "grid_template_rows": null,
      "height": null,
      "justify_content": null,
      "justify_items": null,
      "left": null,
      "margin": null,
      "max_height": null,
      "max_width": null,
      "min_height": null,
      "min_width": null,
      "object_fit": null,
      "object_position": null,
      "order": null,
      "overflow": null,
      "overflow_x": null,
      "overflow_y": null,
      "padding": null,
      "right": null,
      "top": null,
      "visibility": null,
      "width": null
     }
    },
    "d3bef7628483433392a4a0f601949245": {
     "model_module": "@jupyter-widgets/controls",
     "model_module_version": "1.5.0",
     "model_name": "HTMLModel",
     "state": {
      "_dom_classes": [],
      "_model_module": "@jupyter-widgets/controls",
      "_model_module_version": "1.5.0",
      "_model_name": "HTMLModel",
      "_view_count": null,
      "_view_module": "@jupyter-widgets/controls",
      "_view_module_version": "1.5.0",
      "_view_name": "HTMLView",
      "description": "",
      "description_tooltip": null,
      "layout": "IPY_MODEL_0ec21f386eb84d49b5e707fc0d2c9fd9",
      "placeholder": "​",
      "style": "IPY_MODEL_e67ccad5790a4b28b4fb8f4cbea11793",
      "value": "Downloading (…)9125/train_script.py: 100%"
     }
    },
    "d3d0f61214cb4b26994516a741ecff67": {
     "model_module": "@jupyter-widgets/base",
     "model_module_version": "1.2.0",
     "model_name": "LayoutModel",
     "state": {
      "_model_module": "@jupyter-widgets/base",
      "_model_module_version": "1.2.0",
      "_model_name": "LayoutModel",
      "_view_count": null,
      "_view_module": "@jupyter-widgets/base",
      "_view_module_version": "1.2.0",
      "_view_name": "LayoutView",
      "align_content": null,
      "align_items": null,
      "align_self": null,
      "border": null,
      "bottom": null,
      "display": null,
      "flex": null,
      "flex_flow": null,
      "grid_area": null,
      "grid_auto_columns": null,
      "grid_auto_flow": null,
      "grid_auto_rows": null,
      "grid_column": null,
      "grid_gap": null,
      "grid_row": null,
      "grid_template_areas": null,
      "grid_template_columns": null,
      "grid_template_rows": null,
      "height": null,
      "justify_content": null,
      "justify_items": null,
      "left": null,
      "margin": null,
      "max_height": null,
      "max_width": null,
      "min_height": null,
      "min_width": null,
      "object_fit": null,
      "object_position": null,
      "order": null,
      "overflow": null,
      "overflow_x": null,
      "overflow_y": null,
      "padding": null,
      "right": null,
      "top": null,
      "visibility": null,
      "width": null
     }
    },
    "d40007307ef74d4cbb20a610669d7b14": {
     "model_module": "@jupyter-widgets/controls",
     "model_module_version": "1.5.0",
     "model_name": "ProgressStyleModel",
     "state": {
      "_model_module": "@jupyter-widgets/controls",
      "_model_module_version": "1.5.0",
      "_model_name": "ProgressStyleModel",
      "_view_count": null,
      "_view_module": "@jupyter-widgets/base",
      "_view_module_version": "1.2.0",
      "_view_name": "StyleView",
      "bar_color": null,
      "description_width": ""
     }
    },
    "d46a05df23084489a84fc58a22e77ee1": {
     "model_module": "@jupyter-widgets/controls",
     "model_module_version": "1.5.0",
     "model_name": "DescriptionStyleModel",
     "state": {
      "_model_module": "@jupyter-widgets/controls",
      "_model_module_version": "1.5.0",
      "_model_name": "DescriptionStyleModel",
      "_view_count": null,
      "_view_module": "@jupyter-widgets/base",
      "_view_module_version": "1.2.0",
      "_view_name": "StyleView",
      "description_width": ""
     }
    },
    "d48bd17ea26c4ceea4ab75094e4a1d7c": {
     "model_module": "@jupyter-widgets/controls",
     "model_module_version": "1.5.0",
     "model_name": "DescriptionStyleModel",
     "state": {
      "_model_module": "@jupyter-widgets/controls",
      "_model_module_version": "1.5.0",
      "_model_name": "DescriptionStyleModel",
      "_view_count": null,
      "_view_module": "@jupyter-widgets/base",
      "_view_module_version": "1.2.0",
      "_view_name": "StyleView",
      "description_width": ""
     }
    },
    "d5fd8eb2ce134c51884c1e77bc74d0c2": {
     "model_module": "@jupyter-widgets/controls",
     "model_module_version": "1.5.0",
     "model_name": "HTMLModel",
     "state": {
      "_dom_classes": [],
      "_model_module": "@jupyter-widgets/controls",
      "_model_module_version": "1.5.0",
      "_model_name": "HTMLModel",
      "_view_count": null,
      "_view_module": "@jupyter-widgets/controls",
      "_view_module_version": "1.5.0",
      "_view_name": "HTMLView",
      "description": "",
      "description_tooltip": null,
      "layout": "IPY_MODEL_1a6316494eea4f288c7223fe0e2d7af6",
      "placeholder": "​",
      "style": "IPY_MODEL_1eb1cd2884f042a8b671665625ecd20e",
      "value": " 349/349 [00:00&lt;00:00, 5.88kB/s]"
     }
    },
    "d650e22ec4c546b9a91dc9ae4ca608de": {
     "model_module": "@jupyter-widgets/controls",
     "model_module_version": "1.5.0",
     "model_name": "HTMLModel",
     "state": {
      "_dom_classes": [],
      "_model_module": "@jupyter-widgets/controls",
      "_model_module_version": "1.5.0",
      "_model_name": "HTMLModel",
      "_view_count": null,
      "_view_module": "@jupyter-widgets/controls",
      "_view_module_version": "1.5.0",
      "_view_name": "HTMLView",
      "description": "",
      "description_tooltip": null,
      "layout": "IPY_MODEL_8dcb88015c4341809989b8fd50ab40b4",
      "placeholder": "​",
      "style": "IPY_MODEL_91973ee528ba440caa343d48526bece6",
      "value": " 190/190 [00:00&lt;00:00, 5.12kB/s]"
     }
    },
    "d96e2996d6e5471ca6d3a58543962c7f": {
     "model_module": "@jupyter-widgets/base",
     "model_module_version": "1.2.0",
     "model_name": "LayoutModel",
     "state": {
      "_model_module": "@jupyter-widgets/base",
      "_model_module_version": "1.2.0",
      "_model_name": "LayoutModel",
      "_view_count": null,
      "_view_module": "@jupyter-widgets/base",
      "_view_module_version": "1.2.0",
      "_view_name": "LayoutView",
      "align_content": null,
      "align_items": null,
      "align_self": null,
      "border": null,
      "bottom": null,
      "display": null,
      "flex": null,
      "flex_flow": null,
      "grid_area": null,
      "grid_auto_columns": null,
      "grid_auto_flow": null,
      "grid_auto_rows": null,
      "grid_column": null,
      "grid_gap": null,
      "grid_row": null,
      "grid_template_areas": null,
      "grid_template_columns": null,
      "grid_template_rows": null,
      "height": null,
      "justify_content": null,
      "justify_items": null,
      "left": null,
      "margin": null,
      "max_height": null,
      "max_width": null,
      "min_height": null,
      "min_width": null,
      "object_fit": null,
      "object_position": null,
      "order": null,
      "overflow": null,
      "overflow_x": null,
      "overflow_y": null,
      "padding": null,
      "right": null,
      "top": null,
      "visibility": null,
      "width": null
     }
    },
    "db116e0dc337464fbc2f6e448d38a91c": {
     "model_module": "@jupyter-widgets/base",
     "model_module_version": "1.2.0",
     "model_name": "LayoutModel",
     "state": {
      "_model_module": "@jupyter-widgets/base",
      "_model_module_version": "1.2.0",
      "_model_name": "LayoutModel",
      "_view_count": null,
      "_view_module": "@jupyter-widgets/base",
      "_view_module_version": "1.2.0",
      "_view_name": "LayoutView",
      "align_content": null,
      "align_items": null,
      "align_self": null,
      "border": null,
      "bottom": null,
      "display": null,
      "flex": null,
      "flex_flow": null,
      "grid_area": null,
      "grid_auto_columns": null,
      "grid_auto_flow": null,
      "grid_auto_rows": null,
      "grid_column": null,
      "grid_gap": null,
      "grid_row": null,
      "grid_template_areas": null,
      "grid_template_columns": null,
      "grid_template_rows": null,
      "height": null,
      "justify_content": null,
      "justify_items": null,
      "left": null,
      "margin": null,
      "max_height": null,
      "max_width": null,
      "min_height": null,
      "min_width": null,
      "object_fit": null,
      "object_position": null,
      "order": null,
      "overflow": null,
      "overflow_x": null,
      "overflow_y": null,
      "padding": null,
      "right": null,
      "top": null,
      "visibility": null,
      "width": null
     }
    },
    "dc6b2347d5aa41a5b145cf3a7397bd22": {
     "model_module": "@jupyter-widgets/controls",
     "model_module_version": "1.5.0",
     "model_name": "DescriptionStyleModel",
     "state": {
      "_model_module": "@jupyter-widgets/controls",
      "_model_module_version": "1.5.0",
      "_model_name": "DescriptionStyleModel",
      "_view_count": null,
      "_view_module": "@jupyter-widgets/base",
      "_view_module_version": "1.2.0",
      "_view_name": "StyleView",
      "description_width": ""
     }
    },
    "de326806730f4db39136747c775d5053": {
     "model_module": "@jupyter-widgets/base",
     "model_module_version": "1.2.0",
     "model_name": "LayoutModel",
     "state": {
      "_model_module": "@jupyter-widgets/base",
      "_model_module_version": "1.2.0",
      "_model_name": "LayoutModel",
      "_view_count": null,
      "_view_module": "@jupyter-widgets/base",
      "_view_module_version": "1.2.0",
      "_view_name": "LayoutView",
      "align_content": null,
      "align_items": null,
      "align_self": null,
      "border": null,
      "bottom": null,
      "display": null,
      "flex": null,
      "flex_flow": null,
      "grid_area": null,
      "grid_auto_columns": null,
      "grid_auto_flow": null,
      "grid_auto_rows": null,
      "grid_column": null,
      "grid_gap": null,
      "grid_row": null,
      "grid_template_areas": null,
      "grid_template_columns": null,
      "grid_template_rows": null,
      "height": null,
      "justify_content": null,
      "justify_items": null,
      "left": null,
      "margin": null,
      "max_height": null,
      "max_width": null,
      "min_height": null,
      "min_width": null,
      "object_fit": null,
      "object_position": null,
      "order": null,
      "overflow": null,
      "overflow_x": null,
      "overflow_y": null,
      "padding": null,
      "right": null,
      "top": null,
      "visibility": null,
      "width": null
     }
    },
    "df2162163cfb4f1789dc587136d74893": {
     "model_module": "@jupyter-widgets/controls",
     "model_module_version": "1.5.0",
     "model_name": "FloatProgressModel",
     "state": {
      "_dom_classes": [],
      "_model_module": "@jupyter-widgets/controls",
      "_model_module_version": "1.5.0",
      "_model_name": "FloatProgressModel",
      "_view_count": null,
      "_view_module": "@jupyter-widgets/controls",
      "_view_module_version": "1.5.0",
      "_view_name": "ProgressView",
      "bar_style": "success",
      "description": "",
      "description_tooltip": null,
      "layout": "IPY_MODEL_13feae4fece446c48bf8487c66b42b99",
      "max": 466247,
      "min": 0,
      "orientation": "horizontal",
      "style": "IPY_MODEL_6fec436902374c22a195381eca12ca3c",
      "value": 466247
     }
    },
    "e0f2b561735144fc86e560324acdf343": {
     "model_module": "@jupyter-widgets/controls",
     "model_module_version": "1.5.0",
     "model_name": "ProgressStyleModel",
     "state": {
      "_model_module": "@jupyter-widgets/controls",
      "_model_module_version": "1.5.0",
      "_model_name": "ProgressStyleModel",
      "_view_count": null,
      "_view_module": "@jupyter-widgets/base",
      "_view_module_version": "1.2.0",
      "_view_name": "StyleView",
      "bar_color": null,
      "description_width": ""
     }
    },
    "e14ca8d259b24fab84dfba1aa2218d59": {
     "model_module": "@jupyter-widgets/controls",
     "model_module_version": "1.5.0",
     "model_name": "HBoxModel",
     "state": {
      "_dom_classes": [],
      "_model_module": "@jupyter-widgets/controls",
      "_model_module_version": "1.5.0",
      "_model_name": "HBoxModel",
      "_view_count": null,
      "_view_module": "@jupyter-widgets/controls",
      "_view_module_version": "1.5.0",
      "_view_name": "HBoxView",
      "box_style": "",
      "children": [
       "IPY_MODEL_6b1f601db2fc4a2ca8044af807bf3317",
       "IPY_MODEL_58497dd85a8449fc8fa86b8a7cef517e",
       "IPY_MODEL_3acdc1ab7998441086ca25e9d0eeceb5"
      ],
      "layout": "IPY_MODEL_a4549857801144aeac5afecdbb3855e3"
     }
    },
    "e2174647d84f456894c301d076daccc6": {
     "model_module": "@jupyter-widgets/controls",
     "model_module_version": "1.5.0",
     "model_name": "DescriptionStyleModel",
     "state": {
      "_model_module": "@jupyter-widgets/controls",
      "_model_module_version": "1.5.0",
      "_model_name": "DescriptionStyleModel",
      "_view_count": null,
      "_view_module": "@jupyter-widgets/base",
      "_view_module_version": "1.2.0",
      "_view_name": "StyleView",
      "description_width": ""
     }
    },
    "e2cb2a278d174765ba068e594bacf506": {
     "model_module": "@jupyter-widgets/controls",
     "model_module_version": "1.5.0",
     "model_name": "ProgressStyleModel",
     "state": {
      "_model_module": "@jupyter-widgets/controls",
      "_model_module_version": "1.5.0",
      "_model_name": "ProgressStyleModel",
      "_view_count": null,
      "_view_module": "@jupyter-widgets/base",
      "_view_module_version": "1.2.0",
      "_view_name": "StyleView",
      "bar_color": null,
      "description_width": ""
     }
    },
    "e437cd00a9394d9cbab85804a48d0776": {
     "model_module": "@jupyter-widgets/controls",
     "model_module_version": "1.5.0",
     "model_name": "FloatProgressModel",
     "state": {
      "_dom_classes": [],
      "_model_module": "@jupyter-widgets/controls",
      "_model_module_version": "1.5.0",
      "_model_name": "FloatProgressModel",
      "_view_count": null,
      "_view_module": "@jupyter-widgets/controls",
      "_view_module_version": "1.5.0",
      "_view_name": "ProgressView",
      "bar_style": "success",
      "description": "",
      "description_tooltip": null,
      "layout": "IPY_MODEL_f220a257ddae4074a9f0578d19d83898",
      "max": 349,
      "min": 0,
      "orientation": "horizontal",
      "style": "IPY_MODEL_9e3315b1d6fa4af5a79c7f2a5d8b72e1",
      "value": 349
     }
    },
    "e44c3390c36f4984890794347ec8b3f4": {
     "model_module": "@jupyter-widgets/controls",
     "model_module_version": "1.5.0",
     "model_name": "HBoxModel",
     "state": {
      "_dom_classes": [],
      "_model_module": "@jupyter-widgets/controls",
      "_model_module_version": "1.5.0",
      "_model_name": "HBoxModel",
      "_view_count": null,
      "_view_module": "@jupyter-widgets/controls",
      "_view_module_version": "1.5.0",
      "_view_name": "HBoxView",
      "box_style": "",
      "children": [
       "IPY_MODEL_7ef89419529c4539b344279bf6007469",
       "IPY_MODEL_acec5e6ac2ef4ce6b28f02494b9a86a7",
       "IPY_MODEL_8417d72b57c541dbb4b0bacdac024c2d"
      ],
      "layout": "IPY_MODEL_d96e2996d6e5471ca6d3a58543962c7f"
     }
    },
    "e67ccad5790a4b28b4fb8f4cbea11793": {
     "model_module": "@jupyter-widgets/controls",
     "model_module_version": "1.5.0",
     "model_name": "DescriptionStyleModel",
     "state": {
      "_model_module": "@jupyter-widgets/controls",
      "_model_module_version": "1.5.0",
      "_model_name": "DescriptionStyleModel",
      "_view_count": null,
      "_view_module": "@jupyter-widgets/base",
      "_view_module_version": "1.2.0",
      "_view_name": "StyleView",
      "description_width": ""
     }
    },
    "e9250b02100440539c5e6fdac93cd766": {
     "model_module": "@jupyter-widgets/controls",
     "model_module_version": "1.5.0",
     "model_name": "HTMLModel",
     "state": {
      "_dom_classes": [],
      "_model_module": "@jupyter-widgets/controls",
      "_model_module_version": "1.5.0",
      "_model_name": "HTMLModel",
      "_view_count": null,
      "_view_module": "@jupyter-widgets/controls",
      "_view_module_version": "1.5.0",
      "_view_name": "HTMLView",
      "description": "",
      "description_tooltip": null,
      "layout": "IPY_MODEL_1881a3e932b44eb2b9c528e1d8ccdad3",
      "placeholder": "​",
      "style": "IPY_MODEL_6e1be64341b14192b2d31c5f31f50661",
      "value": "Downloading (…)nce_bert_config.json: 100%"
     }
    },
    "edea84b8970b4fcbae739b671b348eb9": {
     "model_module": "@jupyter-widgets/controls",
     "model_module_version": "1.5.0",
     "model_name": "HBoxModel",
     "state": {
      "_dom_classes": [],
      "_model_module": "@jupyter-widgets/controls",
      "_model_module_version": "1.5.0",
      "_model_name": "HBoxModel",
      "_view_count": null,
      "_view_module": "@jupyter-widgets/controls",
      "_view_module_version": "1.5.0",
      "_view_name": "HBoxView",
      "box_style": "",
      "children": [
       "IPY_MODEL_d3bef7628483433392a4a0f601949245",
       "IPY_MODEL_76627019753945b797d61991479590ff",
       "IPY_MODEL_c32c96eedf8c40979499538fc77e5157"
      ],
      "layout": "IPY_MODEL_b61d719737ad4b0cb910bc00bae128c6"
     }
    },
    "ef706872818743d78b92de645d47705b": {
     "model_module": "@jupyter-widgets/controls",
     "model_module_version": "1.5.0",
     "model_name": "FloatProgressModel",
     "state": {
      "_dom_classes": [],
      "_model_module": "@jupyter-widgets/controls",
      "_model_module_version": "1.5.0",
      "_model_name": "FloatProgressModel",
      "_view_count": null,
      "_view_module": "@jupyter-widgets/controls",
      "_view_module_version": "1.5.0",
      "_view_name": "ProgressView",
      "bar_style": "success",
      "description": "",
      "description_tooltip": null,
      "layout": "IPY_MODEL_0ae517dcf96e49a7bd107f6878cb45f5",
      "max": 53,
      "min": 0,
      "orientation": "horizontal",
      "style": "IPY_MODEL_1c70354d02254fcbb3c6c544420cd8bf",
      "value": 53
     }
    },
    "ef82036e7d7041d6807983f7627293f8": {
     "model_module": "@jupyter-widgets/base",
     "model_module_version": "1.2.0",
     "model_name": "LayoutModel",
     "state": {
      "_model_module": "@jupyter-widgets/base",
      "_model_module_version": "1.2.0",
      "_model_name": "LayoutModel",
      "_view_count": null,
      "_view_module": "@jupyter-widgets/base",
      "_view_module_version": "1.2.0",
      "_view_name": "LayoutView",
      "align_content": null,
      "align_items": null,
      "align_self": null,
      "border": null,
      "bottom": null,
      "display": null,
      "flex": null,
      "flex_flow": null,
      "grid_area": null,
      "grid_auto_columns": null,
      "grid_auto_flow": null,
      "grid_auto_rows": null,
      "grid_column": null,
      "grid_gap": null,
      "grid_row": null,
      "grid_template_areas": null,
      "grid_template_columns": null,
      "grid_template_rows": null,
      "height": null,
      "justify_content": null,
      "justify_items": null,
      "left": null,
      "margin": null,
      "max_height": null,
      "max_width": null,
      "min_height": null,
      "min_width": null,
      "object_fit": null,
      "object_position": null,
      "order": null,
      "overflow": null,
      "overflow_x": null,
      "overflow_y": null,
      "padding": null,
      "right": null,
      "top": null,
      "visibility": null,
      "width": null
     }
    },
    "f220a257ddae4074a9f0578d19d83898": {
     "model_module": "@jupyter-widgets/base",
     "model_module_version": "1.2.0",
     "model_name": "LayoutModel",
     "state": {
      "_model_module": "@jupyter-widgets/base",
      "_model_module_version": "1.2.0",
      "_model_name": "LayoutModel",
      "_view_count": null,
      "_view_module": "@jupyter-widgets/base",
      "_view_module_version": "1.2.0",
      "_view_name": "LayoutView",
      "align_content": null,
      "align_items": null,
      "align_self": null,
      "border": null,
      "bottom": null,
      "display": null,
      "flex": null,
      "flex_flow": null,
      "grid_area": null,
      "grid_auto_columns": null,
      "grid_auto_flow": null,
      "grid_auto_rows": null,
      "grid_column": null,
      "grid_gap": null,
      "grid_row": null,
      "grid_template_areas": null,
      "grid_template_columns": null,
      "grid_template_rows": null,
      "height": null,
      "justify_content": null,
      "justify_items": null,
      "left": null,
      "margin": null,
      "max_height": null,
      "max_width": null,
      "min_height": null,
      "min_width": null,
      "object_fit": null,
      "object_position": null,
      "order": null,
      "overflow": null,
      "overflow_x": null,
      "overflow_y": null,
      "padding": null,
      "right": null,
      "top": null,
      "visibility": null,
      "width": null
     }
    },
    "f2e9d7c8560240c5a306444b50b0b223": {
     "model_module": "@jupyter-widgets/controls",
     "model_module_version": "1.5.0",
     "model_name": "DescriptionStyleModel",
     "state": {
      "_model_module": "@jupyter-widgets/controls",
      "_model_module_version": "1.5.0",
      "_model_name": "DescriptionStyleModel",
      "_view_count": null,
      "_view_module": "@jupyter-widgets/base",
      "_view_module_version": "1.2.0",
      "_view_name": "StyleView",
      "description_width": ""
     }
    },
    "f3660c0a70bf460ba81ecf8b84ab13e3": {
     "model_module": "@jupyter-widgets/controls",
     "model_module_version": "1.5.0",
     "model_name": "DescriptionStyleModel",
     "state": {
      "_model_module": "@jupyter-widgets/controls",
      "_model_module_version": "1.5.0",
      "_model_name": "DescriptionStyleModel",
      "_view_count": null,
      "_view_module": "@jupyter-widgets/base",
      "_view_module_version": "1.2.0",
      "_view_name": "StyleView",
      "description_width": ""
     }
    },
    "f68139de3bce4edd9e8a4ef20f4336b8": {
     "model_module": "@jupyter-widgets/controls",
     "model_module_version": "1.5.0",
     "model_name": "DescriptionStyleModel",
     "state": {
      "_model_module": "@jupyter-widgets/controls",
      "_model_module_version": "1.5.0",
      "_model_name": "DescriptionStyleModel",
      "_view_count": null,
      "_view_module": "@jupyter-widgets/base",
      "_view_module_version": "1.2.0",
      "_view_name": "StyleView",
      "description_width": ""
     }
    },
    "fa5f9a7282d84de69573bdab66559e90": {
     "model_module": "@jupyter-widgets/controls",
     "model_module_version": "1.5.0",
     "model_name": "HTMLModel",
     "state": {
      "_dom_classes": [],
      "_model_module": "@jupyter-widgets/controls",
      "_model_module_version": "1.5.0",
      "_model_name": "HTMLModel",
      "_view_count": null,
      "_view_module": "@jupyter-widgets/controls",
      "_view_module_version": "1.5.0",
      "_view_name": "HTMLView",
      "description": "",
      "description_tooltip": null,
      "layout": "IPY_MODEL_705a80fbcf354266a458fd73981d3a2f",
      "placeholder": "​",
      "style": "IPY_MODEL_18d544cc27a64125aaba90011fd7b16c",
      "value": "Downloading (…)_Pooling/config.json: 100%"
     }
    },
    "fdd3a2837b6f4d7484ca07e704344b51": {
     "model_module": "@jupyter-widgets/controls",
     "model_module_version": "1.5.0",
     "model_name": "FloatProgressModel",
     "state": {
      "_dom_classes": [],
      "_model_module": "@jupyter-widgets/controls",
      "_model_module_version": "1.5.0",
      "_model_name": "FloatProgressModel",
      "_view_count": null,
      "_view_module": "@jupyter-widgets/controls",
      "_view_module_version": "1.5.0",
      "_view_name": "ProgressView",
      "bar_style": "success",
      "description": "",
      "description_tooltip": null,
      "layout": "IPY_MODEL_6ca689bbfa3b48459440a72fd156ff8a",
      "max": 116,
      "min": 0,
      "orientation": "horizontal",
      "style": "IPY_MODEL_2b0b9be6b19b4b0887e90abe105bb2bc",
      "value": 116
     }
    }
   }
  }
 },
 "nbformat": 4,
 "nbformat_minor": 1
}
