{
 "cells": [
  {
   "cell_type": "code",
   "execution_count": 2,
   "id": "4c0bb07b",
   "metadata": {},
   "outputs": [],
   "source": [
    "import pandas as pd\n",
    "import matplotlib.pyplot as plt\n",
    "import seaborn as sns\n",
    "import re"
   ]
  },
  {
   "cell_type": "code",
   "execution_count": 3,
   "id": "833c46b6",
   "metadata": {},
   "outputs": [],
   "source": [
    "pd.set_option(\"display.max_rows\", None)\n",
    "pd.set_option(\"display.max_columns\", None)"
   ]
  },
  {
   "cell_type": "code",
   "execution_count": 4,
   "id": "3406bf10",
   "metadata": {},
   "outputs": [],
   "source": [
    "df = pd.read_csv('../original_data_sets/en_training.tsv', sep='\\t')"
   ]
  },
  {
   "cell_type": "code",
   "execution_count": 5,
   "id": "2b8df027",
   "metadata": {},
   "outputs": [
    {
     "data": {
      "text/html": [
       "<div>\n",
       "<style scoped>\n",
       "    .dataframe tbody tr th:only-of-type {\n",
       "        vertical-align: middle;\n",
       "    }\n",
       "\n",
       "    .dataframe tbody tr th {\n",
       "        vertical-align: top;\n",
       "    }\n",
       "\n",
       "    .dataframe thead th {\n",
       "        text-align: right;\n",
       "    }\n",
       "</style>\n",
       "<table border=\"1\" class=\"dataframe\">\n",
       "  <thead>\n",
       "    <tr style=\"text-align: right;\">\n",
       "      <th></th>\n",
       "      <th>id</th>\n",
       "      <th>text</th>\n",
       "      <th>misogynous</th>\n",
       "      <th>misogyny_category</th>\n",
       "      <th>target</th>\n",
       "    </tr>\n",
       "  </thead>\n",
       "  <tbody>\n",
       "    <tr>\n",
       "      <th>0</th>\n",
       "      <td>1</td>\n",
       "      <td>Please tell me why the bitch next to me in the...</td>\n",
       "      <td>1</td>\n",
       "      <td>dominance</td>\n",
       "      <td>active</td>\n",
       "    </tr>\n",
       "    <tr>\n",
       "      <th>1</th>\n",
       "      <td>2</td>\n",
       "      <td>@emmasharp003 @Ldrake48Lee Bitch shut the fuck up</td>\n",
       "      <td>1</td>\n",
       "      <td>dominance</td>\n",
       "      <td>active</td>\n",
       "    </tr>\n",
       "    <tr>\n",
       "      <th>2</th>\n",
       "      <td>3</td>\n",
       "      <td>@abzdafab Dear cunt, please shut the fuck up.</td>\n",
       "      <td>1</td>\n",
       "      <td>dominance</td>\n",
       "      <td>active</td>\n",
       "    </tr>\n",
       "    <tr>\n",
       "      <th>3</th>\n",
       "      <td>4</td>\n",
       "      <td>RT @queenofdragonsb: Pls shut the fuck up bitch</td>\n",
       "      <td>1</td>\n",
       "      <td>dominance</td>\n",
       "      <td>active</td>\n",
       "    </tr>\n",
       "    <tr>\n",
       "      <th>4</th>\n",
       "      <td>5</td>\n",
       "      <td>RT @21bIvck: \"when u gonna get your license\" S...</td>\n",
       "      <td>1</td>\n",
       "      <td>dominance</td>\n",
       "      <td>active</td>\n",
       "    </tr>\n",
       "  </tbody>\n",
       "</table>\n",
       "</div>"
      ],
      "text/plain": [
       "   id                                               text  misogynous  \\\n",
       "0   1  Please tell me why the bitch next to me in the...           1   \n",
       "1   2  @emmasharp003 @Ldrake48Lee Bitch shut the fuck up           1   \n",
       "2   3      @abzdafab Dear cunt, please shut the fuck up.           1   \n",
       "3   4    RT @queenofdragonsb: Pls shut the fuck up bitch           1   \n",
       "4   5  RT @21bIvck: \"when u gonna get your license\" S...           1   \n",
       "\n",
       "  misogyny_category  target  \n",
       "0         dominance  active  \n",
       "1         dominance  active  \n",
       "2         dominance  active  \n",
       "3         dominance  active  \n",
       "4         dominance  active  "
      ]
     },
     "execution_count": 5,
     "metadata": {},
     "output_type": "execute_result"
    }
   ],
   "source": [
    "df.head()"
   ]
  },
  {
   "cell_type": "markdown",
   "id": "cf210e8e",
   "metadata": {},
   "source": [
    "## Distributions"
   ]
  },
  {
   "cell_type": "code",
   "execution_count": 6,
   "id": "dc611c67",
   "metadata": {},
   "outputs": [
    {
     "data": {
      "text/plain": [
       "0    2215\n",
       "1    1785\n",
       "Name: misogynous, dtype: int64"
      ]
     },
     "execution_count": 6,
     "metadata": {},
     "output_type": "execute_result"
    }
   ],
   "source": [
    "# analysis of the distribution of tweets with respect to the variable 'misogynous'\n",
    "\n",
    "df['misogynous'].value_counts()"
   ]
  },
  {
   "cell_type": "code",
   "execution_count": 7,
   "id": "6e9fcc20",
   "metadata": {},
   "outputs": [
    {
     "data": {
      "image/png": "[encoded data removed]",
      "text/plain": [
       "<Figure size 720x504 with 1 Axes>"
      ]
     },
     "metadata": {},
     "output_type": "display_data"
    }
   ],
   "source": [
    "# visualization of the above distribution by means of a barplot\n",
    "\n",
    "vals = list(df['misogynous'].unique())\n",
    "colors=['#f3c890', '#4f65d9']\n",
    "\n",
    "plt.rcParams[\"figure.figsize\"] = [10,7]\n",
    "sns.set_context(\"paper\", font_scale=1.5, rc={\"font.size\":16,\"axes.titlesize\":16,\"axes.labelsize\":16})\n",
    "sns.set_style(\"white\")\n",
    "\n",
    "df['misogynous'].value_counts().plot(kind='bar',color=colors[:], title='Distribution of misogynous and non-misogynous tweets')\n",
    "plt.xticks(fontsize=20, rotation=0)\n",
    "\n",
    "plt.show()"
   ]
  },
  {
   "cell_type": "code",
   "execution_count": 8,
   "id": "3d340683",
   "metadata": {},
   "outputs": [
    {
     "data": {
      "text/plain": [
       "0                    2215\n",
       "discredit            1014\n",
       "sexual_harassment     352\n",
       "stereotype            179\n",
       "dominance             148\n",
       "derailing              92\n",
       "Name: misogyny_category, dtype: int64"
      ]
     },
     "execution_count": 8,
     "metadata": {},
     "output_type": "execute_result"
    }
   ],
   "source": [
    "# analysis of the distribution of tweets with respect to the variable 'misogyny_category' considering the original five classes\n",
    "\n",
    "df['misogyny_category'].value_counts()"
   ]
  },
  {
   "cell_type": "code",
   "execution_count": 9,
   "id": "875dceae",
   "metadata": {},
   "outputs": [],
   "source": [
    "df_mis = df[df['misogynous'] == 1]  # we isolate the misogynous tweets"
   ]
  },
  {
   "cell_type": "code",
   "execution_count": 10,
   "id": "0273058c",
   "metadata": {},
   "outputs": [],
   "source": [
    "# visualization of the above distribution by means of a barplot\n",
    "\n",
    "ms_types =  df_mis.groupby([df['misogyny_category']]).size().reset_index().rename(columns={0:'count'})"
   ]
  },
  {
   "cell_type": "code",
   "execution_count": 11,
   "id": "7da41389",
   "metadata": {},
   "outputs": [],
   "source": [
    "ms_types = ms_types.sort_values(by='count', ascending=False)"
   ]
  },
  {
   "cell_type": "code",
   "execution_count": 12,
   "id": "a2b8a9db",
   "metadata": {
    "scrolled": false
   },
   "outputs": [
    {
     "data": {
      "image/png": "[encoded data removed]",
      "text/plain": [
       "<Figure size 720x504 with 1 Axes>"
      ]
     },
     "metadata": {},
     "output_type": "display_data"
    }
   ],
   "source": [
    "plt.pie(ms_types['count'], labels=ms_types['misogyny_category'], autopct='%1.1f%%', colors= ['#4f65d9','#7e8ffe','#8f9ff1', '#f3c890', '#dfdfdf'], pctdistance=0.7, labeldistance=1.15, textprops={'fontsize':16})\n",
    "#plt.tight_layout()\n",
    "plt.title(\"Distribution of misogyny categories\")\n",
    "plt.rcParams[\"figure.figsize\"] = [8,8]\n",
    "plt.show()"
   ]
  },
  {
   "cell_type": "code",
   "execution_count": 13,
   "id": "a87b1f2b",
   "metadata": {
    "scrolled": false
   },
   "outputs": [
    {
     "data": {
      "image/png": "[encoded data removed]",
      "text/plain": [
       "<Figure size 576x576 with 1 Axes>"
      ]
     },
     "metadata": {},
     "output_type": "display_data"
    }
   ],
   "source": [
    "# analysis and visualization of the distribution of tweets with respect to the variable 'misogyny_category' \n",
    "# considering three classes ('discredit', 'sexual_harassment' and 'stereotype_dominance')\n",
    "\n",
    "plt.pie([1014, 352, 327], labels= ['discredit', 'sexual_harassment', 'stereotyoe_dominance'], autopct='%1.1f%%', colors= ['#8f9ff1', '#f3c890', '#dfdfdf'], pctdistance=0.7, labeldistance=1.15, textprops={'fontsize':16})\n",
    "#plt.tight_layout()\n",
    "plt.rcParams[\"figure.figsize\"] = [8,8]\n",
    "plt.show()"
   ]
  },
  {
   "cell_type": "code",
   "execution_count": 14,
   "id": "eb04e997",
   "metadata": {},
   "outputs": [],
   "source": [
    "# analysis and visualization of the distribution of tweets with respect to the variable 'misogyny_category' considering three \n",
    "# classes ('discredit', 'sexual_harassment' and 'stereotype_dominance') after the corrections that have been made to the \n",
    "# training set during the annotation of the professions (such improvements are explained at the end of Subsection 2.1)"
   ]
  },
  {
   "cell_type": "code",
   "execution_count": 15,
   "id": "0db8bad1",
   "metadata": {},
   "outputs": [],
   "source": [
    "# corrected_df is the new version of the trainin set resulting from the improvements mentioned in the previous cell\n",
    "# it will be generated later in thi Notebook. We uploaded it here because it was interesting to see the differences\n",
    "# in the distribution of the variables before and after the improvements\n",
    "\n",
    "corrected_df = pd.read_csv('../data_sets/corrected_df.csv')"
   ]
  },
  {
   "cell_type": "code",
   "execution_count": 16,
   "id": "52bc40b3",
   "metadata": {},
   "outputs": [
    {
     "data": {
      "text/plain": [
       "0                    2254\n",
       "discredit             982\n",
       "sexual_harassment     334\n",
       "stereotype            176\n",
       "dominance             145\n",
       "derailing              90\n",
       "Name: misogyny_category, dtype: int64"
      ]
     },
     "execution_count": 16,
     "metadata": {},
     "output_type": "execute_result"
    }
   ],
   "source": [
    "corrected_df['misogyny_category'].value_counts()"
   ]
  },
  {
   "cell_type": "code",
   "execution_count": 17,
   "id": "c1068fac",
   "metadata": {},
   "outputs": [
    {
     "data": {
      "text/plain": [
       "0    2254\n",
       "1    1727\n",
       "Name: misogynous, dtype: int64"
      ]
     },
     "execution_count": 17,
     "metadata": {},
     "output_type": "execute_result"
    }
   ],
   "source": [
    "# the new version of the training set obviously is different from the previous w.r.t. the distributions of both \"misogynousan\"\n",
    "# and \"misogyny_category\"\n",
    "\n",
    "corrected_df['misogynous'].value_counts()"
   ]
  },
  {
   "cell_type": "code",
   "execution_count": 18,
   "id": "811836f5",
   "metadata": {},
   "outputs": [
    {
     "data": {
      "text/plain": [
       "0                    2254\n",
       "discredit             982\n",
       "sexual_harassment     334\n",
       "stereotype            176\n",
       "dominance             145\n",
       "derailing              90\n",
       "Name: misogyny_category, dtype: int64"
      ]
     },
     "execution_count": 18,
     "metadata": {},
     "output_type": "execute_result"
    }
   ],
   "source": [
    "corrected_df['misogyny_category'].value_counts()"
   ]
  },
  {
   "cell_type": "code",
   "execution_count": 19,
   "id": "e8210aad",
   "metadata": {},
   "outputs": [
    {
     "data": {
      "image/png": "[encoded data removed]",
      "text/plain": [
       "<Figure size 576x576 with 1 Axes>"
      ]
     },
     "metadata": {},
     "output_type": "display_data"
    }
   ],
   "source": [
    "plt.pie([982, 334, 321], labels= ['discredit', 'sexual_harassment', 'stereotype_dominance'], autopct='%1.1f%%', colors= ['#8f9ff1', '#f3c890', '#dfdfdf'], pctdistance=0.7, labeldistance=1.15, textprops={'fontsize':16})\n",
    "#plt.tight_layout()\n",
    "plt.title(\"New distribution of misogyny categories\")\n",
    "plt.rcParams[\"figure.figsize\"] = [8,8]\n",
    "plt.show()"
   ]
  },
  {
   "cell_type": "markdown",
   "id": "87dddb76",
   "metadata": {},
   "source": [
    "## Annotation of professions"
   ]
  },
  {
   "cell_type": "code",
   "execution_count": 20,
   "id": "f5cffb0f",
   "metadata": {},
   "outputs": [],
   "source": [
    "# In order to ease the annotation, we decided to divide the tweets into two groups: the ones mentioning one or more users, \n",
    "# assuming that the first mention denotes the profile of the victim of misogyny (in reality, this did not always turned out\n",
    "# to be true), and those without mentions\n",
    "\n",
    "mentionre = re.compile(r'@[\\w]+')"
   ]
  },
  {
   "cell_type": "code",
   "execution_count": 21,
   "id": "088f49e9",
   "metadata": {},
   "outputs": [],
   "source": [
    "victims = []"
   ]
  },
  {
   "cell_type": "code",
   "execution_count": 22,
   "id": "d816d3c6",
   "metadata": {},
   "outputs": [],
   "source": [
    "for t in df_mis['text']:                   # if the tweet reports no mentions, we insert an empty string ('') in the list\n",
    "    m = mentionre.search(t)                # victims; otherwise, we insert the first mention found\n",
    "    if m:\n",
    "        victims.append(m.group())\n",
    "    else:\n",
    "        victims.append('')"
   ]
  },
  {
   "cell_type": "code",
   "execution_count": 23,
   "id": "c95954cb",
   "metadata": {},
   "outputs": [],
   "source": [
    "#victims"
   ]
  },
  {
   "cell_type": "code",
   "execution_count": 24,
   "id": "aa557103",
   "metadata": {},
   "outputs": [
    {
     "name": "stderr",
     "output_type": "stream",
     "text": [
      "C:\\Users\\aldoc\\AppData\\Local\\Temp\\ipykernel_23812\\3975547218.py:1: SettingWithCopyWarning: \n",
      "A value is trying to be set on a copy of a slice from a DataFrame.\n",
      "Try using .loc[row_indexer,col_indexer] = value instead\n",
      "\n",
      "See the caveats in the documentation: https://pandas.pydata.org/pandas-docs/stable/user_guide/indexing.html#returning-a-view-versus-a-copy\n",
      "  df_mis['victim'] = victims                 # we append the above list to the df\n"
     ]
    }
   ],
   "source": [
    "df_mis['victim'] = victims                 # we append the above list to the df"
   ]
  },
  {
   "cell_type": "code",
   "execution_count": 25,
   "id": "434c92b6",
   "metadata": {},
   "outputs": [],
   "source": [
    "# we create the two different dasets and export them in '.xlsx' format in order to make the annotation in Excel \n",
    "# These dataset available in the folder 'data_sets'\n",
    "\n",
    "df_only_men = df_mis[df_mis['victim'] != '']\n",
    "df_no_men = df_mis[df_mis['victim'] == '']"
   ]
  },
  {
   "cell_type": "code",
   "execution_count": 26,
   "id": "daf315f0",
   "metadata": {},
   "outputs": [],
   "source": [
    "# df_only_men.to_excel('df_only_men.xlsx', index=False)\n",
    "# df_no_men.to_excel('df_no_men.xlsx', index=False)"
   ]
  },
  {
   "cell_type": "markdown",
   "id": "daec8733",
   "metadata": {},
   "source": [
    "### Dataset correction"
   ]
  },
  {
   "cell_type": "code",
   "execution_count": 27,
   "id": "804df45c",
   "metadata": {},
   "outputs": [],
   "source": [
    "# both 'df_only_men.xlsx' 'df_no_men.xlsx' have been annotated with professions. As mentioned, this process allowed us to\n",
    "# discover and correct some incoerences across the original training set. In particular:\n",
    "# 1. Tweets that had been considered misogynous but actually are not, have been marked with the string 'mod' (modify). Their\n",
    "#    annotation must be changed into the one of 'non-misogynous' tweets\n",
    "# 2. Tweets reporting song titles and/ore lyrics are considered not misogynous and are deleted from the dataset"
   ]
  },
  {
   "cell_type": "code",
   "execution_count": 28,
   "id": "45a80329",
   "metadata": {},
   "outputs": [],
   "source": [
    "df_corr = df.copy()"
   ]
  },
  {
   "cell_type": "code",
   "execution_count": 29,
   "id": "fa6002fd",
   "metadata": {},
   "outputs": [],
   "source": [
    "# These two datasets are the annotated versions of the previously exported ones. They are available in the folder 'data_sets'\n",
    "\n",
    "df_mentions = pd.read_excel('../data_sets/df_only_men_annot.xlsx',) \n",
    "df_no_mentions = pd.read_excel('../data_sets/df_no_men_annot.xlsx') "
   ]
  },
  {
   "cell_type": "code",
   "execution_count": 30,
   "id": "a61bd7b2",
   "metadata": {
    "scrolled": true
   },
   "outputs": [],
   "source": [
    "# we make the explained corrections\n",
    "\n",
    "def correct(d, d1):\n",
    "    for i in d1.index:\n",
    "        if d1[\"action\"][i] == 'mod':\n",
    "            id_tweet = d1[\"id\"][i]\n",
    "            d.loc[d['id'] == id_tweet, ['misogynous', 'misogyny_category', 'target']] = 0\n",
    "        if d1[\"action\"][i] == 'del':\n",
    "            id_tweet = d1[\"id\"][i]\n",
    "            d.drop(d.loc[d['id'] == id_tweet].index, inplace=True)\n",
    "    d = d.reset_index(drop=True, inplace=True)\n",
    "            \n",
    "correct(df_corr, df_mentions)\n",
    "correct(df_corr, df_no_mentions)"
   ]
  },
  {
   "cell_type": "code",
   "execution_count": 31,
   "id": "0a02cfd7",
   "metadata": {},
   "outputs": [],
   "source": [
    "#df_corr"
   ]
  },
  {
   "cell_type": "code",
   "execution_count": 32,
   "id": "07cb625e",
   "metadata": {},
   "outputs": [
    {
     "data": {
      "text/plain": [
       "0    2254\n",
       "1    1727\n",
       "Name: misogynous, dtype: int64"
      ]
     },
     "execution_count": 32,
     "metadata": {},
     "output_type": "execute_result"
    }
   ],
   "source": [
    "# Distribution of tweets w.r.t. the variable 'misogynous' after the correction\n",
    "\n",
    "df_corr['misogynous'].value_counts()"
   ]
  },
  {
   "cell_type": "code",
   "execution_count": 33,
   "id": "bbfb3ea0",
   "metadata": {},
   "outputs": [],
   "source": [
    "# here we export the dataset that we mentioned before. It is available in the folder 'data_sets'\n",
    "\n",
    "# df_corr.to_csv('corrected_df.csv', index=False)"
   ]
  },
  {
   "cell_type": "markdown",
   "id": "c062b077",
   "metadata": {},
   "source": [
    "### Dataset annotation with professions"
   ]
  },
  {
   "cell_type": "code",
   "execution_count": 34,
   "id": "58db8d82",
   "metadata": {},
   "outputs": [],
   "source": [
    "# we transfer on the dataframe 'df_corr' the labels related to professions assigned in Excel\n",
    "\n",
    "for i in df_mentions.index:\n",
    "    if df_mentions[\"action\"][i] != 'del':\n",
    "        id_tweet = df_mentions[\"id\"][i]\n",
    "        df_corr.loc[df_corr['id'] == id_tweet, 'occupation'] = df_mentions['occupation'][i]"
   ]
  },
  {
   "cell_type": "code",
   "execution_count": 35,
   "id": "e0b22174",
   "metadata": {},
   "outputs": [],
   "source": [
    "for i in df_no_mentions.index:\n",
    "    if df_no_mentions[\"action\"][i] != 'del':\n",
    "        id_tweet = df_no_mentions[\"id\"][i]\n",
    "        df_corr.loc[df_corr['id'] == id_tweet, 'occupation'] = df_no_mentions['occupation'][i]"
   ]
  },
  {
   "cell_type": "code",
   "execution_count": 36,
   "id": "b3e829c9",
   "metadata": {},
   "outputs": [],
   "source": [
    "# the column occupation has a lot of NaN, corresponding to the non-misogynous tweets. We fill them with 0 (coherently with)\n",
    "# the other levels of annotation w.r.t. 'non-misogynous' tweet\n",
    "\n",
    "df_corr['occupation'].fillna(0, inplace = True)"
   ]
  },
  {
   "cell_type": "code",
   "execution_count": 37,
   "id": "e9d1fda4",
   "metadata": {},
   "outputs": [],
   "source": [
    "#df_corr"
   ]
  },
  {
   "cell_type": "code",
   "execution_count": 38,
   "id": "4c0608fc",
   "metadata": {},
   "outputs": [
    {
     "data": {
      "text/plain": [
       "0            2254\n",
       "generic_r     760\n",
       "generic_g     696\n",
       "pol_act        97\n",
       "show           87\n",
       "no_woman       35\n",
       "sci_cul        21\n",
       "other          18\n",
       "sport           7\n",
       "arts            6\n",
       "Name: occupation, dtype: int64"
      ]
     },
     "execution_count": 38,
     "metadata": {},
     "output_type": "execute_result"
    }
   ],
   "source": [
    "# distribution of the labels introduced during the annotation of professions, as explained in the Subsection 2.1 of the report\n",
    "\n",
    "df_corr['occupation'].value_counts()"
   ]
  },
  {
   "cell_type": "code",
   "execution_count": 39,
   "id": "cb4f4158",
   "metadata": {},
   "outputs": [],
   "source": [
    "# the new dataset (corrected and annotated with professions) is exported. It is available in the folder 'data_sets'\n",
    "\n",
    "#df_corr.to_csv(\"final_df.csv\", sep=\",\", index=False)"
   ]
  }
 ],
 "metadata": {
  "kernelspec": {
   "display_name": "Python 3 (ipykernel)",
   "language": "python",
   "name": "python3"
  },
  "language_info": {
   "codemirror_mode": {
    "name": "ipython",
    "version": 3
   },
   "file_extension": ".py",
   "mimetype": "text/x-python",
   "name": "python",
   "nbconvert_exporter": "python",
   "pygments_lexer": "ipython3",
   "version": "3.9.12"
  }
 },
 "nbformat": 4,
 "nbformat_minor": 5
}
